{
 "cells": [
  {
   "attachments": {},
   "cell_type": "markdown",
   "id": "ef13a68b",
   "metadata": {},
   "source": [
    "Process dataset to obtain multimodal inputs"
   ]
  },
  {
   "attachments": {},
   "cell_type": "markdown",
   "id": "ba795da7",
   "metadata": {},
   "source": [
    "# Import dependency"
   ]
  },
  {
   "cell_type": "code",
   "execution_count": 2,
   "id": "1514da42",
   "metadata": {},
   "outputs": [],
   "source": [
    "import pandas as pd\n",
    "from rdkit import RDLogger\n",
    "from IPython.display import display\n",
    "from rdkit import Chem\n",
    "from rdkit.Chem import Draw\n",
    "from utils.helm_utils import get_cycpep_smi_from_helm\n",
    "\n",
    "pd.set_option('display.max_colwidth', None)\n",
    "\n",
    "def show_mol_from_smi_large(smi):\n",
    "    mol = Chem.MolFromSmiles(smi)\n",
    "    img = Draw.MolToImage(mol, size=(800, 800))\n",
    "    display(img)\n",
    "\n",
    "def count_n_monomers(helm):\n",
    "    return len(helm.split('.')) + len(helm.split('{')) - 2\n",
    "\n",
    "train = False"
   ]
  },
  {
   "attachments": {},
   "cell_type": "markdown",
   "id": "18d2d19b",
   "metadata": {},
   "source": [
    "# Cyclic peptides from CycPeptMPDB\n",
    "Process all HELMS in DF to get SMILES"
   ]
  },
  {
   "cell_type": "code",
   "execution_count": 3,
   "id": "3a800b5d",
   "metadata": {},
   "outputs": [
    {
     "data": {
      "text/html": [
       "<div>\n",
       "<style scoped>\n",
       "    .dataframe tbody tr th:only-of-type {\n",
       "        vertical-align: middle;\n",
       "    }\n",
       "\n",
       "    .dataframe tbody tr th {\n",
       "        vertical-align: top;\n",
       "    }\n",
       "\n",
       "    .dataframe thead th {\n",
       "        text-align: right;\n",
       "    }\n",
       "</style>\n",
       "<table border=\"1\" class=\"dataframe\">\n",
       "  <thead>\n",
       "    <tr style=\"text-align: right;\">\n",
       "      <th></th>\n",
       "      <th>smi</th>\n",
       "      <th>helm</th>\n",
       "      <th>n_mono</th>\n",
       "      <th>score</th>\n",
       "    </tr>\n",
       "  </thead>\n",
       "  <tbody>\n",
       "    <tr>\n",
       "      <th>0</th>\n",
       "      <td>CCCC[C@@H]1NC(=O)[C@H](CC(C)C)N(C)C(=O)CN(CCOc2ccccc2)C(=O)[C@H](C)NC(=O)CN(Cc2ccccc2Cn2cccn2)C(=O)[C@H]2CCCN2C1=O</td>\n",
       "      <td>PEPTIDE1{A.[Mono39].[meL].[Nle].[dP].[Mono45]}$PEPTIDE1,PEPTIDE1,1:R1-6:R2$$$</td>\n",
       "      <td>6</td>\n",
       "      <td>-5.38</td>\n",
       "    </tr>\n",
       "    <tr>\n",
       "      <th>1</th>\n",
       "      <td>CCCC[C@@H]1NC(=O)[C@@H](CC(C)C)N(C)C(=O)CN(CC2CCOCC2)C(=O)[C@@H](C)NC(=O)CN(Cc2ccc3c(c2)OCO3)C(=O)[C@@H]2CCCN2C1=O</td>\n",
       "      <td>PEPTIDE1{[dA].[Mono38].[Me_dL].[Nle].P.[Mono1]}$PEPTIDE1,PEPTIDE1,1:R1-6:R2$$$</td>\n",
       "      <td>6</td>\n",
       "      <td>-6.64</td>\n",
       "    </tr>\n",
       "    <tr>\n",
       "      <th>2</th>\n",
       "      <td>CC(C)C[C@@H]1C(=O)N[C@H](CC(C)C)C(=O)N2CCC[C@H]2C(=O)N(Cc2ccccc2)CC(=O)N[C@@H](Cc2ccccc2)C(=O)N2CCC[C@@H]2C(=O)N(C)[C@@H](C)C(=O)N1C</td>\n",
       "      <td>PEPTIDE1{[dP].[meA].[Me_dL].[dL].P.[Bn_Gly].F}$PEPTIDE1,PEPTIDE1,1:R1-7:R2$$$</td>\n",
       "      <td>7</td>\n",
       "      <td>-10.00</td>\n",
       "    </tr>\n",
       "    <tr>\n",
       "      <th>3</th>\n",
       "      <td>CCCN1CC(=O)N[C@@H](CC(C)C)C(=O)N[C@H](CC(C)C)C(=O)N2CCC[C@H]2C(=O)N[C@H](CC(C)C)C(=O)N[C@@H](Cc2ccccc2)C(=O)N2CCC[C@H]2C1=O</td>\n",
       "      <td>PEPTIDE1{P.[Pr_Gly].L.[dL].P.[dL].F}$PEPTIDE1,PEPTIDE1,1:R1-7:R2$$$</td>\n",
       "      <td>7</td>\n",
       "      <td>-5.89</td>\n",
       "    </tr>\n",
       "    <tr>\n",
       "      <th>4</th>\n",
       "      <td>CC(=O)N1CCC[C@H]1C(=O)N[C@@H]1C(=O)N(C)[C@H](CC(C)C)C(=O)N[C@@H](CC(C)C)C(=O)N(C)[C@H](CC(C)C)C(=O)N[C@H](CC(C)C)C(=O)N(C)[C@H](C)C(=O)N[C@@H](CC(C)C)C(=O)N2CCC[C@@H]2C(=O)O[C@@H]1C</td>\n",
       "      <td>PEPTIDE1{[ac-].P.T.[Me_dL].L.[Me_dL].[dL].[Me_dA].L.[dP]}$PEPTIDE1,PEPTIDE1,3:R3-10:R2$$$</td>\n",
       "      <td>10</td>\n",
       "      <td>-5.00</td>\n",
       "    </tr>\n",
       "  </tbody>\n",
       "</table>\n",
       "</div>"
      ],
      "text/plain": [
       "                                                                                                                                                                                     smi  \\\n",
       "0                                                                     CCCC[C@@H]1NC(=O)[C@H](CC(C)C)N(C)C(=O)CN(CCOc2ccccc2)C(=O)[C@H](C)NC(=O)CN(Cc2ccccc2Cn2cccn2)C(=O)[C@H]2CCCN2C1=O   \n",
       "1                                                                     CCCC[C@@H]1NC(=O)[C@@H](CC(C)C)N(C)C(=O)CN(CC2CCOCC2)C(=O)[C@@H](C)NC(=O)CN(Cc2ccc3c(c2)OCO3)C(=O)[C@@H]2CCCN2C1=O   \n",
       "2                                                   CC(C)C[C@@H]1C(=O)N[C@H](CC(C)C)C(=O)N2CCC[C@H]2C(=O)N(Cc2ccccc2)CC(=O)N[C@@H](Cc2ccccc2)C(=O)N2CCC[C@@H]2C(=O)N(C)[C@@H](C)C(=O)N1C   \n",
       "3                                                            CCCN1CC(=O)N[C@@H](CC(C)C)C(=O)N[C@H](CC(C)C)C(=O)N2CCC[C@H]2C(=O)N[C@H](CC(C)C)C(=O)N[C@@H](Cc2ccccc2)C(=O)N2CCC[C@H]2C1=O   \n",
       "4  CC(=O)N1CCC[C@H]1C(=O)N[C@@H]1C(=O)N(C)[C@H](CC(C)C)C(=O)N[C@@H](CC(C)C)C(=O)N(C)[C@H](CC(C)C)C(=O)N[C@H](CC(C)C)C(=O)N(C)[C@H](C)C(=O)N[C@@H](CC(C)C)C(=O)N2CCC[C@@H]2C(=O)O[C@@H]1C   \n",
       "\n",
       "                                                                                        helm  \\\n",
       "0              PEPTIDE1{A.[Mono39].[meL].[Nle].[dP].[Mono45]}$PEPTIDE1,PEPTIDE1,1:R1-6:R2$$$   \n",
       "1             PEPTIDE1{[dA].[Mono38].[Me_dL].[Nle].P.[Mono1]}$PEPTIDE1,PEPTIDE1,1:R1-6:R2$$$   \n",
       "2              PEPTIDE1{[dP].[meA].[Me_dL].[dL].P.[Bn_Gly].F}$PEPTIDE1,PEPTIDE1,1:R1-7:R2$$$   \n",
       "3                        PEPTIDE1{P.[Pr_Gly].L.[dL].P.[dL].F}$PEPTIDE1,PEPTIDE1,1:R1-7:R2$$$   \n",
       "4  PEPTIDE1{[ac-].P.T.[Me_dL].L.[Me_dL].[dL].[Me_dA].L.[dP]}$PEPTIDE1,PEPTIDE1,3:R3-10:R2$$$   \n",
       "\n",
       "   n_mono  score  \n",
       "0       6  -5.38  \n",
       "1       6  -6.64  \n",
       "2       7 -10.00  \n",
       "3       7  -5.89  \n",
       "4      10  -5.00  "
      ]
     },
     "metadata": {},
     "output_type": "display_data"
    }
   ],
   "source": [
    "# train = True\n",
    "\n",
    "if train:\n",
    "    df_cycpdb = pd.read_csv('data/CycPeptMPDB/CycPeptMPDB_Peptide_All_flt.csv')\n",
    "    df_cycpdb['smi'] = [get_cycpep_smi_from_helm(helm) for helm in df_cycpdb.HELM]\n",
    "    len(df_cycpdb[df_cycpdb.smi.isna()]), len(df_cycpdb)\n",
    "    display(df_cycpdb.helm_len.hist())\n",
    "    display(df_cycpdb['Permeability'].hist(bins=50))\n",
    "    \n",
    "    # Split df_cycpdb into train, test\n",
    "    df_cycpdb_all = df_cycpdb[['smi', 'HELM', 'Permeability']].rename(columns={'HELM': 'helm', 'Permeability': 'score'})\n",
    "    df_cycpdb_all['n_mono'] = [count_n_monomers(helm) for helm in df_cycpdb_all.helm]\n",
    "\n",
    "    df_cycpdb_all[['smi', 'helm', 'n_mono', 'score']].to_csv('data/CycPeptMPDB/all.csv', index=False)\n",
    "\n",
    "    # Split df_cycpdb into train, test\n",
    "    from sklearn.model_selection import train_test_split\n",
    "\n",
    "    df_cycpdb_train, df_cycpdb_test = train_test_split(df_cycpdb_all, test_size=0.2, random_state=42)\n",
    "\n",
    "    df_cycpdb_train[['smi', 'helm', 'score']].to_csv('data/CycPeptMPDB/train.csv', index=False)\n",
    "    df_cycpdb_test[['smi', 'helm', 'score']].to_csv('data/CycPeptMPDB/test.csv', index=False)\n",
    "else:\n",
    "    df_cycpdb_all = pd.read_csv('data/CycPeptMPDB/all.csv')\n",
    "    df_cycpdb_train = pd.read_csv('data/CycPeptMPDB/train.csv')\n",
    "    df_cycpdb_test = pd.read_csv('data/CycPeptMPDB/test.csv')\n",
    "\n",
    "display(df_cycpdb_train.head())\n",
    "# df_cycpdb_train.sample(1).apply(lambda x: show_mol_from_smi_large(x['smi']), axis=1)"
   ]
  },
  {
   "cell_type": "code",
   "execution_count": 4,
   "id": "2aa07992",
   "metadata": {},
   "outputs": [
    {
     "data": {
      "text/plain": [
       "<AxesSubplot:>"
      ]
     },
     "metadata": {},
     "output_type": "display_data"
    },
    {
     "data": {
      "image/png": "[encoded data removed]",
      "text/plain": [
       "<Figure size 640x480 with 1 Axes>"
      ]
     },
     "metadata": {},
     "output_type": "display_data"
    }
   ],
   "source": [
    "display(df_cycpdb_all['score'].hist(bins=50))"
   ]
  },
  {
   "cell_type": "code",
   "execution_count": 5,
   "id": "aef6afde",
   "metadata": {},
   "outputs": [
    {
     "data": {
      "text/plain": [
       "<AxesSubplot:>"
      ]
     },
     "metadata": {},
     "output_type": "display_data"
    },
    {
     "data": {
      "image/png": "[encoded data removed]",
      "text/plain": [
       "<Figure size 640x480 with 1 Axes>"
      ]
     },
     "metadata": {},
     "output_type": "display_data"
    }
   ],
   "source": [
    "df_cycpdb_all['helm_len'] = df_cycpdb_all['helm'].str.len()\n",
    "display(df_cycpdb_all['helm_len'].hist())"
   ]
  },
  {
   "attachments": {},
   "cell_type": "markdown",
   "id": "32dfe32f",
   "metadata": {},
   "source": [
    "# Linear peptides from PeptideAtlas"
   ]
  },
  {
   "cell_type": "code",
   "execution_count": 5,
   "id": "6e0c109b",
   "metadata": {},
   "outputs": [],
   "source": [
    "# check if all amino acids are natural\n",
    "def check_if_all_aas_are_natural(aa_seq):\n",
    "    return all([aa in 'ACDEFGHIKLMNPQRSTVWY' for aa in aa_seq])\n",
    "\n",
    "def get_is_natural_aa(df):\n",
    "    return [check_if_all_aas_are_natural(seq) for seq in df.aa_seq]\n",
    "\n",
    "def get_helm_from_aa_seq(aa_seq):\n",
    "    aa_seq = '.'.join(aa_seq)\n",
    "    return f'PEPTIDE1{{{aa_seq}}}$$$$'\n",
    "\n",
    "def get_linpep_smi_from_aa_seq(aa_seq):\n",
    "    if 'X' in aa_seq:\n",
    "        return None\n",
    "    \n",
    "    mol = Chem.MolFromSequence(aa_seq)\n",
    "    if mol:\n",
    "        return Chem.MolToSmiles(mol)\n",
    "    else:\n",
    "        return None"
   ]
  },
  {
   "cell_type": "code",
   "execution_count": 6,
   "id": "4fa62955",
   "metadata": {},
   "outputs": [],
   "source": [
    "def load_fasta_to_df(fa_path):\n",
    "    line_list = []\n",
    "    with open(fa_path, 'r') as f:\n",
    "        line_list = f.readlines()\n",
    "    \n",
    "    ids, seqs = [], []\n",
    "    for line in line_list:\n",
    "        if line.startswith('>'):\n",
    "            ids.append(line.strip().replace('>', ''))\n",
    "            counter = 0\n",
    "        else:\n",
    "            seqs.append(line.strip())\n",
    "            counter += 1\n",
    "        \n",
    "        if counter > 1:\n",
    "            raise Exception(f'More than one line for sequence {id}')\n",
    "    \n",
    "    df = pd.DataFrame({'id': ids, 'aa_seq': seqs})\n",
    "    return df"
   ]
  },
  {
   "cell_type": "code",
   "execution_count": 7,
   "id": "9417568a",
   "metadata": {},
   "outputs": [
    {
     "data": {
      "text/html": [
       "<div>\n",
       "<style scoped>\n",
       "    .dataframe tbody tr th:only-of-type {\n",
       "        vertical-align: middle;\n",
       "    }\n",
       "\n",
       "    .dataframe tbody tr th {\n",
       "        vertical-align: top;\n",
       "    }\n",
       "\n",
       "    .dataframe thead th {\n",
       "        text-align: right;\n",
       "    }\n",
       "</style>\n",
       "<table border=\"1\" class=\"dataframe\">\n",
       "  <thead>\n",
       "    <tr style=\"text-align: right;\">\n",
       "      <th></th>\n",
       "      <th>smi</th>\n",
       "      <th>helm</th>\n",
       "      <th>aa_seq</th>\n",
       "      <th>n_mono</th>\n",
       "      <th>smi_len</th>\n",
       "    </tr>\n",
       "  </thead>\n",
       "  <tbody>\n",
       "    <tr>\n",
       "      <th>0</th>\n",
       "      <td>CSCC[C@H](NC(=O)[C@@H]1CCCN1)C(=O)N[C@@H](CCCCN)C(=O)N[C@@H](CC(=O)O)C(=O)N[C@@H](CCC(=O)O)C(=O)N[C@H](C(=O)N[C@@H](Cc1ccccc1)C(=O)NCC(=O)N[C@@H](CCC(=O)O)C(=O)N[C@@H](Cc1ccc(O)cc1)C(=O)N[C@@H](CCCNC(=N)N)C(=O)O)[C@@H](C)O</td>\n",
       "      <td>PEPTIDE1{P.M.K.D.E.T.F.G.E.Y.R}$$$$</td>\n",
       "      <td>PMKDETFGEYR</td>\n",
       "      <td>11</td>\n",
       "      <td>222.0</td>\n",
       "    </tr>\n",
       "    <tr>\n",
       "      <th>1</th>\n",
       "      <td>CC[C@H](C)[C@H](NC(=O)[C@H](CCC(=O)O)NC(=O)[C@@H](NC(=O)[C@H](CC(C)C)NC(=O)[C@@H](NC(=O)[C@H](CC(=O)O)NC(=O)[C@H](CCC(=O)O)NC(=O)[C@H](CC(=O)O)NC(=O)[C@@H](NC(=O)CNC(=O)[C@H](CC(C)C)NC(=O)CN)[C@@H](C)O)[C@@H](C)O)[C@@H](C)CC)C(=O)N[C@@H](CC(C)C)C(=O)N[C@@H](C)C(=O)N[C@@H](CO)C(=O)O</td>\n",
       "      <td>PEPTIDE1{G.L.G.T.D.E.D.T.L.I.E.I.L.A.S}$$$$</td>\n",
       "      <td>GLGTDEDTLIEILAS</td>\n",
       "      <td>15</td>\n",
       "      <td>282.0</td>\n",
       "    </tr>\n",
       "    <tr>\n",
       "      <th>2</th>\n",
       "      <td>CSCC[C@H](N)C(=O)N[C@@H](CC(C)C)C(=O)N[C@@H](Cc1ccccc1)C(=O)N[C@@H](CS)C(=O)N[C@@H](CO)C(=O)N[C@@H](CS)C(=O)N[C@@H](CCC(N)=O)C(=O)N[C@@H](CC(=O)O)C(=O)N[C@@H](CCC(N)=O)C(=O)N[C@@H](C)C(=O)N[C@@H](CS)C(=O)N[C@@H](C)C(=O)N[C@@H](CCC(=O)O)C(=O)N[C@@H](CCCNC(=N)N)C(=O)O</td>\n",
       "      <td>PEPTIDE1{M.L.F.C.S.C.Q.D.Q.A.C.A.E.R}$$$$</td>\n",
       "      <td>MLFCSCQDQACAER</td>\n",
       "      <td>14</td>\n",
       "      <td>266.0</td>\n",
       "    </tr>\n",
       "    <tr>\n",
       "      <th>3</th>\n",
       "      <td>CC(C)C[C@H](NC(=O)[C@H](C)N)C(=O)N[C@@H](CCC(N)=O)C(=O)N[C@@H](CCC(N)=O)C(=O)N[C@@H](CCCNC(=N)N)C(=O)N[C@@H](CC(C)C)C(=O)N[C@@H](CCC(N)=O)C(=O)NCC(=O)N[C@@H](C)C(=O)N[C@@H](CCC(=O)O)C(=O)N[C@@H](CCC(=O)O)C(=O)O</td>\n",
       "      <td>PEPTIDE1{A.L.Q.Q.R.L.Q.G.A.E.E}$$$$</td>\n",
       "      <td>ALQQRLQGAEE</td>\n",
       "      <td>11</td>\n",
       "      <td>210.0</td>\n",
       "    </tr>\n",
       "    <tr>\n",
       "      <th>4</th>\n",
       "      <td>CC[C@H](C)[C@H](NC(=O)CNC(=O)[C@@H](N)Cc1ccccc1)C(=O)N[C@@H](CC(=O)O)C(=O)N[C@@H](CC(=O)O)C(=O)N[C@@H](CCC(N)=O)C(=O)N[C@@H](CC(=O)O)C(=O)N[C@@H](Cc1ccc(O)cc1)C(=O)N[C@@H](CC(C)C)C(=O)N[C@H](C(=O)N[C@H](C(=O)N[C@@H](CC(C)C)C(=O)N[C@H](C(=O)O)[C@@H](C)O)[C@@H](C)O)C(C)C</td>\n",
       "      <td>PEPTIDE1{F.G.I.D.D.Q.D.Y.L.V.T.L.T}$$$$</td>\n",
       "      <td>FGIDDQDYLVTLT</td>\n",
       "      <td>13</td>\n",
       "      <td>269.0</td>\n",
       "    </tr>\n",
       "  </tbody>\n",
       "</table>\n",
       "</div>"
      ],
      "text/plain": [
       "                                                                                                                                                                                                                                                                                          smi  \\\n",
       "0                                                              CSCC[C@H](NC(=O)[C@@H]1CCCN1)C(=O)N[C@@H](CCCCN)C(=O)N[C@@H](CC(=O)O)C(=O)N[C@@H](CCC(=O)O)C(=O)N[C@H](C(=O)N[C@@H](Cc1ccccc1)C(=O)NCC(=O)N[C@@H](CCC(=O)O)C(=O)N[C@@H](Cc1ccc(O)cc1)C(=O)N[C@@H](CCCNC(=N)N)C(=O)O)[C@@H](C)O   \n",
       "1  CC[C@H](C)[C@H](NC(=O)[C@H](CCC(=O)O)NC(=O)[C@@H](NC(=O)[C@H](CC(C)C)NC(=O)[C@@H](NC(=O)[C@H](CC(=O)O)NC(=O)[C@H](CCC(=O)O)NC(=O)[C@H](CC(=O)O)NC(=O)[C@@H](NC(=O)CNC(=O)[C@H](CC(C)C)NC(=O)CN)[C@@H](C)O)[C@@H](C)O)[C@@H](C)CC)C(=O)N[C@@H](CC(C)C)C(=O)N[C@@H](C)C(=O)N[C@@H](CO)C(=O)O   \n",
       "2                  CSCC[C@H](N)C(=O)N[C@@H](CC(C)C)C(=O)N[C@@H](Cc1ccccc1)C(=O)N[C@@H](CS)C(=O)N[C@@H](CO)C(=O)N[C@@H](CS)C(=O)N[C@@H](CCC(N)=O)C(=O)N[C@@H](CC(=O)O)C(=O)N[C@@H](CCC(N)=O)C(=O)N[C@@H](C)C(=O)N[C@@H](CS)C(=O)N[C@@H](C)C(=O)N[C@@H](CCC(=O)O)C(=O)N[C@@H](CCCNC(=N)N)C(=O)O   \n",
       "3                                                                          CC(C)C[C@H](NC(=O)[C@H](C)N)C(=O)N[C@@H](CCC(N)=O)C(=O)N[C@@H](CCC(N)=O)C(=O)N[C@@H](CCCNC(=N)N)C(=O)N[C@@H](CC(C)C)C(=O)N[C@@H](CCC(N)=O)C(=O)NCC(=O)N[C@@H](C)C(=O)N[C@@H](CCC(=O)O)C(=O)N[C@@H](CCC(=O)O)C(=O)O   \n",
       "4               CC[C@H](C)[C@H](NC(=O)CNC(=O)[C@@H](N)Cc1ccccc1)C(=O)N[C@@H](CC(=O)O)C(=O)N[C@@H](CC(=O)O)C(=O)N[C@@H](CCC(N)=O)C(=O)N[C@@H](CC(=O)O)C(=O)N[C@@H](Cc1ccc(O)cc1)C(=O)N[C@@H](CC(C)C)C(=O)N[C@H](C(=O)N[C@H](C(=O)N[C@@H](CC(C)C)C(=O)N[C@H](C(=O)O)[C@@H](C)O)[C@@H](C)O)C(C)C   \n",
       "\n",
       "                                          helm           aa_seq  n_mono  \\\n",
       "0          PEPTIDE1{P.M.K.D.E.T.F.G.E.Y.R}$$$$      PMKDETFGEYR      11   \n",
       "1  PEPTIDE1{G.L.G.T.D.E.D.T.L.I.E.I.L.A.S}$$$$  GLGTDEDTLIEILAS      15   \n",
       "2    PEPTIDE1{M.L.F.C.S.C.Q.D.Q.A.C.A.E.R}$$$$   MLFCSCQDQACAER      14   \n",
       "3          PEPTIDE1{A.L.Q.Q.R.L.Q.G.A.E.E}$$$$      ALQQRLQGAEE      11   \n",
       "4      PEPTIDE1{F.G.I.D.D.Q.D.Y.L.V.T.L.T}$$$$    FGIDDQDYLVTLT      13   \n",
       "\n",
       "   smi_len  \n",
       "0    222.0  \n",
       "1    282.0  \n",
       "2    266.0  \n",
       "3    210.0  \n",
       "4    269.0  "
      ]
     },
     "metadata": {},
     "output_type": "display_data"
    },
    {
     "data": {
      "text/plain": [
       "(3238311, 2914479, 323832)"
      ]
     },
     "execution_count": 7,
     "metadata": {},
     "output_type": "execute_result"
    }
   ],
   "source": [
    "import pandas as pd\n",
    "train = False\n",
    "\n",
    "if train:\n",
    "    # !ls ../Datasets/PeptideAtlas\n",
    "    files = [\n",
    "    'bburgdorferi_b31-201902-APD_BORBU_all.fasta',\n",
    "    'celegans-201309-APD_Ce_all.fasta',\n",
    "    'chicken-201607-APD_CHICK_all.fasta',\n",
    "    'cow-201112-APD_Bt_all.fasta',\n",
    "    'drosophila-201208-APD_Dm_all.fasta',\n",
    "    'halobacterium-201308-APD_Ha_all.fasta',\n",
    "    'honeybee-201309-APD_Apis_all.fasta',\n",
    "    'horse-201304-APD_MYG_all.fasta',\n",
    "    'Human-202012-APD_Hs_all.fasta',\n",
    "    'leptospirainterrogans-201308-APD_Li_all.fasta',\n",
    "    'mouse-201506-APD_Mm_all.fasta',\n",
    "    'mtuberculosis-201307-APD_MTB_all.fasta',\n",
    "    'pfalciparum-201209-APD_Pf_all.fasta',\n",
    "    'pig-201411-APD_Pig_all.fasta',\n",
    "    'rat-201311-APD_Rn_all.fasta',\n",
    "    'staphylococcusaureuscol-201310-APD_STAAU_all.fasta',\n",
    "    'staphylococcusaureushg001-201409-APD_STAAU_all.fasta',\n",
    "    'streptococcus-200702-APD_Sp_all.fasta',\n",
    "    'yeast-201303-APD_Sc_all.fasta',\n",
    "    'zebrafish-201403-APD_Dr_all.fasta']\n",
    "\n",
    "    for f in files:\n",
    "        df = load_fasta_to_df(f'../Datasets/PeptideAtlas/{f}')\n",
    "        df.to_csv(f'../Datasets/PeptideAtlas/csv/{f}.csv', index=False)\n",
    "\n",
    "    # concat all csvs\n",
    "    df_pa = pd.concat([pd.read_csv(f'../Datasets/PeptideAtlas/csv/{f}.csv') for f in files])\n",
    "\n",
    "    # remove duplicates\n",
    "    df_pa_redup = df_pa.drop_duplicates(subset=['aa_seq']).copy()\n",
    "\n",
    "    len(df_pa), len(df_pa_redup)\n",
    "    df_pa_redup['helm'] = [get_helm_from_aa_seq(seq) for seq in df_pa_redup.aa_seq]\n",
    "    df_pa_redup['smi'] = [get_linpep_smi_from_aa_seq(seq) for seq in df_pa_redup.aa_seq]  # 43min 43s\n",
    "\n",
    "    df_pa_redup['n_mono'] = [count_n_monomers(helm) for helm in df_pa_redup.helm]\n",
    "    df_pa_redup['smi_len'] = df_pa_redup.smi.str.len()\n",
    "    df_pa_redup = df_pa_redup[~df_pa_redup.smi.isnull()]\n",
    "    df_pa_redup[['smi', 'helm', 'aa_seq', 'n_mono', 'smi_len']].to_csv('data/PeptideAtlas/all.csv', index=False)\n",
    "\n",
    "\n",
    "    # split into train and test\n",
    "    from sklearn.model_selection import train_test_split\n",
    "\n",
    "    df_pa_train, df_pa_test = train_test_split(df_pa_redup, test_size=0.1, random_state=42)\n",
    "    df_pa_train.to_csv('data/pretrain/PeptideAtlas/train.csv', index=False)\n",
    "    df_pa_test.to_csv('data/pretrain/PeptideAtlas/test.csv', index=False)\n",
    "\n",
    "    len(df_pa_train), len(df_pa_test)\n",
    "else:\n",
    "    df_pa_redup = pd.read_csv('data/pretrain/PeptideAtlas/all.csv')\n",
    "    df_pa_train = pd.read_csv('data/pretrain/PeptideAtlas/train.csv')\n",
    "    df_pa_test = pd.read_csv('data/pretrain/PeptideAtlas/test.csv')\n",
    "\n",
    "display(df_pa_redup.head())\n",
    "len(df_pa_redup), len(df_pa_train), len(df_pa_test)\n"
   ]
  },
  {
   "cell_type": "code",
   "execution_count": 8,
   "id": "3d36d73f",
   "metadata": {},
   "outputs": [
    {
     "data": {
      "text/plain": [
       "<AxesSubplot:>"
      ]
     },
     "metadata": {},
     "output_type": "display_data"
    },
    {
     "data": {
      "image/png": "[encoded data removed]",
      "text/plain": [
       "<Figure size 640x480 with 1 Axes>"
      ]
     },
     "metadata": {},
     "output_type": "display_data"
    }
   ],
   "source": [
    "display(df_pa_redup.smi_len.hist())"
   ]
  },
  {
   "cell_type": "code",
   "execution_count": 9,
   "id": "99b07261",
   "metadata": {},
   "outputs": [
    {
     "data": {
      "text/plain": [
       "<AxesSubplot:>"
      ]
     },
     "metadata": {},
     "output_type": "display_data"
    },
    {
     "data": {
      "image/png": "[encoded data removed]",
      "text/plain": [
       "<Figure size 640x480 with 1 Axes>"
      ]
     },
     "metadata": {},
     "output_type": "display_data"
    }
   ],
   "source": [
    "df_pa_redup['helm_len'] = df_pa_redup['helm'].str.len()\n",
    "display(df_pa_redup['helm_len'].hist())"
   ]
  },
  {
   "cell_type": "markdown",
   "id": "5219fd6c",
   "metadata": {},
   "source": [
    "# HELMs from PubChem32"
   ]
  },
  {
   "cell_type": "code",
   "execution_count": 11,
   "id": "85392869",
   "metadata": {},
   "outputs": [
    {
     "data": {
      "text/plain": [
       "Index(['helm', 'n_mono'], dtype='object')"
      ]
     },
     "execution_count": 11,
     "metadata": {},
     "output_type": "execute_result"
    }
   ],
   "source": [
    "train = False\n",
    "\n",
    "if train:\n",
    "    df_pubchem = pd.read_csv('data/pretrain/chembl32/biotherapeutics_dict_prot_flt.csv')\n",
    "    df_pubchem['n_mono'] = [count_n_monomers(helm) for helm in df_pubchem.HELM]\n",
    "    df_pubchem_all = df_pubchem[['HELM', 'n_mono']].rename(columns={'HELM': 'helm'})\n",
    "\n",
    "    df_pubchem_all.to_csv('data/pretrain/chembl32/all.csv', index=False)\n",
    "\n",
    "else:\n",
    "    df_pubchem_all = pd.read_csv('data/pretrain/chembl32/all.csv')\n",
    "\n",
    "df_pubchem_all.columns"
   ]
  },
  {
   "cell_type": "code",
   "execution_count": 12,
   "id": "56659b26",
   "metadata": {},
   "outputs": [
    {
     "data": {
      "text/plain": [
       "<AxesSubplot:>"
      ]
     },
     "metadata": {},
     "output_type": "display_data"
    },
    {
     "data": {
      "image/png": "[encoded data removed]",
      "text/plain": [
       "<Figure size 640x480 with 1 Axes>"
      ]
     },
     "metadata": {},
     "output_type": "display_data"
    }
   ],
   "source": [
    "df_pubchem_all['helm_len'] = df_pubchem_all['helm'].str.len()\n",
    "display(df_pubchem_all['helm_len'].hist())"
   ]
  },
  {
   "cell_type": "code",
   "execution_count": 15,
   "id": "736ce971",
   "metadata": {},
   "outputs": [],
   "source": [
    "# df_pubchem['smi'] = [get_cycpep_smi_from_helm(helm) for helm in df_pubchem.HELM]\n",
    "# display(len(df_pubchem[df_pubchem.smi.isna()]), len(df_pubchem))\n",
    "# display(df_pubchem.helm_len.hist())\n",
    "\n",
    "# df_pubchem_nosmi = df_pubchem[df_pubchem.smi.isna()]\n",
    "# df_pubchem_nosmi.to_csv('data/chembl32/pubchem_nosmi.csv', index=False)"
   ]
  },
  {
   "cell_type": "code",
   "execution_count": 16,
   "id": "92ea2e69",
   "metadata": {},
   "outputs": [],
   "source": [
    "# [get_cycpep_smi_from_helm(helm) for helm in df_pubchem_nosmi.HELM.head(10)]\n"
   ]
  },
  {
   "cell_type": "markdown",
   "id": "9867976a",
   "metadata": {},
   "source": [
    "# Merge dataset to pretrain models"
   ]
  },
  {
   "cell_type": "code",
   "execution_count": 15,
   "id": "0c92df67",
   "metadata": {},
   "outputs": [
    {
     "data": {
      "text/plain": [
       "<AxesSubplot:>"
      ]
     },
     "metadata": {},
     "output_type": "display_data"
    },
    {
     "data": {
      "image/png": "[encoded data removed]",
      "text/plain": [
       "<Figure size 640x480 with 1 Axes>"
      ]
     },
     "metadata": {},
     "output_type": "display_data"
    }
   ],
   "source": [
    "\n",
    "if train:\n",
    "    cols = ['helm', 'n_mono']\n",
    "    df_merged_helm = pd.concat([df_cycpdb_all[cols], df_pa_redup[cols], df_pubchem_all[cols]], axis=0, ignore_index=True)\n",
    "    df_merged_helm.to_csv('data/pretrain/merged/all.csv', index=False)\n",
    "\n",
    "    from sklearn.model_selection import train_test_split\n",
    "\n",
    "    df_merged_helm_train, df_merged_helm_test = train_test_split(df_merged_helm, test_size=0.05, random_state=42)\n",
    "    df_merged_helm_train.to_csv('data/pretrain/merged/train.csv', index=False)\n",
    "    df_merged_helm_test.to_csv('data/pretrain/merged/test.csv', index=False)\n",
    "\n",
    "else:\n",
    "    df_merged_helm = pd.read_csv('data/pretrain/merged/all.csv')\n",
    "    df_merged_helm_train = pd.read_csv('data/pretrain/merged/train.csv')\n",
    "    df_merged_helm_test = pd.read_csv('data/pretrain/merged/test.csv')\n",
    "\n",
    "df_pubchem_all['helm_len'] = df_pubchem_all['helm'].str.len()\n",
    "display(df_pubchem_all['helm_len'].hist())"
   ]
  }
 ],
 "metadata": {
  "kernelspec": {
   "display_name": "Python 3 (ipykernel)",
   "language": "python",
   "name": "python3"
  },
  "language_info": {
   "codemirror_mode": {
    "name": "ipython",
    "version": 3
   },
   "file_extension": ".py",
   "mimetype": "text/x-python",
   "name": "python",
   "nbconvert_exporter": "python",
   "pygments_lexer": "ipython3",
   "version": "3.7.12"
  },
  "toc-autonumbering": true,
  "toc-showmarkdowntxt": false
 },
 "nbformat": 4,
 "nbformat_minor": 5
}
