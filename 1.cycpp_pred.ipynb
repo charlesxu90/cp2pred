{
 "cells": [
  {
   "attachments": {},
   "cell_type": "markdown",
   "id": "18d2d19b",
   "metadata": {},
   "source": [
    "# Cyclic peptides"
   ]
  },
  {
   "cell_type": "code",
   "execution_count": 12,
   "id": "4a4dc41c",
   "metadata": {},
   "outputs": [],
   "source": [
    "import pandas as pd\n",
    "# df_train = pd.read_csv('data/CycPeptMPDB/train.csv')\n",
    "# df_test = pd.read_csv('data/CycPeptMPDB/test.csv')\n",
    "df_train = pd.read_csv('data/CycPeptMPDB/img_train.csv')\n",
    "df_test = pd.read_csv('data/CycPeptMPDB/img_test.csv')\n",
    "\n",
    "pd.set_option('display.max_colwidth', None)\n",
    "\n",
    "# display(df_all.head()['helm'])\n",
    "\n",
    "y_train = df_train.score.values\n",
    "y_test = df_test.score.values"
   ]
  },
  {
   "cell_type": "markdown",
   "id": "d9c8c9aa",
   "metadata": {},
   "source": [
    "## Feature processing"
   ]
  },
  {
   "cell_type": "markdown",
   "id": "ef83a9b6",
   "metadata": {},
   "source": [
    "### Fingerprints (fps)"
   ]
  },
  {
   "cell_type": "code",
   "execution_count": 3,
   "id": "6dd691b4",
   "metadata": {},
   "outputs": [],
   "source": [
    "import warnings\n",
    "import numpy as np\n",
    "from rdkit import Chem, rdBase, DataStructs\n",
    "from rdkit.Chem import AllChem\n",
    "from typing import List\n",
    "\n",
    "rdBase.DisableLog('rdApp.error')\n",
    "warnings.filterwarnings(\"ignore\", category=DeprecationWarning)\n",
    "warnings.filterwarnings(\"ignore\", category=UserWarning)\n",
    "warnings.filterwarnings(\"ignore\", category=FutureWarning)\n",
    "\n",
    "def fingerprints_from_smiles(smiles: List, size=2048):\n",
    "    \"\"\"\n",
    "        Create ECFP fingerprints of smiles, with validity check\n",
    "    \"\"\"\n",
    "    fps = []\n",
    "    valid_mask = []\n",
    "    for i, smile in enumerate(smiles):\n",
    "        mol = Chem.MolFromSmiles(smile)\n",
    "        valid_mask.append(int(mol is not None))\n",
    "        fp = fingerprints_from_mol(mol, size=size) if mol else np.zeros((1, size))\n",
    "        fps.append(fp)\n",
    "\n",
    "    fps = np.concatenate(fps, axis=0)\n",
    "    return fps, valid_mask\n",
    "\n",
    "\n",
    "def fingerprints_from_mol(molecule, radius=3, size=2048, hashed=False):\n",
    "    \"\"\"\n",
    "        Create ECFP fingerprint of a molecule\n",
    "    \"\"\"\n",
    "    if hashed:\n",
    "        fp_bits = AllChem.GetHashedMorganFingerprint(molecule, radius, nBits=size)\n",
    "    else:\n",
    "        fp_bits = AllChem.GetMorganFingerprintAsBitVect(molecule, radius, nBits=size)\n",
    "    fp_np = np.zeros((1,))\n",
    "    DataStructs.ConvertToNumpyArray(fp_bits, fp_np)\n",
    "    return fp_np.reshape(1, -1)"
   ]
  },
  {
   "cell_type": "code",
   "execution_count": 118,
   "id": "5918c79c",
   "metadata": {},
   "outputs": [
    {
     "data": {
      "text/plain": [
       "((7451, 2048), (7451,), (5960, 2048), (5960,), (1491, 2048), (1491,))"
      ]
     },
     "execution_count": 118,
     "metadata": {},
     "output_type": "execute_result"
    }
   ],
   "source": [
    "# train = True\n",
    "train = False\n",
    "if train:\n",
    "    X_train = fingerprints_from_smiles(df_train.smi)[0]\n",
    "    X_test = fingerprints_from_smiles(df_test.smi)[0]\n",
    "\n",
    "    np.save('data/CycPeptMPDB/X_train_fps.npy', X_train)\n",
    "    np.save('data/CycPeptMPDB/X_test_fps.npy', X_test)\n",
    "else:\n",
    "    X_train = np.load('data/CycPeptMPDB/X_train_fps.npy')\n",
    "    X_test = np.load('data/CycPeptMPDB/X_test_fps.npy')\n",
    "\n",
    "X_train.shape, y_train.shape, X_test.shape, y_test.shape"
   ]
  },
  {
   "cell_type": "markdown",
   "id": "2a669097",
   "metadata": {},
   "source": [
    "### BERT features"
   ]
  },
  {
   "cell_type": "code",
   "execution_count": null,
   "id": "2300b788",
   "metadata": {},
   "outputs": [],
   "source": [
    "from dataset.tokenizer import SmilesTokenizer, AATokenizer, BPETokenizer\n",
    "from model.bert import BERT\n",
    "from utils.utils import parse_config, load_model\n",
    "import torch\n",
    "\n",
    "def load_bert_model(ckpt, config, device='cuda', model_type='smi_bert'):\n",
    "    if model_type == 'smi_bert':\n",
    "        tokenizer = SmilesTokenizer(max_len=config.data.max_len)\n",
    "    elif model_type == 'aa_bert':\n",
    "        tokenizer = AATokenizer(max_len=config.data.max_len)\n",
    "    elif config.data.type == 'bpe':\n",
    "        tokenizer = BPETokenizer(bpe_path=config.data.bpe_path, max_len=config.data.max_len)\n",
    "    else:\n",
    "        raise ValueError(f'Invalid model_type: {model_type}')\n",
    "\n",
    "    model = BERT(tokenizer, **config.model)\n",
    "    model = load_model(model, ckpt, device)\n",
    "    model.eval()\n",
    "    return model, device\n",
    "\n",
    "def get_bert_embd(encoder, inputs, device='cuda',):\n",
    "    with torch.no_grad():\n",
    "        tokens = encoder.tokenize_inputs(inputs).to(device)\n",
    "        batch_lens = (tokens != encoder.tokenizer.pad_token_id).sum(1)\n",
    "        embd = encoder.embed(tokens)\n",
    "        reps = []\n",
    "        for i, tokens_len in enumerate(batch_lens):\n",
    "            reps.append(embd[i, 1 : tokens_len - 1].mean(0))\n",
    "    return torch.stack(reps)\n",
    "\n",
    "def encode_with_bert(list, model, device='cuda', batch_size=128):\n",
    "    reps = []\n",
    "    for i in range(0, len(list), batch_size):\n",
    "        reps.append(get_bert_embd(model, list[i : i + batch_size], device=device))\n",
    "    reps = torch.cat(reps).cpu().numpy()\n",
    "    # logger.info(f\"list shape: {list.shape}, reps shape: {reps.shape}\")\n",
    "    return reps"
   ]
  },
  {
   "cell_type": "markdown",
   "id": "b3332ba3",
   "metadata": {},
   "source": [
    "#### SMILES BERT"
   ]
  },
  {
   "cell_type": "code",
   "execution_count": null,
   "id": "c54f400f",
   "metadata": {},
   "outputs": [
    {
     "data": {
      "text/plain": [
       "((5960, 512), (5960,), (1491, 512), (1491,))"
      ]
     },
     "execution_count": 110,
     "metadata": {},
     "output_type": "execute_result"
    }
   ],
   "source": [
    "# train = True\n",
    "train = False\n",
    "if train:\n",
    "    ckpt='results/train_smi_bert/model_2_1.966.pt'  # 0.555\t0.809\t0.339\t0.705\t0.588\n",
    "    config_file='configs/train_smi_bert_test.yaml'\n",
    "    config = parse_config(config_file)\n",
    "    model, device = load_bert_model(ckpt=ckpt, config=config)\n",
    "\n",
    "    X_train = encode_with_bert(df_train.smi, model)\n",
    "    X_test = encode_with_bert(df_test.smi, model)\n",
    "\n",
    "    np.save('data/CycPeptMPDB/X_train_smi_bert.npy', X_train)\n",
    "    np.save('data/CycPeptMPDB/X_test_smi_bert.npy', X_test)\n",
    "else:\n",
    "    X_train = np.load('data/CycPeptMPDB/X_train_smi_bert.npy')\n",
    "    X_test = np.load('data/CycPeptMPDB/X_test_smi_bert.npy')\n",
    "\n",
    "X_train.shape, y_train.shape, X_test.shape, y_test.shape"
   ]
  },
  {
   "cell_type": "markdown",
   "id": "ed4154a9",
   "metadata": {},
   "source": [
    "### RDKit descriptors"
   ]
  },
  {
   "cell_type": "code",
   "execution_count": 2,
   "id": "46143ef7",
   "metadata": {},
   "outputs": [],
   "source": [
    "import warnings\n",
    "import numpy as np\n",
    "from rdkit import Chem, rdBase, DataStructs\n",
    "from rdkit.Chem import AllChem\n",
    "from typing import List\n",
    "from rdkit import rdBase, Chem\n",
    "from rdkit.Chem import Descriptors, rdMolDescriptors\n",
    "\n",
    "rdBase.DisableLog('rdApp.error')\n",
    "warnings.filterwarnings(\"ignore\", category=DeprecationWarning)\n",
    "warnings.filterwarnings(\"ignore\", category=UserWarning)\n",
    "warnings.filterwarnings(\"ignore\", category=FutureWarning)\n",
    "\n",
    "def getMolDescriptors(mol, missingVal=0):\n",
    "    \"\"\" calculate the full list of descriptors for a molecule \"\"\"\n",
    "\n",
    "    values, names = [], []\n",
    "    for nm, fn in Descriptors._descList:\n",
    "        try:\n",
    "            val = fn(mol)\n",
    "        except:\n",
    "            val = missingVal\n",
    "        values.append(val)\n",
    "        names.append(nm)\n",
    "\n",
    "    custom_descriptors = {'hydrogen-bond donors': rdMolDescriptors.CalcNumLipinskiHBD,\n",
    "                          'hydrogen-bond acceptors': rdMolDescriptors.CalcNumLipinskiHBA,\n",
    "                          'rotatable bonds': rdMolDescriptors.CalcNumRotatableBonds,}\n",
    "    for nm, fn in custom_descriptors.items():\n",
    "        try:\n",
    "            val = fn(mol)\n",
    "        except:\n",
    "            val = missingVal\n",
    "        values.append(val)\n",
    "        names.append(nm)\n",
    "    return values,names\n",
    "\n",
    "# getMolDescriptors('CC(=O)SCCCC[C@H](N)C(O)=O')"
   ]
  },
  {
   "cell_type": "markdown",
   "id": "b41c077d",
   "metadata": {},
   "source": [
    "#### Peptide descriptors"
   ]
  },
  {
   "cell_type": "code",
   "execution_count": 3,
   "id": "4bf74bf0",
   "metadata": {},
   "outputs": [],
   "source": [
    "def get_pep_dps_from_smi(smi):\n",
    "    try:\n",
    "        mol = Chem.MolFromSmiles(smi)\n",
    "    except:\n",
    "        print(f\"convert smi {smi} to molecule failed!\")\n",
    "        mol = None\n",
    "    \n",
    "    dps, _ = getMolDescriptors(mol)\n",
    "    return np.array(dps)\n",
    "\n",
    "def get_pep_dps(smi_list):\n",
    "    return np.array([get_pep_dps_from_smi(smi) for smi in smi_list])"
   ]
  },
  {
   "cell_type": "code",
   "execution_count": 4,
   "id": "89477b17",
   "metadata": {},
   "outputs": [
    {
     "data": {
      "text/plain": [
       "((7451, 211), (7451,), (5960, 211), (5960,), (1491, 211), (1491,))"
      ]
     },
     "execution_count": 4,
     "metadata": {},
     "output_type": "execute_result"
    }
   ],
   "source": [
    "import numpy as np\n",
    "\n",
    "# train = True\n",
    "train = False\n",
    "if train:\n",
    "    \n",
    "    X_train = get_pep_dps(df_train.smi)\n",
    "    X_test = get_pep_dps(df_test.smi)\n",
    "\n",
    "    np.save('data/CycPeptMPDB/X_train_pep_dps.npy', X_train)\n",
    "    np.save('data/CycPeptMPDB/X_test_pep_dps.npy', X_test)\n",
    "else:\n",
    "    X_train = np.load('data/CycPeptMPDB/X_train_pep_dps.npy')\n",
    "    X_test = np.load('data/CycPeptMPDB/X_test_pep_dps.npy')\n",
    "\n",
    "X_train.shape, y_train.shape, X_test.shape, y_test.shape"
   ]
  },
  {
   "cell_type": "markdown",
   "id": "7d1733c7",
   "metadata": {},
   "source": [
    "### ResNet features"
   ]
  },
  {
   "cell_type": "code",
   "execution_count": 26,
   "id": "5ffdb995",
   "metadata": {},
   "outputs": [],
   "source": [
    "from utils.utils import parse_config, load_model\n",
    "from model.resnet import init_model\n",
    "from model.molcl import MolCL\n",
    "\n",
    "ckpt_file='results/pretrain_resnet/model_9_0.354.pt'\n",
    "config_file='configs/pretrain_resnet.yaml'\n",
    "device='cuda'\n",
    "\n",
    "config = parse_config(config_file)\n",
    "resnet = init_model(**config.model.resnet)\n",
    "model = MolCL(resnet, device, **config.model.molcl)\n",
    "\n",
    "model = load_model(model, ckpt_file, device)"
   ]
  },
  {
   "cell_type": "code",
   "execution_count": null,
   "id": "dd81b590",
   "metadata": {},
   "outputs": [],
   "source": [
    "resnet = model.encoder\n",
    "from torch import nn\n",
    "for r, c in zip(list(resnet.children())[:-1], list(model.encoder.children())):\n",
    "    r = c"
   ]
  },
  {
   "cell_type": "code",
   "execution_count": 14,
   "id": "f7a898e5",
   "metadata": {},
   "outputs": [],
   "source": [
    "from torchvision import transforms\n",
    "import torch\n",
    "import cv2\n",
    "from utils.utils import parse_config, load_model\n",
    "from model.resnet import init_model\n",
    "from model.molcl import MolCL\n",
    "\n",
    "def load_molcl_model(ckpt_file='results/pretrain_resnet/model_9_0.354.pt', config_file='configs/pretrain_resnet.yaml', device='cuda'):\n",
    "    config = parse_config(config_file)\n",
    "    resnet = init_model(**config.model.resnet)\n",
    "    model = MolCL(resnet, device, **config.model.molcl)\n",
    "\n",
    "    model = load_model(model, ckpt_file, device)\n",
    "    return model\n",
    "\n",
    "def get_resnet_embd(model, img):\n",
    "    with torch.no_grad():\n",
    "        embd = model.get_img_embd(img)\n",
    "    return embd\n",
    "\n",
    "def load_transform_img(img_paths, transform):\n",
    "    imgs = [transform(cv2.imread(fp)) for fp in img_paths]\n",
    "    img = torch.stack(imgs)\n",
    "    return img\n",
    "\n",
    "def encode_with_molcl(list, model, device='cuda', batch_size=80, image_size=500):\n",
    "    transform = transforms.Compose([transforms.ToPILImage(), transforms.Resize((image_size, image_size)), transforms.ToTensor(), \n",
    "                                    transforms.Normalize(mean=[0.5, 0.5, 0.5], std=[0.5, 0.5, 0.5]),])\n",
    "    reps = []\n",
    "    model.to(device)\n",
    "    for i in range(0, len(list), batch_size):\n",
    "        img_paths = list[i : i + batch_size]\n",
    "        img = load_transform_img(img_paths, transform)\n",
    "        img = img.to(device)\n",
    "        reps.append(get_resnet_embd(model, img))\n",
    "    reps = torch.cat(reps).cpu().numpy()\n",
    "    # logger.info(f\"list shape: {list.shape}, reps shape: {reps.shape}\")\n",
    "    return reps\n",
    "\n",
    "# encode_with_resnet([\"data/gradcam/cycpep_0.png\"], model)"
   ]
  },
  {
   "cell_type": "code",
   "execution_count": 16,
   "id": "29c15f1b",
   "metadata": {},
   "outputs": [
    {
     "data": {
      "text/plain": [
       "((5960, 2048), (5960,), (1491, 2048), (1491,))"
      ]
     },
     "execution_count": 16,
     "metadata": {},
     "output_type": "execute_result"
    }
   ],
   "source": [
    "import numpy as np\n",
    "\n",
    "train = True\n",
    "# train = False\n",
    "if train:\n",
    "    model = load_molcl_model()\n",
    "    X_train = encode_with_molcl(df_train.smi_img, model)\n",
    "    X_test = encode_with_molcl(df_test.smi_img, model)\n",
    "\n",
    "    np.save('data/CycPeptMPDB/X_train_molimg_embd.npy', X_train)\n",
    "    np.save('data/CycPeptMPDB/X_test_molimg_embd.npy', X_test)\n",
    "else:\n",
    "    X_train = np.load('data/CycPeptMPDB/X_train_molimg_embd.npy')\n",
    "    X_test = np.load('data/CycPeptMPDB/X_test_molimg_embd.npy')\n",
    "\n",
    "X_train.shape, y_train.shape, X_test.shape, y_test.shape"
   ]
  },
  {
   "cell_type": "markdown",
   "id": "c46132fd",
   "metadata": {},
   "source": [
    "## Modeling"
   ]
  },
  {
   "cell_type": "markdown",
   "id": "7048461a",
   "metadata": {},
   "source": [
    "### Final features"
   ]
  },
  {
   "cell_type": "code",
   "execution_count": 23,
   "id": "78a03e1b",
   "metadata": {},
   "outputs": [
    {
     "data": {
      "text/plain": [
       "((5960, 2048), (5960,), (1491, 2048), (1491,))"
      ]
     },
     "execution_count": 23,
     "metadata": {},
     "output_type": "execute_result"
    }
   ],
   "source": [
    "# features = ['pep_dps', ]\n",
    "# features = ['fps', ]\n",
    "# features = ['smi_bert', ]\n",
    "features = ['molimg_embd', ]\n",
    "\n",
    "# features = ['pep_dps', 'fps', ]\n",
    "# features = ['pep_dps', 'smi_bert', ]\n",
    "# features = ['fps', 'smi_bert', ]\n",
    "\n",
    "# features = ['fps', 'pep_dps', 'smi_bert', ]\n",
    "# features = ['fps', 'pep_dps', 'molimg_embd', ]\n",
    "\n",
    "X_train_features = []\n",
    "X_test_features = []\n",
    "for feat in features:\n",
    "    try:\n",
    "        X_train = np.load(f'data/CycPeptMPDB/X_train_{feat}.npy')\n",
    "        X_test = np.load(f'data/CycPeptMPDB/X_test_{feat}.npy')\n",
    "\n",
    "        X_train_features.append(X_train)\n",
    "        X_test_features.append(X_test)\n",
    "    except:\n",
    "        raise ValueError(f'Feature {feat} not supported')\n",
    "\n",
    "X_train = np.concatenate(X_train_features, axis=1)\n",
    "X_test = np.concatenate(X_test_features, axis=1)\n",
    "\n",
    "X_train.shape, y_train.shape, X_test.shape, y_test.shape"
   ]
  },
  {
   "cell_type": "code",
   "execution_count": 24,
   "id": "94e8beb6",
   "metadata": {},
   "outputs": [],
   "source": [
    "import matplotlib.pyplot as plt\n",
    "from utils.utils import get_regresssion_metrics\n",
    "\n",
    "def plot_scatter_y(y, y_hat, x_label='y', y_label='y_hat', save_path=None):\n",
    "    plt.scatter(y, y_hat, alpha=0.1)\n",
    "    get_regresssion_metrics(y, y_hat)\n",
    "    mae = np.mean(np.abs(y - y_hat))\n",
    "    print(f'MAE: {mae:.3f}, y mean: {np.mean(y):.3f}, y_hat mean: {np.mean(y_hat):.3f}')\n",
    "    plt.xlabel(x_label)\n",
    "    plt.ylabel(y_label)\n",
    "    if save_path:\n",
    "        plt.savefig(save_path+f'_{mae:.3f}.pdf', dpi=300, bbox_inches='tight')\n",
    "    plt.show()"
   ]
  },
  {
   "cell_type": "markdown",
   "id": "da88b1bd",
   "metadata": {},
   "source": [
    "### XGBoost regressor"
   ]
  },
  {
   "cell_type": "code",
   "execution_count": 25,
   "id": "a832c5fa",
   "metadata": {},
   "outputs": [
    {
     "name": "stdout",
     "output_type": "stream",
     "text": [
      "MAE \t MSE \t R2 \t Spearman \t Pearson\n",
      "0.584\t0.860\t-1.287\t0.645\t0.546\n",
      "MAE: 0.584, y mean: -5.876, y_hat mean: -5.851\n"
     ]
    },
    {
     "data": {
      "image/png": "[encoded data removed]",
      "text/plain": [
       "<Figure size 640x480 with 1 Axes>"
      ]
     },
     "metadata": {},
     "output_type": "display_data"
    }
   ],
   "source": [
    "from xgboost import XGBRegressor\n",
    "import joblib\n",
    "\n",
    "is_save = False\n",
    "save_path='data/CycPeptMPDB/fps_xgbr.model'\n",
    "\n",
    "model = XGBRegressor(n_estimators=1000, max_depth=7, eta=0.1, subsample=0.7, colsample_bytree=0.8)\n",
    "model.fit(X_train, y_train)\n",
    "if is_save:\n",
    "    joblib.dump(model, save_path)\n",
    "    model = joblib.load(save_path)\n",
    "y_hat = model.predict(X_test)\n",
    "plot_scatter_y(y_test, y_hat, x_label='y_test', y_label='y_hat_test', save_path=save_path)"
   ]
  },
  {
   "cell_type": "code",
   "execution_count": null,
   "id": "88e7a761",
   "metadata": {},
   "outputs": [],
   "source": []
  }
 ],
 "metadata": {
  "kernelspec": {
   "display_name": "Python 3 (ipykernel)",
   "language": "python",
   "name": "python3"
  },
  "language_info": {
   "codemirror_mode": {
    "name": "ipython",
    "version": 3
   },
   "file_extension": ".py",
   "mimetype": "text/x-python",
   "name": "python",
   "nbconvert_exporter": "python",
   "pygments_lexer": "ipython3",
   "version": "3.7.12"
  },
  "toc-autonumbering": true,
  "toc-showmarkdowntxt": false
 },
 "nbformat": 4,
 "nbformat_minor": 5
}
