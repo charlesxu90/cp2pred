{
 "cells": [
  {
   "attachments": {},
   "cell_type": "markdown",
   "id": "18d2d19b",
   "metadata": {},
   "source": [
    "# Cyclic peptides"
   ]
  },
  {
   "cell_type": "code",
   "execution_count": 2,
   "id": "4a4dc41c",
   "metadata": {},
   "outputs": [],
   "source": [
    "import pandas as pd\n",
    "df_all= pd.read_csv('data/CycPeptMPDB/all.csv')\n",
    "df_train = pd.read_csv('data/CycPeptMPDB/train.csv')\n",
    "df_test = pd.read_csv('data/CycPeptMPDB/test.csv')\n",
    "\n",
    "pd.set_option('display.max_colwidth', None)\n",
    "\n",
    "# display(df_all.head()['helm'])\n",
    "\n",
    "y_train = df_train.score.values\n",
    "y_test = df_test.score.values\n",
    "y_all = df_all.score.values"
   ]
  },
  {
   "cell_type": "markdown",
   "id": "d9c8c9aa",
   "metadata": {},
   "source": [
    "## Feature processing"
   ]
  },
  {
   "cell_type": "markdown",
   "id": "ef83a9b6",
   "metadata": {},
   "source": [
    "### Fingerprints (fps)"
   ]
  },
  {
   "cell_type": "code",
   "execution_count": 3,
   "id": "6dd691b4",
   "metadata": {},
   "outputs": [],
   "source": [
    "import warnings\n",
    "import numpy as np\n",
    "from rdkit import Chem, rdBase, DataStructs\n",
    "from rdkit.Chem import AllChem\n",
    "from typing import List\n",
    "\n",
    "rdBase.DisableLog('rdApp.error')\n",
    "warnings.filterwarnings(\"ignore\", category=DeprecationWarning)\n",
    "warnings.filterwarnings(\"ignore\", category=UserWarning)\n",
    "warnings.filterwarnings(\"ignore\", category=FutureWarning)\n",
    "\n",
    "def fingerprints_from_smiles(smiles: List, size=2048):\n",
    "    \"\"\"\n",
    "        Create ECFP fingerprints of smiles, with validity check\n",
    "    \"\"\"\n",
    "    fps = []\n",
    "    valid_mask = []\n",
    "    for i, smile in enumerate(smiles):\n",
    "        mol = Chem.MolFromSmiles(smile)\n",
    "        valid_mask.append(int(mol is not None))\n",
    "        fp = fingerprints_from_mol(mol, size=size) if mol else np.zeros((1, size))\n",
    "        fps.append(fp)\n",
    "\n",
    "    fps = np.concatenate(fps, axis=0)\n",
    "    return fps, valid_mask\n",
    "\n",
    "\n",
    "def fingerprints_from_mol(molecule, radius=3, size=2048, hashed=False):\n",
    "    \"\"\"\n",
    "        Create ECFP fingerprint of a molecule\n",
    "    \"\"\"\n",
    "    if hashed:\n",
    "        fp_bits = AllChem.GetHashedMorganFingerprint(molecule, radius, nBits=size)\n",
    "    else:\n",
    "        fp_bits = AllChem.GetMorganFingerprintAsBitVect(molecule, radius, nBits=size)\n",
    "    fp_np = np.zeros((1,))\n",
    "    DataStructs.ConvertToNumpyArray(fp_bits, fp_np)\n",
    "    return fp_np.reshape(1, -1)"
   ]
  },
  {
   "cell_type": "code",
   "execution_count": 118,
   "id": "5918c79c",
   "metadata": {},
   "outputs": [
    {
     "data": {
      "text/plain": [
       "((7451, 2048), (7451,), (5960, 2048), (5960,), (1491, 2048), (1491,))"
      ]
     },
     "execution_count": 118,
     "metadata": {},
     "output_type": "execute_result"
    }
   ],
   "source": [
    "# train = True\n",
    "train = False\n",
    "if train:\n",
    "    X_all = fingerprints_from_smiles(df_all.smi)[0]\n",
    "    X_train = fingerprints_from_smiles(df_train.smi)[0]\n",
    "    X_test = fingerprints_from_smiles(df_test.smi)[0]\n",
    "\n",
    "    np.save('data/CycPeptMPDB/X_all_fps.npy', X_all)\n",
    "    np.save('data/CycPeptMPDB/X_train_fps.npy', X_train)\n",
    "    np.save('data/CycPeptMPDB/X_test_fps.npy', X_test)\n",
    "else:\n",
    "    X_all = np.load('data/CycPeptMPDB/X_all_fps.npy')\n",
    "    X_train = np.load('data/CycPeptMPDB/X_train_fps.npy')\n",
    "    X_test = np.load('data/CycPeptMPDB/X_test_fps.npy')\n",
    "\n",
    "X_all.shape, y_all.shape, X_train.shape, y_train.shape, X_test.shape, y_test.shape"
   ]
  },
  {
   "cell_type": "markdown",
   "id": "2a669097",
   "metadata": {},
   "source": [
    "### BERT features"
   ]
  },
  {
   "cell_type": "code",
   "execution_count": null,
   "id": "2300b788",
   "metadata": {},
   "outputs": [],
   "source": [
    "from dataset.tokenizer import SmilesTokenizer, AATokenizer, BPETokenizer\n",
    "from model.bert import BERT\n",
    "from utils.utils import parse_config, load_model\n",
    "import torch\n",
    "\n",
    "def load_bert_model(ckpt, config, device='cuda', model_type='smi_bert'):\n",
    "    if model_type == 'smi_bert':\n",
    "        tokenizer = SmilesTokenizer(max_len=config.data.max_len)\n",
    "    elif model_type == 'aa_bert':\n",
    "        tokenizer = AATokenizer(max_len=config.data.max_len)\n",
    "    elif config.data.type == 'bpe':\n",
    "        tokenizer = BPETokenizer(bpe_path=config.data.bpe_path, max_len=config.data.max_len)\n",
    "    else:\n",
    "        raise ValueError(f'Invalid model_type: {model_type}')\n",
    "\n",
    "    model = BERT(tokenizer, **config.model)\n",
    "    model = load_model(model, ckpt, device)\n",
    "    model.eval()\n",
    "    return model, device\n",
    "\n",
    "def get_bert_embd(encoder, inputs, device='cuda',):\n",
    "    with torch.no_grad():\n",
    "        tokens = encoder.tokenize_inputs(inputs).to(device)\n",
    "        batch_lens = (tokens != encoder.tokenizer.pad_token_id).sum(1)\n",
    "        embd = encoder.embed(tokens)\n",
    "        reps = []\n",
    "        for i, tokens_len in enumerate(batch_lens):\n",
    "            reps.append(embd[i, 1 : tokens_len - 1].mean(0))\n",
    "    return torch.stack(reps)\n",
    "\n",
    "def encode_with_bert(list, model, device='cuda', batch_size=128):\n",
    "    reps = []\n",
    "    for i in range(0, len(list), batch_size):\n",
    "        reps.append(get_bert_embd(model, list[i : i + batch_size], device=device))\n",
    "    reps = torch.cat(reps).cpu().numpy()\n",
    "    # logger.info(f\"list shape: {list.shape}, reps shape: {reps.shape}\")\n",
    "    return reps"
   ]
  },
  {
   "cell_type": "markdown",
   "id": "b3332ba3",
   "metadata": {},
   "source": [
    "#### SMILES BERT"
   ]
  },
  {
   "cell_type": "code",
   "execution_count": null,
   "id": "c54f400f",
   "metadata": {},
   "outputs": [
    {
     "data": {
      "text/plain": [
       "((5960, 512), (5960,), (1491, 512), (1491,))"
      ]
     },
     "execution_count": 110,
     "metadata": {},
     "output_type": "execute_result"
    }
   ],
   "source": [
    "# train = True\n",
    "train = False\n",
    "if train:\n",
    "    ckpt='results/train_smi_bert/model_2_1.966.pt'  # 0.555\t0.809\t0.339\t0.705\t0.588\n",
    "    config_file='configs/train_smi_bert_test.yaml'\n",
    "    config = parse_config(config_file)\n",
    "    model, device = load_bert_model(ckpt=ckpt, config=config)\n",
    "\n",
    "    X_all = encode_with_bert(df_all.smi, model)\n",
    "    X_train = encode_with_bert(df_train.smi, model)\n",
    "    X_test = encode_with_bert(df_test.smi, model)\n",
    "\n",
    "    np.save('data/CycPeptMPDB/X_all_smi_bert.npy', X_all)\n",
    "    np.save('data/CycPeptMPDB/X_train_smi_bert.npy', X_train)\n",
    "    np.save('data/CycPeptMPDB/X_test_smi_bert.npy', X_test)\n",
    "else:\n",
    "    X_all = np.load('data/CycPeptMPDB/X_all_smi_bert.npy')\n",
    "    X_train = np.load('data/CycPeptMPDB/X_train_smi_bert.npy')\n",
    "    X_test = np.load('data/CycPeptMPDB/X_test_smi_bert.npy')\n",
    "\n",
    "X_train.shape, y_train.shape, X_test.shape, y_test.shape"
   ]
  },
  {
   "cell_type": "markdown",
   "id": "ed4154a9",
   "metadata": {},
   "source": [
    "### RDKit descriptors"
   ]
  },
  {
   "cell_type": "code",
   "execution_count": 2,
   "id": "46143ef7",
   "metadata": {},
   "outputs": [],
   "source": [
    "import warnings\n",
    "import numpy as np\n",
    "from rdkit import Chem, rdBase, DataStructs\n",
    "from rdkit.Chem import AllChem\n",
    "from typing import List\n",
    "from rdkit import rdBase, Chem\n",
    "from rdkit.Chem import Descriptors, rdMolDescriptors\n",
    "\n",
    "rdBase.DisableLog('rdApp.error')\n",
    "warnings.filterwarnings(\"ignore\", category=DeprecationWarning)\n",
    "warnings.filterwarnings(\"ignore\", category=UserWarning)\n",
    "warnings.filterwarnings(\"ignore\", category=FutureWarning)\n",
    "\n",
    "def getMolDescriptors(mol, missingVal=0):\n",
    "    \"\"\" calculate the full list of descriptors for a molecule \"\"\"\n",
    "\n",
    "    values, names = [], []\n",
    "    for nm, fn in Descriptors._descList:\n",
    "        try:\n",
    "            val = fn(mol)\n",
    "        except:\n",
    "            val = missingVal\n",
    "        values.append(val)\n",
    "        names.append(nm)\n",
    "\n",
    "    custom_descriptors = {'hydrogen-bond donors': rdMolDescriptors.CalcNumLipinskiHBD,\n",
    "                          'hydrogen-bond acceptors': rdMolDescriptors.CalcNumLipinskiHBA,\n",
    "                          'rotatable bonds': rdMolDescriptors.CalcNumRotatableBonds,}\n",
    "    for nm, fn in custom_descriptors.items():\n",
    "        try:\n",
    "            val = fn(mol)\n",
    "        except:\n",
    "            val = missingVal\n",
    "        values.append(val)\n",
    "        names.append(nm)\n",
    "    return values,names\n",
    "\n",
    "# getMolDescriptors('CC(=O)SCCCC[C@H](N)C(O)=O')"
   ]
  },
  {
   "cell_type": "markdown",
   "id": "1a954d07",
   "metadata": {},
   "source": [
    "#### Monomer descriptors"
   ]
  },
  {
   "cell_type": "code",
   "execution_count": 3,
   "id": "49ba4fde",
   "metadata": {},
   "outputs": [],
   "source": [
    "from utils.helm_utils import get_monomer_dicts\n",
    "\n",
    "def get_smi_without_rgroups(monomer, monomers2smi_dict, monomers2r_groups_dict):\n",
    "    smi = monomers2smi_dict[monomer]\n",
    "    for r_group in monomers2r_groups_dict[monomer]: # replace r groups\n",
    "        if monomers2r_groups_dict[monomer][r_group] == 'OH':\n",
    "            smi = smi.replace(f'[*:_{r_group}]', 'O')\n",
    "        elif monomers2r_groups_dict[monomer][r_group]  == 'H':\n",
    "            smi = smi.replace(f'[*:_{r_group}]','')\n",
    "        else:\n",
    "            print(f\"R group {r_group}, {monomers2r_groups_dict[monomer][r_group]}\")\n",
    "    return smi"
   ]
  },
  {
   "cell_type": "code",
   "execution_count": 13,
   "id": "1700d087",
   "metadata": {},
   "outputs": [],
   "source": [
    "def calculate_monomer_dps():\n",
    "    monomers2smi_dict, monomers2r_groups_dict = get_monomer_dicts()\n",
    "    monomers = list(monomers2smi_dict.keys())\n",
    "\n",
    "    monomer_dps= []\n",
    "    monomer_smis = []\n",
    "    for monomer in monomers:\n",
    "        smi = get_smi_without_rgroups(monomer, monomers2smi_dict, monomers2r_groups_dict)\n",
    "        try:\n",
    "            mol = Chem.MolFromSmiles(smi)\n",
    "        except:\n",
    "            print(f\"convert {monomer} with smi {smi} to molecule failed!\")\n",
    "            mol = None\n",
    "        dps, names = getMolDescriptors(mol)\n",
    "        monomer_smis.append(smi)\n",
    "        monomer_dps.append(dps)\n",
    "\n",
    "    # min-max normalize of descriptors\n",
    "    monomer_dps_np = np.array(monomer_dps)\n",
    "    monomer_dps_np = (monomer_dps_np - np.min(monomer_dps_np, axis=0)) / (np.max(monomer_dps_np, axis=0) - np.min(monomer_dps_np, axis=0))\n",
    "\n",
    "    df_monomer_dps = pd.DataFrame(monomer_dps_np, columns=names)\n",
    "    df_monomer_dps['Symbol'] = monomers\n",
    "    df_monomer_dps['smi'] = monomer_smis\n",
    "\n",
    "    df_monomer_dps = df_monomer_dps.dropna(axis=1)\n",
    "    df_monomer_dps.to_csv('data/pretrain/monomer_descriptors.csv', index=False)\n",
    "    cols = df_monomer_dps.columns - ['Symbol', 'smi']\n",
    "    monomers2dps = dict(zip(monomers, df_monomer_dps[cols].values))\n",
    "    return monomers2dps"
   ]
  },
  {
   "cell_type": "code",
   "execution_count": 14,
   "id": "e0bcb21a",
   "metadata": {},
   "outputs": [],
   "source": [
    "def load_monomer_dps():\n",
    "    df_monomer_dps = pd.read_csv('data/pretrain/monomer_descriptors.csv')\n",
    "    cols = [col for col in df_monomer_dps.columns if col not in ['Symbol', 'smi']]\n",
    "    monomers2dps = dict(zip(monomers, df_monomer_dps[cols].values))\n",
    "    return monomers2dps"
   ]
  },
  {
   "cell_type": "code",
   "execution_count": 34,
   "id": "d30c876e",
   "metadata": {},
   "outputs": [],
   "source": [
    "from utils.helm_utils import get_monomer_dicts\n",
    "\n",
    "def get_monomer_dps_from_helm(helm, monomers2dps, return_sum=True):\n",
    "    \n",
    "    polymers = helm.split('$')[0].split(',PEPTIDE')\n",
    "    monomers = polymers[0].split('{')[1].split('}')[0].replace('[', '').replace(']', '').split('.')\n",
    "    if len(polymers) > 1 and polymers[1] != '':\n",
    "        print(f\"{len(polymers)} polymers in helm!\")\n",
    "        for i in range(1, len(polymers)):\n",
    "            print(f\"polymer {i+1}, {polymers[i]}\")\n",
    "            monomer_next = polymers[i].split('{')[1].split('}')[0].replace('[', '').replace(']', '').split('.')\n",
    "            monomers.extend(monomer_next)\n",
    "    monomer_dps = np.array([monomers2dps[monomer] for monomer in monomers])\n",
    "    if return_sum:\n",
    "        monomer_dps = monomer_dps.sum(axis=0)\n",
    "    return monomer_dps\n",
    "\n",
    "def get_all_monomer_dps(helms, return_sum=False):\n",
    "    monomers2dps = load_monomer_dps()\n",
    "    all_monomer_dps = [get_monomer_dps_from_helm(helm, monomers2dps, return_sum=return_sum) for helm in helms]\n",
    "    \n",
    "    if return_sum: \n",
    "        return np.array(all_monomer_dps) \n",
    "    else: \n",
    "        # pad to same length with 0 padding\n",
    "        max_len = max([len(monomer_dps) for monomer_dps in all_monomer_dps])\n",
    "        all_monomer_dps = [np.pad(monomer_dps, ((0, max_len - len(monomer_dps)), (0, 0)), 'constant', constant_values=0) for monomer_dps in all_monomer_dps]\n",
    "        \n",
    "        # convert to 3d numpy array\n",
    "        all_monomer_dps_np = np.empty((len(all_monomer_dps), all_monomer_dps[0].shape[0], all_monomer_dps[0].shape[1]))\n",
    "        for i in range(len(all_monomer_dps)):\n",
    "            all_monomer_dps_np[i] = all_monomer_dps[i]\n",
    "        return all_monomer_dps_np"
   ]
  },
  {
   "cell_type": "code",
   "execution_count": 36,
   "id": "07f3a375",
   "metadata": {},
   "outputs": [
    {
     "data": {
      "text/plain": [
       "((5960, 15, 189), (5960,), (1491, 15, 189), (1491,))"
      ]
     },
     "execution_count": 36,
     "metadata": {},
     "output_type": "execute_result"
    }
   ],
   "source": [
    "import numpy as np\n",
    "\n",
    "# train = True\n",
    "train = False\n",
    "if train:\n",
    "    \n",
    "    X_all = get_all_monomer_dps(df_all.helm)\n",
    "    X_train = get_all_monomer_dps(df_train.helm)\n",
    "    X_test = get_all_monomer_dps(df_test.helm)\n",
    "\n",
    "    np.save('data/CycPeptMPDB/X_all_monomer_dps.npy', X_all)\n",
    "    np.save('data/CycPeptMPDB/X_train_monomer_dps.npy', X_train)\n",
    "    np.save('data/CycPeptMPDB/X_test_monomer_dps.npy', X_test)\n",
    "else:\n",
    "    X_all = np.load('data/CycPeptMPDB/X_all_monomer_dps.npy')\n",
    "    X_train = np.load('data/CycPeptMPDB/X_train_monomer_dps.npy')\n",
    "    X_test = np.load('data/CycPeptMPDB/X_test_monomer_dps.npy')\n",
    "\n",
    "X_train.shape, y_train.shape, X_test.shape, y_test.shape"
   ]
  },
  {
   "cell_type": "markdown",
   "id": "b41c077d",
   "metadata": {},
   "source": [
    "#### Peptide descriptors"
   ]
  },
  {
   "cell_type": "code",
   "execution_count": 38,
   "id": "4bf74bf0",
   "metadata": {},
   "outputs": [],
   "source": [
    "def get_pep_dps_from_smi(smi):\n",
    "    try:\n",
    "        mol = Chem.MolFromSmiles(smi)\n",
    "    except:\n",
    "        print(f\"convert smi {smi} to molecule failed!\")\n",
    "        mol = None\n",
    "    \n",
    "    dps, _ = getMolDescriptors(mol)\n",
    "    return np.array(dps)\n",
    "\n",
    "def get_pep_dps(smi_list):\n",
    "    return np.array([get_pep_dps_from_smi(smi) for smi in smi_list])"
   ]
  },
  {
   "cell_type": "code",
   "execution_count": 55,
   "id": "89477b17",
   "metadata": {},
   "outputs": [
    {
     "data": {
      "text/plain": [
       "((7451, 211), (7451,), (5960, 211), (5960,), (1491, 211), (1491,))"
      ]
     },
     "execution_count": 55,
     "metadata": {},
     "output_type": "execute_result"
    }
   ],
   "source": [
    "import numpy as np\n",
    "\n",
    "train = True\n",
    "# train = False\n",
    "if train:\n",
    "    \n",
    "    X_all = get_pep_dps(df_all.smi)\n",
    "    X_train = get_pep_dps(df_train.smi)\n",
    "    X_test = get_pep_dps(df_test.smi)\n",
    "\n",
    "    np.save('data/CycPeptMPDB/X_all_pep_dps.npy', X_all)\n",
    "    np.save('data/CycPeptMPDB/X_train_pep_dps.npy', X_train)\n",
    "    np.save('data/CycPeptMPDB/X_test_pep_dps.npy', X_test)\n",
    "else:\n",
    "    X_all = np.load('data/CycPeptMPDB/X_all_pep_dps.npy')\n",
    "    X_train = np.load('data/CycPeptMPDB/X_train_pep_dps.npy')\n",
    "    X_test = np.load('data/CycPeptMPDB/X_test_pep_dps.npy')\n",
    "\n",
    "X_all.shape, y_all.shape, X_train.shape, y_train.shape, X_test.shape, y_test.shape"
   ]
  },
  {
   "cell_type": "markdown",
   "id": "c46132fd",
   "metadata": {},
   "source": [
    "## Modeling"
   ]
  },
  {
   "cell_type": "markdown",
   "id": "7048461a",
   "metadata": {},
   "source": [
    "### Final features"
   ]
  },
  {
   "cell_type": "code",
   "execution_count": 8,
   "id": "78a03e1b",
   "metadata": {},
   "outputs": [
    {
     "data": {
      "text/plain": [
       "((7451, 2771), (7451,), (5960, 2771), (5960,), (1491, 2771), (1491,))"
      ]
     },
     "execution_count": 8,
     "metadata": {},
     "output_type": "execute_result"
    }
   ],
   "source": [
    "# features = ['pep_dps', ]\n",
    "# features = ['fps', ]\n",
    "# features = ['monomer_dps', ]\n",
    "# features = ['smi_bert', ]\n",
    "# features = ['2dps', ]\n",
    "\n",
    "# features = ['pep_dps', 'fps', ]\n",
    "# features = ['pep_dps', 'monomer_dps', ]\n",
    "# features = ['pep_dps', 'smi_bert', ]\n",
    "# features = ['pep_dps', '2dps', ]\n",
    "\n",
    "# features = ['fps', 'monomer_dps', ]\n",
    "# features = ['fps', 'smi_bert', ]\n",
    "# features = ['fps', '2dps', ] \n",
    "\n",
    "# features = ['monomer_dps', 'smi_bert', ]\n",
    "\n",
    "# features = ['fps', '2dps', 'pep_dps', ]\n",
    "# features = ['fps', 'monomer_dps', 'pep_dps', ]\n",
    "# features = ['fps', 'monomer_dps', 'smi_bert', ]\n",
    "features = ['fps', 'pep_dps', 'smi_bert', ]\n",
    "\n",
    "X_all_features = []\n",
    "X_train_features = []\n",
    "X_test_features = []\n",
    "for feat in features:\n",
    "    try:\n",
    "        X_all = np.load(f'data/CycPeptMPDB/X_all_{feat}.npy')\n",
    "        X_train = np.load(f'data/CycPeptMPDB/X_train_{feat}.npy')\n",
    "        X_test = np.load(f'data/CycPeptMPDB/X_test_{feat}.npy')\n",
    "\n",
    "        X_all_features.append(X_all)\n",
    "        X_train_features.append(X_train)\n",
    "        X_test_features.append(X_test)\n",
    "    except:\n",
    "        raise ValueError(f'Feature {feat} not supported')\n",
    "\n",
    "X_all = np.concatenate(X_all_features, axis=1)\n",
    "X_train = np.concatenate(X_train_features, axis=1)\n",
    "X_test = np.concatenate(X_test_features, axis=1)\n",
    "\n",
    "X_all.shape, y_all.shape, X_train.shape, y_train.shape, X_test.shape, y_test.shape"
   ]
  },
  {
   "cell_type": "code",
   "execution_count": 9,
   "id": "94e8beb6",
   "metadata": {},
   "outputs": [],
   "source": [
    "import matplotlib.pyplot as plt\n",
    "from utils.utils import get_regresssion_metrics\n",
    "\n",
    "def plot_scatter_y(y, y_hat, x_label='y', y_label='y_hat', save_path=None):\n",
    "    plt.scatter(y, y_hat, alpha=0.1)\n",
    "    get_regresssion_metrics(y, y_hat)\n",
    "    mae = np.mean(np.abs(y - y_hat))\n",
    "    print(f'MAE: {mae:.3f}, y mean: {np.mean(y):.3f}, y_hat mean: {np.mean(y_hat):.3f}')\n",
    "    plt.xlabel(x_label)\n",
    "    plt.ylabel(y_label)\n",
    "    if save_path:\n",
    "        plt.savefig(save_path+f'_{mae:.3f}.pdf', dpi=300, bbox_inches='tight')\n",
    "    plt.show()"
   ]
  },
  {
   "cell_type": "markdown",
   "id": "da88b1bd",
   "metadata": {},
   "source": [
    "### XGBoost regressor"
   ]
  },
  {
   "cell_type": "code",
   "execution_count": 10,
   "id": "a832c5fa",
   "metadata": {},
   "outputs": [
    {
     "name": "stdout",
     "output_type": "stream",
     "text": [
      "MAE \t MSE \t R2 \t Spearman \t Pearson\n",
      "0.511\t0.756\t-0.218\t0.756\t0.625\n",
      "MAE: 0.511, y mean: -5.876, y_hat mean: -5.883\n"
     ]
    },
    {
     "data": {
      "image/png": "[encoded data removed]",
      "text/plain": [
       "<Figure size 640x480 with 1 Axes>"
      ]
     },
     "metadata": {},
     "output_type": "display_data"
    }
   ],
   "source": [
    "from xgboost import XGBRegressor\n",
    "\n",
    "is_cv = False\n",
    "is_save = False\n",
    "save_path='data/CycPeptMPDB/fps_xgbr.model'\n",
    "\n",
    "if is_cv:\n",
    "    from numpy import absolute\n",
    "    from sklearn.model_selection import RepeatedKFold, cross_val_score\n",
    "\n",
    "    model = XGBRegressor(n_estimators=1000, max_depth=7, eta=0.1, subsample=0.7, colsample_bytree=0.8)\n",
    "    cv = RepeatedKFold(n_splits=10, n_repeats=5, random_state=1)\n",
    "    scores = cross_val_score(model, X_all, y_all, scoring='neg_mean_absolute_error', cv=cv, n_jobs=None)    # 16 min\n",
    "    scores = absolute(scores)\n",
    "    print('Mean MAE: %.3f (%.3f)' % (scores.mean(), scores.std()) )\n",
    "else:\n",
    "    model = XGBRegressor(n_estimators=1000, max_depth=7, eta=0.1, subsample=0.7, colsample_bytree=0.8)\n",
    "    model.fit(X_train, y_train)\n",
    "    if is_save:\n",
    "        joblib.dump(model, save_path)\n",
    "        model = joblib.load(save_path)\n",
    "    y_hat = model.predict(X_test)\n",
    "    plot_scatter_y(y_test, y_hat, x_label='y_test', y_label='y_hat_test', save_path=save_path)"
   ]
  },
  {
   "cell_type": "markdown",
   "id": "769e7847",
   "metadata": {},
   "source": [
    "### RF regressor"
   ]
  },
  {
   "cell_type": "code",
   "execution_count": 11,
   "id": "6347fb47",
   "metadata": {},
   "outputs": [],
   "source": [
    "# from sklearn.ensemble import RandomForestRegressor\n",
    "# import joblib\n",
    "\n",
    "# is_cv = False\n",
    "# is_save = False\n",
    "# save_path='data/CycPeptMPDB/fps_rf.model'\n",
    "\n",
    "# if is_cv:\n",
    "#     from numpy import absolute\n",
    "#     from sklearn.model_selection import RepeatedKFold, cross_val_score\n",
    "\n",
    "#     model = RandomForestRegressor(max_depth=5, random_state=0)\n",
    "#     cv = RepeatedKFold(n_splits=10, n_repeats=5, random_state=1)\n",
    "#     scores = cross_val_score(model, X_all, y_all, scoring='neg_mean_absolute_error', cv=cv, n_jobs=None)    # 16 min\n",
    "#     scores = absolute(scores)\n",
    "#     print('Mean MAE: %.3f (%.3f)' % (scores.mean(), scores.std()) )\n",
    "# else:\n",
    "#     model = RandomForestRegressor(max_depth=5, random_state=0)\n",
    "#     model.fit(X_train, y_train)\n",
    "#     if is_save:\n",
    "#         joblib.dump(model, save_path)\n",
    "#         model = joblib.load(save_path)\n",
    "#     y_hat = model.predict(X_test)\n",
    "#     # model.save_model(save_path)\n",
    "#     plot_scatter_y(y_test, y_hat, x_label='y_test', y_label='y_hat_test', save_path=save_path)"
   ]
  },
  {
   "cell_type": "code",
   "execution_count": null,
   "id": "88e7a761",
   "metadata": {},
   "outputs": [],
   "source": []
  }
 ],
 "metadata": {
  "kernelspec": {
   "display_name": "Python 3 (ipykernel)",
   "language": "python",
   "name": "python3"
  },
  "language_info": {
   "codemirror_mode": {
    "name": "ipython",
    "version": 3
   },
   "file_extension": ".py",
   "mimetype": "text/x-python",
   "name": "python",
   "nbconvert_exporter": "python",
   "pygments_lexer": "ipython3",
   "version": "3.7.12"
  },
  "toc-autonumbering": true,
  "toc-showmarkdowntxt": false
 },
 "nbformat": 4,
 "nbformat_minor": 5
}
