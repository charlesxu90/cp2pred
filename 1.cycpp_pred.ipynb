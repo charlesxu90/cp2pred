{
 "cells": [
  {
   "attachments": {},
   "cell_type": "markdown",
   "id": "18d2d19b",
   "metadata": {},
   "source": [
    "# Cyclic peptides"
   ]
  },
  {
   "cell_type": "code",
   "execution_count": 1,
   "id": "4a4dc41c",
   "metadata": {},
   "outputs": [
    {
     "data": {
      "text/plain": [
       "0    PEPTIDE2{[Abu].[Sar].[meL].V.[meL].A.[dA].[meL].[meL].[meV].[Me_Bmt(E)]}$PEPTIDE2,PEPTIDE2,1:R1-11:R2$$$\n",
       "1                                               PEPTIDE1{[dL].[dL].L.[dL].P.Y}$PEPTIDE1,PEPTIDE1,1:R1-6:R2$$$\n",
       "2                                            PEPTIDE1{[dL].[dL].[dL].[dL].P.Y}$PEPTIDE1,PEPTIDE1,1:R1-6:R2$$$\n",
       "3                                                     PEPTIDE1{L.L.L.[dL].P.Y}$PEPTIDE1,PEPTIDE1,1:R1-6:R2$$$\n",
       "4                                               PEPTIDE1{L.[dL].[dL].[dL].P.Y}$PEPTIDE1,PEPTIDE1,1:R1-6:R2$$$\n",
       "Name: helm, dtype: object"
      ]
     },
     "metadata": {},
     "output_type": "display_data"
    }
   ],
   "source": [
    "import pandas as pd\n",
    "df_all= pd.read_csv('data/CycPeptMPDB/all.csv')\n",
    "df_train = pd.read_csv('data/CycPeptMPDB/train.csv')\n",
    "df_test = pd.read_csv('data/CycPeptMPDB/test.csv')\n",
    "\n",
    "pd.set_option('display.max_colwidth', None)\n",
    "\n",
    "display(df_all.head()['helm'])\n",
    "\n",
    "y_train = df_train.score.values\n",
    "y_test = df_test.score.values\n",
    "y_all = df_all.score.values"
   ]
  },
  {
   "cell_type": "markdown",
   "id": "d9c8c9aa",
   "metadata": {},
   "source": [
    "## Feature processing"
   ]
  },
  {
   "cell_type": "markdown",
   "id": "ef83a9b6",
   "metadata": {},
   "source": [
    "### Fingerprints (fps)"
   ]
  },
  {
   "cell_type": "code",
   "execution_count": 2,
   "id": "6dd691b4",
   "metadata": {},
   "outputs": [],
   "source": [
    "import warnings\n",
    "import numpy as np\n",
    "from rdkit import Chem, rdBase, DataStructs\n",
    "from rdkit.Chem import AllChem\n",
    "from typing import List\n",
    "\n",
    "rdBase.DisableLog('rdApp.error')\n",
    "warnings.filterwarnings(\"ignore\", category=DeprecationWarning)\n",
    "warnings.filterwarnings(\"ignore\", category=UserWarning)\n",
    "warnings.filterwarnings(\"ignore\", category=FutureWarning)\n",
    "\n",
    "def fingerprints_from_smiles(smiles: List, size=2048):\n",
    "    \"\"\"\n",
    "        Create ECFP fingerprints of smiles, with validity check\n",
    "    \"\"\"\n",
    "    fps = []\n",
    "    valid_mask = []\n",
    "    for i, smile in enumerate(smiles):\n",
    "        mol = Chem.MolFromSmiles(smile)\n",
    "        valid_mask.append(int(mol is not None))\n",
    "        fp = fingerprints_from_mol(mol, size=size) if mol else np.zeros((1, size))\n",
    "        fps.append(fp)\n",
    "\n",
    "    fps = np.concatenate(fps, axis=0)\n",
    "    return fps, valid_mask\n",
    "\n",
    "\n",
    "def fingerprints_from_mol(molecule, radius=3, size=2048, hashed=False):\n",
    "    \"\"\"\n",
    "        Create ECFP fingerprint of a molecule\n",
    "    \"\"\"\n",
    "    if hashed:\n",
    "        fp_bits = AllChem.GetHashedMorganFingerprint(molecule, radius, nBits=size)\n",
    "    else:\n",
    "        fp_bits = AllChem.GetMorganFingerprintAsBitVect(molecule, radius, nBits=size)\n",
    "    fp_np = np.zeros((1,))\n",
    "    DataStructs.ConvertToNumpyArray(fp_bits, fp_np)\n",
    "    return fp_np.reshape(1, -1)"
   ]
  },
  {
   "cell_type": "code",
   "execution_count": 3,
   "id": "5918c79c",
   "metadata": {},
   "outputs": [
    {
     "data": {
      "text/plain": [
       "((5960, 2048), (7451,), (5960, 2048), (5960,), (1491, 2048), (1491,))"
      ]
     },
     "execution_count": 3,
     "metadata": {},
     "output_type": "execute_result"
    }
   ],
   "source": [
    "# train = True\n",
    "train = False\n",
    "if train:\n",
    "    X_all = fingerprints_from_smiles(df_all.smi)[0]\n",
    "    X_train = fingerprints_from_smiles(df_train.smi)[0]\n",
    "    X_test = fingerprints_from_smiles(df_test.smi)[0]\n",
    "\n",
    "    np.save('data/CycPeptMPDB/X_all_fps.npy', X_train)\n",
    "    np.save('data/CycPeptMPDB/X_train_fps.npy', X_train)\n",
    "    np.save('data/CycPeptMPDB/X_test_fps.npy', X_test)\n",
    "else:\n",
    "    X_all = np.load('data/CycPeptMPDB/X_all_fps.npy')\n",
    "    X_train = np.load('data/CycPeptMPDB/X_train_fps.npy')\n",
    "    X_test = np.load('data/CycPeptMPDB/X_test_fps.npy')\n",
    "\n",
    "X_all.shape, y_all.shape, X_train.shape, y_train.shape, X_test.shape, y_test.shape"
   ]
  },
  {
   "cell_type": "markdown",
   "id": "40d100c5",
   "metadata": {},
   "source": [
    "### 2D descriptors"
   ]
  },
  {
   "cell_type": "code",
   "execution_count": 4,
   "id": "312e49a2",
   "metadata": {},
   "outputs": [],
   "source": [
    "import warnings\n",
    "import numpy as np\n",
    "from rdkit import Chem, rdBase, DataStructs\n",
    "from rdkit.Chem import AllChem\n",
    "from typing import List\n",
    "from rdkit import rdBase, Chem\n",
    "from rdkit.Chem import Descriptors, rdMolDescriptors\n",
    "\n",
    "rdBase.DisableLog('rdApp.error')\n",
    "warnings.filterwarnings(\"ignore\", category=DeprecationWarning)\n",
    "warnings.filterwarnings(\"ignore\", category=UserWarning)\n",
    "warnings.filterwarnings(\"ignore\", category=FutureWarning)\n",
    "\n",
    "\n",
    "def get_2d_descriptor_from_mol(m):\n",
    "    \"\"\"\n",
    "    Calculate 2D descriptors from mol object\n",
    "    :param m: mol object\n",
    "    :return: 2D descriptors including MW, LogP, TPSA, HBD, HBA, PHI, numAtom, \n",
    "    \"\"\"\n",
    "    mw = Descriptors.MolWt(m)\n",
    "    logp = Descriptors.MolLogP(m)\n",
    "\n",
    "    tpsa = Descriptors.TPSA(mol)  # Topological polar surface area\n",
    "    hbd = rdMolDescriptors.CalcNumLipinskiHBD(m)  # Number of hydrogen-bond donors\n",
    "    hba = rdMolDescriptors.CalcNumLipinskiHBA(m)  # Number of hydrogen-bond acceptors\n",
    "    n_rb = Chem.rdMolDescriptors.CalcNumRotatableBonds(mol)  # Number of rotatable bonds\n",
    "    n_atom = m.GetNumAtoms()  # Number of atoms\n",
    "    return np.array([mw, logp, tpsa, hbd, hba, n_rb, n_atom])\n",
    "\n",
    "# get_2d_descriptor_from_mol(mol)\n",
    "\n",
    "\n",
    "def get_2d_descriptor_from_smiles(smiles: List, size=7):\n",
    "    \"\"\"\n",
    "        Create 2d descriptors of smiles, with validity check\n",
    "    \"\"\"\n",
    "    dps = []\n",
    "    valid_mask = []\n",
    "    for i, smile in enumerate(smiles):\n",
    "        mol = Chem.MolFromSmiles(smile)\n",
    "        valid_mask.append(int(mol is not None))\n",
    "        dp = get_2d_descriptor_from_mol(mol) if mol else np.zeros(size)\n",
    "        dps.append(dp)\n",
    "\n",
    "    dps = np.vstack(dps)\n",
    "    return dps, valid_mask"
   ]
  },
  {
   "cell_type": "code",
   "execution_count": 5,
   "id": "60dd6d0f",
   "metadata": {},
   "outputs": [
    {
     "data": {
      "text/plain": [
       "((5960, 7), (7451,), (5960, 7), (5960,), (1491, 7), (1491,))"
      ]
     },
     "execution_count": 5,
     "metadata": {},
     "output_type": "execute_result"
    }
   ],
   "source": [
    "# train = True\n",
    "train = False\n",
    "if train:\n",
    "    X_all = get_2d_descriptor_from_smiles(df_all.smi)[0]\n",
    "    X_train = get_2d_descriptor_from_smiles(df_train.smi)[0]\n",
    "    X_test = get_2d_descriptor_from_smiles(df_test.smi)[0]\n",
    "\n",
    "    np.save('data/CycPeptMPDB/X_all_2dps.npy', X_train)\n",
    "    np.save('data/CycPeptMPDB/X_train_2dps.npy', X_train)\n",
    "    np.save('data/CycPeptMPDB/X_test_2dps.npy', X_test)\n",
    "else:\n",
    "    X_all = np.load('data/CycPeptMPDB/X_all_2dps.npy')\n",
    "    X_train = np.load('data/CycPeptMPDB/X_train_2dps.npy')\n",
    "    X_test = np.load('data/CycPeptMPDB/X_test_2dps.npy')\n",
    "\n",
    "X_all.shape, y_all.shape, X_train.shape, y_train.shape, X_test.shape, y_test.shape"
   ]
  },
  {
   "cell_type": "markdown",
   "id": "2a669097",
   "metadata": {},
   "source": [
    "### BERT features"
   ]
  },
  {
   "cell_type": "code",
   "execution_count": 6,
   "id": "2300b788",
   "metadata": {},
   "outputs": [],
   "source": [
    "from dataset.tokenizer import SmilesTokenizer, AATokenizer, BPETokenizer\n",
    "from model.bert import BERT\n",
    "from utils.utils import parse_config, load_model\n",
    "import torch\n",
    "\n",
    "def load_bert_model(ckpt, config, device='cuda', model_type='smi_bert'):\n",
    "    if model_type == 'smi_bert':\n",
    "        tokenizer = SmilesTokenizer(max_len=config.data.max_len)\n",
    "    elif model_type == 'aa_bert':\n",
    "        tokenizer = AATokenizer(max_len=config.data.max_len)\n",
    "    elif config.data.type == 'bpe':\n",
    "        tokenizer = BPETokenizer(bpe_path=config.data.bpe_path, max_len=config.data.max_len)\n",
    "    else:\n",
    "        raise ValueError(f'Invalid model_type: {model_type}')\n",
    "\n",
    "    model = BERT(tokenizer, **config.model)\n",
    "    model = load_model(model, ckpt, device)\n",
    "    model.eval()\n",
    "    return model, device\n",
    "\n",
    "def get_bert_embd(encoder, inputs, device='cuda',):\n",
    "    with torch.no_grad():\n",
    "        tokens = encoder.tokenize_inputs(inputs).to(device)\n",
    "        batch_lens = (tokens != encoder.tokenizer.pad_token_id).sum(1)\n",
    "        embd = encoder.embed(tokens)\n",
    "        reps = []\n",
    "        for i, tokens_len in enumerate(batch_lens):\n",
    "            reps.append(embd[i, 1 : tokens_len - 1].mean(0))\n",
    "    return torch.stack(reps)\n",
    "\n",
    "def encode_with_bert(list, model, device='cuda', batch_size=128):\n",
    "    reps = []\n",
    "    for i in range(0, len(list), batch_size):\n",
    "        reps.append(get_bert_embd(model, list[i : i + batch_size], device=device))\n",
    "    reps = torch.cat(reps).cpu().numpy()\n",
    "    # logger.info(f\"list shape: {list.shape}, reps shape: {reps.shape}\")\n",
    "    return reps"
   ]
  },
  {
   "cell_type": "markdown",
   "id": "b3332ba3",
   "metadata": {},
   "source": [
    "#### SMILES BERT"
   ]
  },
  {
   "cell_type": "code",
   "execution_count": 9,
   "id": "c54f400f",
   "metadata": {},
   "outputs": [],
   "source": [
    "# train = True\n",
    "train = False\n",
    "if train:\n",
    "    ckpt='results/train_smi_bert_tune/model_13_0.003.pt'  # 90.71\t93.88\t87.06\t0.814\t0.905\n",
    "    config_file='configs/train_smi_bert_tune.yaml'\n",
    "    config = parse_config(config_file)\n",
    "    model, device = load_bert_model(ckpt=ckpt, config=config)\n",
    "\n",
    "    X_train = encode_with_bert(df_train.smi, model)\n",
    "    X_test = encode_with_bert(df_test.smi, model)\n",
    "\n",
    "    np.save('data/CycPeptMPDB/X_train_smi_bert.npy', X_train)\n",
    "    np.save('data/CycPeptMPDB/X_test_smi_bert.npy', X_test)\n",
    "else:\n",
    "    # X_train = np.load('data/CycPeptMPDB/X_train_smi_bert.npy')\n",
    "    # X_test = np.load('data/CycPeptMPDB/X_test_smi_bert.npy')\n",
    "    pass\n",
    "\n",
    "# X_train.shape, y_train.shape, X_test.shape, y_test.shape"
   ]
  },
  {
   "cell_type": "markdown",
   "id": "ed4154a9",
   "metadata": {},
   "source": [
    "### Monomer features"
   ]
  },
  {
   "cell_type": "markdown",
   "id": "7d908e78",
   "metadata": {},
   "source": [
    "#### Fingerprints"
   ]
  },
  {
   "cell_type": "code",
   "execution_count": 34,
   "id": "d30c876e",
   "metadata": {},
   "outputs": [],
   "source": [
    "from utils.helm_utils import get_monomer_dicts\n",
    "\n",
    "\n",
    "\n",
    "# get full smiles of monomers\n",
    "\n",
    "# def get_monomer_smis():\n",
    "monomers2smi_dict, monomers2r_groups_dict = get_monomer_dicts()\n",
    "    # def replace_rgroups(monomer):\n",
    "    #     smi = monomers2smi_dict[monomer]\n",
    "    #     for r_group in monomers2r_groups_dict[monomer]:\n",
    "    #         if r_group == 'OH':\n",
    "    #             smi.replace(':R1', 'O')\n",
    "    #         elif r_group == 'H':\n",
    "    #             smi\n",
    "    #     return smi\n",
    "    # monomers2smi = []\n",
    "    # for monomer in monomers2smi_dict:\n",
    "    #     monomers2smi[monomer] = replace_rgroups(monomer)\n",
    "    \n",
    "    # return monomers2smi\n",
    "\n",
    "\n",
    "def get_monomer_fps_from_helm(helm, return_sum=True):\n",
    "    # print(helm)\n",
    "    # helm = 'PEPTIDE1{A.[Mono39].[meL].[Nle].[dP].[Mono45]}$PEPTIDE1,PEPTIDE1,1:R1-6:R2$$$'\n",
    "    \n",
    "    polymers = helm.split('$')[0].split(',PEPTIDE')\n",
    "    monomers = polymers[0].split('{')[1].split('}')[0].replace('[', '').replace(']', '').split('.')\n",
    "    if len(polymers) > 1 and polymers[1] != '':\n",
    "        print(f\"{len(polymers)} polymers in helm!\")\n",
    "        for i in range(1, len(polymers)):\n",
    "            print(f\"polymer {i+1}, {polymers[i]}\")\n",
    "            monomer_next = polymers[i].split('{')[1].split('}')[0].replace('[', '').replace(']', '').split('.')\n",
    "            monomers.extend(monomer_next)\n",
    "\n",
    "    monomer_smis = [monomers2smi_dict[mono] for mono in monomers]\n",
    "    monomer_fps, _ = fingerprints_from_smiles(monomer_smis)\n",
    "    if return_sum:\n",
    "        monomer_fps = monomer_fps.sum(axis=0)\n",
    "    return monomer_fps\n",
    "\n",
    "def get_monomer_fps(helms):\n",
    "    return np.array([get_monomer_fps_from_helm(helm) for helm in helms])"
   ]
  },
  {
   "cell_type": "code",
   "execution_count": 54,
   "id": "0bea445a",
   "metadata": {},
   "outputs": [],
   "source": [
    "def fingerprints_from_cxsmiles(smiles: List, size=2048):\n",
    "    \"\"\" Create ECFP fingerprints of smiles, with validity check \"\"\"\n",
    "    fps = []\n",
    "    valid_mask = []\n",
    "    for i, smile in enumerate(smiles):\n",
    "        mol = Chem.MolFromCXSmiles(smile)\n",
    "        valid_mask.append(int(mol is not None))\n",
    "        fp = fingerprints_from_mol(mol, size=size) if mol else np.zeros((1, size))\n",
    "        fps.append(fp)\n",
    "\n",
    "    fps = np.concatenate(fps, axis=0)\n",
    "    return fps, valid_mask"
   ]
  },
  {
   "cell_type": "code",
   "execution_count": 50,
   "id": "8862b488",
   "metadata": {},
   "outputs": [
    {
     "data": {
      "text/plain": [
       "'PEPTIDE1{[Nal].[Mono38].[meL].[Nle].[dP].[Mono34]}$PEPTIDE1,PEPTIDE1,1:R1-6:R2$$$'"
      ]
     },
     "execution_count": 50,
     "metadata": {},
     "output_type": "execute_result"
    }
   ],
   "source": [
    "df_test.helm[0]"
   ]
  },
  {
   "cell_type": "code",
   "execution_count": 59,
   "id": "2576d639",
   "metadata": {},
   "outputs": [
    {
     "ename": "IndexError",
     "evalue": "list index out of range",
     "output_type": "error",
     "traceback": [
      "\u001b[0;31m---------------------------------------------------------------------------\u001b[0m",
      "\u001b[0;31mIndexError\u001b[0m                                Traceback (most recent call last)",
      "\u001b[0;32m/tmp/ipykernel_64478/3637890453.py\u001b[0m in \u001b[0;36m<module>\u001b[0;34m\u001b[0m\n\u001b[1;32m      1\u001b[0m \u001b[0;32mfrom\u001b[0m \u001b[0mutils\u001b[0m\u001b[0;34m.\u001b[0m\u001b[0mhelm_utils\u001b[0m \u001b[0;32mimport\u001b[0m \u001b[0mget_smi_from_cxsmiles\u001b[0m\u001b[0;34m\u001b[0m\u001b[0;34m\u001b[0m\u001b[0m\n\u001b[0;32m----> 2\u001b[0;31m \u001b[0mget_smi_from_cxsmiles\u001b[0m\u001b[0;34m(\u001b[0m\u001b[0mmonomers2smi_dict\u001b[0m\u001b[0;34m[\u001b[0m\u001b[0;34m'Nal'\u001b[0m\u001b[0;34m]\u001b[0m\u001b[0;34m)\u001b[0m\u001b[0;34m\u001b[0m\u001b[0;34m\u001b[0m\u001b[0m\n\u001b[0m",
      "\u001b[0;32m~/Desktop/Pep_pred/cp2pred/utils/helm_utils.py\u001b[0m in \u001b[0;36mget_smi_from_cxsmiles\u001b[0;34m(cxsmiles)\u001b[0m\n\u001b[1;32m     44\u001b[0m     \"\"\"\n\u001b[1;32m     45\u001b[0m     \u001b[0msmi_list\u001b[0m \u001b[0;34m=\u001b[0m \u001b[0mcxsmiles\u001b[0m\u001b[0;34m.\u001b[0m\u001b[0msplit\u001b[0m\u001b[0;34m(\u001b[0m\u001b[0;34m'|'\u001b[0m\u001b[0;34m)\u001b[0m\u001b[0;34m\u001b[0m\u001b[0;34m\u001b[0m\u001b[0m\n\u001b[0;32m---> 46\u001b[0;31m     \u001b[0msmi\u001b[0m\u001b[0;34m,\u001b[0m \u001b[0mpos\u001b[0m \u001b[0;34m=\u001b[0m \u001b[0msmi_list\u001b[0m\u001b[0;34m[\u001b[0m\u001b[0;36m0\u001b[0m\u001b[0;34m]\u001b[0m\u001b[0;34m,\u001b[0m \u001b[0msmi_list\u001b[0m\u001b[0;34m[\u001b[0m\u001b[0;36m1\u001b[0m\u001b[0;34m]\u001b[0m\u001b[0;34m\u001b[0m\u001b[0;34m\u001b[0m\u001b[0m\n\u001b[0m\u001b[1;32m     47\u001b[0m     \u001b[0mlabels\u001b[0m \u001b[0;34m=\u001b[0m \u001b[0mpos\u001b[0m\u001b[0;34m.\u001b[0m\u001b[0msplit\u001b[0m\u001b[0;34m(\u001b[0m\u001b[0;34m'$'\u001b[0m\u001b[0;34m)\u001b[0m\u001b[0;34m[\u001b[0m\u001b[0;36m1\u001b[0m\u001b[0;34m]\u001b[0m\u001b[0;34m.\u001b[0m\u001b[0msplit\u001b[0m\u001b[0;34m(\u001b[0m\u001b[0;34m';'\u001b[0m\u001b[0;34m)\u001b[0m\u001b[0;34m\u001b[0m\u001b[0;34m\u001b[0m\u001b[0m\n\u001b[1;32m     48\u001b[0m \u001b[0;34m\u001b[0m\u001b[0m\n",
      "\u001b[0;31mIndexError\u001b[0m: list index out of range"
     ]
    }
   ],
   "source": [
    "from utils.helm_utils import get_smi_from_cxsmiles\n",
    "get_smi_from_cxsmiles(monomers2smi_dict['Nal'])"
   ]
  },
  {
   "cell_type": "code",
   "execution_count": 58,
   "id": "5c104c6b",
   "metadata": {},
   "outputs": [],
   "source": [
    "ps = Chem.SmilesParserParams()\n",
    "ps.allowCXSMILES = True\n",
    "mol = Chem.MolFromSmiles(monomers2smi_dict['Nal'],ps)\n",
    "mol\n",
    "# fingerprints_from_mol(mol)"
   ]
  },
  {
   "cell_type": "code",
   "execution_count": 53,
   "id": "5a6c7437",
   "metadata": {},
   "outputs": [
    {
     "data": {
      "text/plain": [
       "'[*:_R1]N[C@@H](Cc1ccc2ccccc2c1)C([*:_R2])=O'"
      ]
     },
     "execution_count": 53,
     "metadata": {},
     "output_type": "execute_result"
    }
   ],
   "source": [
    "monomers2smi_dict['Nal']"
   ]
  },
  {
   "cell_type": "code",
   "execution_count": 55,
   "id": "84e14592",
   "metadata": {},
   "outputs": [
    {
     "ename": "AttributeError",
     "evalue": "module 'rdkit.Chem' has no attribute 'MolFromCXSmiles'",
     "output_type": "error",
     "traceback": [
      "\u001b[0;31m---------------------------------------------------------------------------\u001b[0m",
      "\u001b[0;31mAttributeError\u001b[0m                            Traceback (most recent call last)",
      "\u001b[0;32m/tmp/ipykernel_64478/194803769.py\u001b[0m in \u001b[0;36m<module>\u001b[0;34m\u001b[0m\n\u001b[0;32m----> 1\u001b[0;31m \u001b[0mfingerprints_from_cxsmiles\u001b[0m\u001b[0;34m(\u001b[0m\u001b[0;34m[\u001b[0m\u001b[0mmonomers2smi_dict\u001b[0m\u001b[0;34m[\u001b[0m\u001b[0;34m'Nal'\u001b[0m\u001b[0;34m]\u001b[0m\u001b[0;34m]\u001b[0m\u001b[0;34m)\u001b[0m\u001b[0;34m[\u001b[0m\u001b[0;36m0\u001b[0m\u001b[0;34m]\u001b[0m\u001b[0;34m.\u001b[0m\u001b[0mmax\u001b[0m\u001b[0;34m(\u001b[0m\u001b[0;34m)\u001b[0m\u001b[0;34m\u001b[0m\u001b[0;34m\u001b[0m\u001b[0m\n\u001b[0m",
      "\u001b[0;32m/tmp/ipykernel_64478/1557335740.py\u001b[0m in \u001b[0;36mfingerprints_from_cxsmiles\u001b[0;34m(smiles, size)\u001b[0m\n\u001b[1;32m      6\u001b[0m     \u001b[0mvalid_mask\u001b[0m \u001b[0;34m=\u001b[0m \u001b[0;34m[\u001b[0m\u001b[0;34m]\u001b[0m\u001b[0;34m\u001b[0m\u001b[0;34m\u001b[0m\u001b[0m\n\u001b[1;32m      7\u001b[0m     \u001b[0;32mfor\u001b[0m \u001b[0mi\u001b[0m\u001b[0;34m,\u001b[0m \u001b[0msmile\u001b[0m \u001b[0;32min\u001b[0m \u001b[0menumerate\u001b[0m\u001b[0;34m(\u001b[0m\u001b[0msmiles\u001b[0m\u001b[0;34m)\u001b[0m\u001b[0;34m:\u001b[0m\u001b[0;34m\u001b[0m\u001b[0;34m\u001b[0m\u001b[0m\n\u001b[0;32m----> 8\u001b[0;31m         \u001b[0mmol\u001b[0m \u001b[0;34m=\u001b[0m \u001b[0mChem\u001b[0m\u001b[0;34m.\u001b[0m\u001b[0mMolFromCXSmiles\u001b[0m\u001b[0;34m(\u001b[0m\u001b[0msmile\u001b[0m\u001b[0;34m)\u001b[0m\u001b[0;34m\u001b[0m\u001b[0;34m\u001b[0m\u001b[0m\n\u001b[0m\u001b[1;32m      9\u001b[0m         \u001b[0mvalid_mask\u001b[0m\u001b[0;34m.\u001b[0m\u001b[0mappend\u001b[0m\u001b[0;34m(\u001b[0m\u001b[0mint\u001b[0m\u001b[0;34m(\u001b[0m\u001b[0mmol\u001b[0m \u001b[0;32mis\u001b[0m \u001b[0;32mnot\u001b[0m \u001b[0;32mNone\u001b[0m\u001b[0;34m)\u001b[0m\u001b[0;34m)\u001b[0m\u001b[0;34m\u001b[0m\u001b[0;34m\u001b[0m\u001b[0m\n\u001b[1;32m     10\u001b[0m         \u001b[0mfp\u001b[0m \u001b[0;34m=\u001b[0m \u001b[0mfingerprints_from_mol\u001b[0m\u001b[0;34m(\u001b[0m\u001b[0mmol\u001b[0m\u001b[0;34m,\u001b[0m \u001b[0msize\u001b[0m\u001b[0;34m=\u001b[0m\u001b[0msize\u001b[0m\u001b[0;34m)\u001b[0m \u001b[0;32mif\u001b[0m \u001b[0mmol\u001b[0m \u001b[0;32melse\u001b[0m \u001b[0mnp\u001b[0m\u001b[0;34m.\u001b[0m\u001b[0mzeros\u001b[0m\u001b[0;34m(\u001b[0m\u001b[0;34m(\u001b[0m\u001b[0;36m1\u001b[0m\u001b[0;34m,\u001b[0m \u001b[0msize\u001b[0m\u001b[0;34m)\u001b[0m\u001b[0;34m)\u001b[0m\u001b[0;34m\u001b[0m\u001b[0;34m\u001b[0m\u001b[0m\n",
      "\u001b[0;31mAttributeError\u001b[0m: module 'rdkit.Chem' has no attribute 'MolFromCXSmiles'"
     ]
    }
   ],
   "source": [
    "fingerprints_from_cxsmiles([monomers2smi_dict['Nal']])[0].max()"
   ]
  },
  {
   "cell_type": "code",
   "execution_count": 35,
   "id": "07f3a375",
   "metadata": {},
   "outputs": [
    {
     "data": {
      "text/plain": [
       "((5960, 2048), (5960,), (1491, 2048), (1491,))"
      ]
     },
     "execution_count": 35,
     "metadata": {},
     "output_type": "execute_result"
    }
   ],
   "source": [
    "train = True\n",
    "# train = False\n",
    "if train:\n",
    "    \n",
    "    X_all = get_monomer_fps(df_all.helm)\n",
    "    X_train = get_monomer_fps(df_train.helm)\n",
    "    X_test = get_monomer_fps(df_test.helm)\n",
    "\n",
    "    np.save('data/CycPeptMPDB/X_all_monomer_fps.npy', X_all)\n",
    "    np.save('data/CycPeptMPDB/X_train_monomer_fps.npy', X_train)\n",
    "    np.save('data/CycPeptMPDB/X_test_monomer_fps.npy', X_test)\n",
    "else:\n",
    "    X_all = np.load('data/CycPeptMPDB/X_all_monomer_fps.npy')\n",
    "    X_train = np.load('data/CycPeptMPDB/X_train_monomer_fps.npy')\n",
    "    X_test = np.load('data/CycPeptMPDB/X_test_monomer_fps.npy')\n",
    "\n",
    "X_train.shape, y_train.shape, X_test.shape, y_test.shape"
   ]
  },
  {
   "cell_type": "code",
   "execution_count": 43,
   "id": "594db391",
   "metadata": {},
   "outputs": [
    {
     "data": {
      "text/plain": [
       "array([0., 0., 0., 0., 0., 0.])"
      ]
     },
     "execution_count": 43,
     "metadata": {},
     "output_type": "execute_result"
    }
   ],
   "source": [
    "monomer_fps = get_monomer_fps_from_helm(df_test.helm[0], return_sum=False)\n",
    "monomer_fps.max(axis=1)"
   ]
  },
  {
   "cell_type": "markdown",
   "id": "27f7dde8",
   "metadata": {},
   "source": [
    "#### Descriptors"
   ]
  },
  {
   "cell_type": "code",
   "execution_count": null,
   "id": "04dcfe9a",
   "metadata": {},
   "outputs": [],
   "source": []
  },
  {
   "cell_type": "markdown",
   "id": "7048461a",
   "metadata": {},
   "source": [
    "### Final features"
   ]
  },
  {
   "cell_type": "code",
   "execution_count": null,
   "id": "78a03e1b",
   "metadata": {},
   "outputs": [
    {
     "data": {
      "text/plain": [
       "((5960, 2055), (7451,), (5960, 2055), (5960,), (1491, 2055), (1491,))"
      ]
     },
     "execution_count": 15,
     "metadata": {},
     "output_type": "execute_result"
    }
   ],
   "source": [
    "# features = ['fps', ]\n",
    "# features = ['2dps', ]\n",
    "# features = ['smi_bert', ]\n",
    "# features = ['helm_bert', ]\n",
    "features = ['fps', '2dps', ]\n",
    "# features = ['smi_bert', 'helm_bert', ]\n",
    "\n",
    "X_all_features = []\n",
    "X_train_features = []\n",
    "X_test_features = []\n",
    "for feat in features:\n",
    "    try:\n",
    "        X_all = np.load(f'data/CycPeptMPDB/X_all_{feat}.npy')\n",
    "        X_train = np.load(f'data/CycPeptMPDB/X_train_{feat}.npy')\n",
    "        X_test = np.load(f'data/CycPeptMPDB/X_test_{feat}.npy')\n",
    "\n",
    "        X_all_features.append(X_all)\n",
    "        X_train_features.append(X_train)\n",
    "        X_test_features.append(X_test)\n",
    "    except:\n",
    "        raise ValueError(f'Feature {feat} not supported')\n",
    "\n",
    "X_all = np.concatenate(X_all_features, axis=1)\n",
    "X_train = np.concatenate(X_train_features, axis=1)\n",
    "X_test = np.concatenate(X_test_features, axis=1)\n",
    "\n",
    "X_all.shape, y_all.shape, X_train.shape, y_train.shape, X_test.shape, y_test.shape"
   ]
  },
  {
   "attachments": {},
   "cell_type": "markdown",
   "id": "959eb63f",
   "metadata": {},
   "source": [
    "## Modeling"
   ]
  },
  {
   "cell_type": "code",
   "execution_count": 36,
   "id": "94e8beb6",
   "metadata": {},
   "outputs": [],
   "source": [
    "import matplotlib.pyplot as plt\n",
    "from utils.utils import get_regresssion_metrics\n",
    "\n",
    "def plot_scatter_y(y, y_hat, x_label='y', y_label='y_hat', save_path=None):\n",
    "    plt.scatter(y, y_hat, alpha=0.1)\n",
    "    get_regresssion_metrics(y, y_hat)\n",
    "    mae = np.mean(np.abs(y - y_hat))\n",
    "    print(f'MAE: {mae:.3f}, y mean: {np.mean(y):.3f}, y_hat mean: {np.mean(y_hat):.3f}')\n",
    "    plt.xlabel(x_label)\n",
    "    plt.ylabel(y_label)\n",
    "    if save_path:\n",
    "        plt.savefig(save_path+f'_{mae:.3f}.pdf', dpi=300, bbox_inches='tight')\n",
    "    plt.show()"
   ]
  },
  {
   "cell_type": "markdown",
   "id": "da88b1bd",
   "metadata": {},
   "source": [
    "### XGBoost regressor"
   ]
  },
  {
   "cell_type": "code",
   "execution_count": 37,
   "id": "a832c5fa",
   "metadata": {},
   "outputs": [
    {
     "name": "stderr",
     "output_type": "stream",
     "text": [
      "/home/xiaopeng/Desktop/Pep_pred/env/lib/python3.7/site-packages/scipy/stats/stats.py:4484: SpearmanRConstantInputWarning: An input array is constant; the correlation coefficient is not defined.\n",
      "  warnings.warn(SpearmanRConstantInputWarning())\n",
      "/home/xiaopeng/Desktop/Pep_pred/env/lib/python3.7/site-packages/scipy/stats/stats.py:4023: PearsonRConstantInputWarning: An input array is constant; the correlation coefficient is not defined.\n",
      "  warnings.warn(PearsonRConstantInputWarning())\n"
     ]
    },
    {
     "name": "stdout",
     "output_type": "stream",
     "text": [
      "MAE \t MSE \t R2 \t Spearman \t Pearson\n",
      "0.737\t1.225\t-5386988955988.734\tnan\tnan\n",
      "MAE: 0.737, y mean: -5.876, y_hat mean: -5.861\n"
     ]
    },
    {
     "data": {
      "image/png": "[encoded data removed]",
      "text/plain": [
       "<Figure size 640x480 with 1 Axes>"
      ]
     },
     "metadata": {},
     "output_type": "display_data"
    }
   ],
   "source": [
    "from xgboost import XGBRegressor\n",
    "\n",
    "is_cv = False\n",
    "is_save = False\n",
    "save_path='data/CycPeptMPDB/fps_xgbr.model'\n",
    "\n",
    "if is_cv:\n",
    "    from numpy import absolute\n",
    "    from sklearn.model_selection import RepeatedKFold, cross_val_score\n",
    "\n",
    "    model = XGBRegressor(n_estimators=1000, max_depth=7, eta=0.1, subsample=0.7, colsample_bytree=0.8)\n",
    "    cv = RepeatedKFold(n_splits=10, n_repeats=5, random_state=1)\n",
    "    scores = cross_val_score(model, X_all, y_all, scoring='neg_mean_absolute_error', cv=cv, n_jobs=None)    # 16 min\n",
    "    scores = absolute(scores)\n",
    "    print('Mean MAE: %.3f (%.3f)' % (scores.mean(), scores.std()) )\n",
    "else:\n",
    "    model = XGBRegressor(n_estimators=1000, max_depth=7, eta=0.1, subsample=0.7, colsample_bytree=0.8)\n",
    "    model.fit(X_train, y_train)\n",
    "    if is_save:\n",
    "        joblib.dump(model, save_path)\n",
    "        model = joblib.load(save_path)\n",
    "    y_hat = model.predict(X_test)\n",
    "    plot_scatter_y(y_test, y_hat, x_label='y_test', y_label='y_hat_test', save_path=save_path)"
   ]
  },
  {
   "cell_type": "markdown",
   "id": "769e7847",
   "metadata": {},
   "source": [
    "### RF regressor"
   ]
  },
  {
   "cell_type": "code",
   "execution_count": 38,
   "id": "6347fb47",
   "metadata": {},
   "outputs": [
    {
     "name": "stdout",
     "output_type": "stream",
     "text": [
      "MAE \t MSE \t R2 \t Spearman \t Pearson\n",
      "0.737\t1.225\t0.000\tnan\tnan\n",
      "MAE: 0.737, y mean: -5.876, y_hat mean: -5.863\n"
     ]
    },
    {
     "name": "stderr",
     "output_type": "stream",
     "text": [
      "/home/xiaopeng/Desktop/Pep_pred/env/lib/python3.7/site-packages/scipy/stats/stats.py:4484: SpearmanRConstantInputWarning: An input array is constant; the correlation coefficient is not defined.\n",
      "  warnings.warn(SpearmanRConstantInputWarning())\n",
      "/home/xiaopeng/Desktop/Pep_pred/env/lib/python3.7/site-packages/scipy/stats/stats.py:4023: PearsonRConstantInputWarning: An input array is constant; the correlation coefficient is not defined.\n",
      "  warnings.warn(PearsonRConstantInputWarning())\n"
     ]
    },
    {
     "data": {
      "image/png": "[encoded data removed]",
      "text/plain": [
       "<Figure size 640x480 with 1 Axes>"
      ]
     },
     "metadata": {},
     "output_type": "display_data"
    }
   ],
   "source": [
    "from sklearn.ensemble import RandomForestRegressor\n",
    "import joblib\n",
    "\n",
    "is_cv = False\n",
    "is_save = False\n",
    "save_path='data/CycPeptMPDB/fps_rf.model'\n",
    "\n",
    "if is_cv:\n",
    "    from numpy import absolute\n",
    "    from sklearn.model_selection import RepeatedKFold, cross_val_score\n",
    "\n",
    "    model = RandomForestRegressor(max_depth=5, random_state=0)\n",
    "    cv = RepeatedKFold(n_splits=10, n_repeats=5, random_state=1)\n",
    "    scores = cross_val_score(model, X_all, y_all, scoring='neg_mean_absolute_error', cv=cv, n_jobs=None)    # 16 min\n",
    "    scores = absolute(scores)\n",
    "    print('Mean MAE: %.3f (%.3f)' % (scores.mean(), scores.std()) )\n",
    "else:\n",
    "    model = RandomForestRegressor(max_depth=5, random_state=0)\n",
    "    model.fit(X_train, y_train)\n",
    "    if is_save:\n",
    "        joblib.dump(model, save_path)\n",
    "        model = joblib.load(save_path)\n",
    "    y_hat = model.predict(X_test)\n",
    "    # model.save_model(save_path)\n",
    "    plot_scatter_y(y_test, y_hat, x_label='y_test', y_label='y_hat_test', save_path=save_path)"
   ]
  },
  {
   "cell_type": "code",
   "execution_count": null,
   "id": "88e7a761",
   "metadata": {},
   "outputs": [],
   "source": []
  }
 ],
 "metadata": {
  "kernelspec": {
   "display_name": "Python 3 (ipykernel)",
   "language": "python",
   "name": "python3"
  },
  "language_info": {
   "codemirror_mode": {
    "name": "ipython",
    "version": 3
   },
   "file_extension": ".py",
   "mimetype": "text/x-python",
   "name": "python",
   "nbconvert_exporter": "python",
   "pygments_lexer": "ipython3",
   "version": "3.7.12"
  },
  "toc-autonumbering": true,
  "toc-showmarkdowntxt": false
 },
 "nbformat": 4,
 "nbformat_minor": 5
}
