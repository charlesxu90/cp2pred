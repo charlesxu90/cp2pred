{
 "cells": [
  {
   "attachments": {},
   "cell_type": "markdown",
   "id": "ba795da7",
   "metadata": {},
   "source": [
    "# Convert SMILES/HELMS into images"
   ]
  },
  {
   "cell_type": "code",
   "execution_count": 36,
   "id": "ed718e94",
   "metadata": {},
   "outputs": [],
   "source": [
    "import os\n",
    "from rdkit import Chem\n",
    "from rdkit.Chem import Draw\n",
    "from joblib import Parallel, delayed\n",
    "from tqdm import tqdm\n",
    "\n",
    "def smile_to_image(smile, path, img_size=(250, 250)):\n",
    "    mol = Chem.MolFromSmiles(smile)\n",
    "    draw = Draw.MolToFile(mol, path, size=img_size)\n",
    "\n",
    "def convert_smi_to_img(df, out_dir, img_size=(250, 250)):\n",
    "    smiles = list(df.smi)\n",
    "    ids = list(df.index)\n",
    "    \n",
    "    img_paths = [os.path.join(out_dir, f'smi_images/{id}.png') for id in ids]\n",
    "\n",
    "    os.makedirs(os.path.join(out_dir, 'smi_images'), exist_ok=True)\n",
    "    Parallel(n_jobs=os.cpu_count())(delayed(smile_to_image)(s, p, img_size) for s, p in tqdm(zip(smiles, img_paths), cols=80))\n",
    "\n",
    "    return img_paths"
   ]
  },
  {
   "attachments": {},
   "cell_type": "markdown",
   "id": "18d2d19b",
   "metadata": {},
   "source": [
    "# CycPeptMPDB\n"
   ]
  },
  {
   "cell_type": "code",
   "execution_count": 37,
   "id": "3a800b5d",
   "metadata": {},
   "outputs": [
    {
     "name": "stdout",
     "output_type": "stream",
     "text": [
      "7451 5960 1491\n"
     ]
    }
   ],
   "source": [
    "import pandas as pd\n",
    "\n",
    "\n",
    "# train = True\n",
    "train = False\n",
    "\n",
    "if train:\n",
    "    df_cycpdb_all = pd.read_csv('data/CycPeptMPDB/all.csv')\n",
    "    df_cycpdb_all['smi_img'] = convert_smi_to_img(df_cycpdb_all, 'data/CycPeptMPDB')\n",
    "\n",
    "    from sklearn.model_selection import train_test_split\n",
    "\n",
    "    df_cycpdb_train, df_cycpdb_test = train_test_split(df_cycpdb_all, test_size=0.2, random_state=42)\n",
    "\n",
    "    df_cycpdb_all.to_csv('data/CycPeptMPDB/img_all.csv', index=True)\n",
    "    df_cycpdb_train.to_csv('data/CycPeptMPDB/img_train.csv', index=True)\n",
    "    df_cycpdb_test.to_csv('data/CycPeptMPDB/img_test.csv', index=True)\n",
    "else:\n",
    "    df_cycpdb_all = pd.read_csv('data/CycPeptMPDB/img_all.csv', index_col=0)\n",
    "    df_cycpdb_train = pd.read_csv('data/CycPeptMPDB/img_train.csv', index_col=0)\n",
    "    df_cycpdb_test = pd.read_csv('data/CycPeptMPDB/img_test.csv', index_col=0)\n",
    "\n",
    "print(len(df_cycpdb_all), len(df_cycpdb_train), len(df_cycpdb_test))\n"
   ]
  },
  {
   "cell_type": "code",
   "execution_count": null,
   "id": "dff62203",
   "metadata": {},
   "outputs": [],
   "source": []
  }
 ],
 "metadata": {
  "kernelspec": {
   "display_name": "Python 3 (ipykernel)",
   "language": "python",
   "name": "python3"
  },
  "language_info": {
   "codemirror_mode": {
    "name": "ipython",
    "version": 3
   },
   "file_extension": ".py",
   "mimetype": "text/x-python",
   "name": "python",
   "nbconvert_exporter": "python",
   "pygments_lexer": "ipython3",
   "version": "3.7.12"
  },
  "toc-autonumbering": true,
  "toc-showmarkdowntxt": false
 },
 "nbformat": 4,
 "nbformat_minor": 5
}
