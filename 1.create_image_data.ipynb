{
 "cells": [
  {
   "attachments": {},
   "cell_type": "markdown",
   "id": "ba795da7",
   "metadata": {},
   "source": [
    "# Convert SMILES/HELMS into images"
   ]
  },
  {
   "cell_type": "code",
   "execution_count": 1,
   "id": "ed718e94",
   "metadata": {},
   "outputs": [],
   "source": [
    "import os\n",
    "from rdkit import Chem\n",
    "from rdkit.Chem import Draw\n",
    "from joblib import Parallel, delayed\n",
    "from tqdm import tqdm\n",
    "\n",
    "def smile_to_image(smile, path, img_size=(250, 250)):\n",
    "    mol = Chem.MolFromSmiles(smile)\n",
    "    draw = Draw.MolToFile(mol, path, size=img_size)\n",
    "\n",
    "def convert_smi_to_img(df, out_dir, img_size=(250, 250)):\n",
    "    smiles = list(df.smi)\n",
    "    ids = list(df.index)\n",
    "    \n",
    "    img_paths = [os.path.join(out_dir, f'smi_images/{id}.png') for id in ids]\n",
    "\n",
    "    os.makedirs(os.path.join(out_dir, 'smi_images'), exist_ok=True)\n",
    "    Parallel(n_jobs=os.cpu_count())(delayed(smile_to_image)(s, p, img_size) for s, p in tqdm(zip(smiles, img_paths), cols=80))\n",
    "\n",
    "    return img_paths"
   ]
  },
  {
   "attachments": {},
   "cell_type": "markdown",
   "id": "18d2d19b",
   "metadata": {},
   "source": [
    "# CycPeptMPDB\n"
   ]
  },
  {
   "cell_type": "code",
   "execution_count": 2,
   "id": "3a800b5d",
   "metadata": {},
   "outputs": [
    {
     "name": "stdout",
     "output_type": "stream",
     "text": [
      "7451 5960 1491\n"
     ]
    }
   ],
   "source": [
    "import pandas as pd\n",
    "\n",
    "\n",
    "# train = True\n",
    "train = False\n",
    "\n",
    "if train:\n",
    "    df_cycpdb_all = pd.read_csv('data/CycPeptMPDB/all.csv')\n",
    "    df_cycpdb_all['smi_img'] = convert_smi_to_img(df_cycpdb_all, 'data/CycPeptMPDB')\n",
    "\n",
    "    from sklearn.model_selection import train_test_split\n",
    "\n",
    "    df_cycpdb_train, df_cycpdb_test = train_test_split(df_cycpdb_all, test_size=0.2, random_state=42)\n",
    "\n",
    "    df_cycpdb_all.to_csv('data/CycPeptMPDB/img_all.csv', index=True)\n",
    "    df_cycpdb_train.to_csv('data/CycPeptMPDB/img_train.csv', index=True)\n",
    "    df_cycpdb_test.to_csv('data/CycPeptMPDB/img_test.csv', index=True)\n",
    "else:\n",
    "    df_cycpdb_all = pd.read_csv('data/CycPeptMPDB/img_all.csv', index_col=0)\n",
    "    df_cycpdb_train = pd.read_csv('data/CycPeptMPDB/img_train.csv', index_col=0)\n",
    "    df_cycpdb_test = pd.read_csv('data/CycPeptMPDB/img_test.csv', index_col=0)\n",
    "\n",
    "print(len(df_cycpdb_all), len(df_cycpdb_train), len(df_cycpdb_test))\n"
   ]
  },
  {
   "cell_type": "markdown",
   "id": "dd76d8c9",
   "metadata": {},
   "source": [
    "## Test fastai"
   ]
  },
  {
   "cell_type": "code",
   "execution_count": 55,
   "id": "acf5d244",
   "metadata": {},
   "outputs": [],
   "source": [
    "import numpy as np\n",
    "import cv2\n",
    "import os\n",
    "import tqdm\n",
    "import pandas as pd\n",
    "from joblib import Parallel, delayed\n",
    "import os\n",
    "import tqdm\n",
    "import re\n",
    "\n",
    "class ImageAugmentations:\n",
    "\n",
    "    def __init__(self, out_dir):\n",
    "        self.out_dir = out_dir\n",
    "\n",
    "    @staticmethod\n",
    "    def rotating(img, num_rotations=6):\n",
    "        (h, w) = img.shape[:2]\n",
    "        center = (w / 2, h / 2)\n",
    "        rotated_images = []\n",
    "        for i in range(num_rotations):\n",
    "            rotations = list(range(0, 180, num_rotations))\n",
    "            M = cv2.getRotationMatrix2D(center, rotations[i], 1.0)\n",
    "            rotated = cv2.warpAffine(img, M, (w, h))\n",
    "            rotated_images.append(rotated)\n",
    "        return rotated_images\n",
    "\n",
    "    @staticmethod\n",
    "    def flipping(img):\n",
    "        flipped_images = []\n",
    "        originalImage = img\n",
    "        flipVertical = cv2.flip(originalImage, 0)\n",
    "        flipHorizontal = cv2.flip(originalImage, 1)\n",
    "        flipBoth = cv2.flip(originalImage, -1)\n",
    "        flipped_images.append(flipVertical)\n",
    "        flipped_images.append(flipHorizontal)\n",
    "        flipped_images.append(flipBoth)\n",
    "        return flipped_images\n",
    "\n",
    "    def aug_image(self, raw_img_path, save_dir):\n",
    "        counter = 0\n",
    "        fname = os.path.basename(raw_img_path)\n",
    "        img = cv2.imread(raw_img_path)\n",
    "        rot_imgs = self.rotating(img)\n",
    "        aug_img_paths = []\n",
    "        for im in rot_imgs:\n",
    "            flip = self.flipping(im)\n",
    "            for flipped in flip:\n",
    "                aug_img_path = os.path.join(save_dir, f'{fname}_aug_{counter}.png')\n",
    "                cv2.imwrite(aug_img_path, flipped)\n",
    "                counter += 1\n",
    "                aug_img_paths.append(aug_img_path)\n",
    "\n",
    "        return raw_img_path, aug_img_paths\n",
    "\n",
    "    def do_image_augmentations(self, paths, dir_name='aug_images'):\n",
    "        save_dir = os.path.join(self.out_dir, dir_name)\n",
    "        os.makedirs(save_dir, exist_ok=True)\n",
    "        print(f\"augmented images are saved to {save_dir}\")\n",
    "        aug_paths = Parallel(n_jobs=os.cpu_count())(delayed(self.aug_image)(p, save_dir) for p in tqdm.tqdm(paths, ncols=80))\n",
    "        return dict(aug_paths) # return dict of raw image path and augmented image paths"
   ]
  },
  {
   "cell_type": "code",
   "execution_count": 62,
   "id": "25308bba",
   "metadata": {},
   "outputs": [
    {
     "name": "stdout",
     "output_type": "stream",
     "text": [
      "augmented images are saved to test/aug_images\n"
     ]
    },
    {
     "name": "stderr",
     "output_type": "stream",
     "text": [
      "100%|███████████████████████████████████████████| 5/5 [00:00<00:00, 5414.80it/s]\n"
     ]
    },
    {
     "data": {
      "text/plain": [
       "90"
      ]
     },
     "execution_count": 62,
     "metadata": {},
     "output_type": "execute_result"
    }
   ],
   "source": [
    "df_to_aug = df_cycpdb_train.sample(5)\n",
    "augmentor = ImageAugmentations(out_dir='test/')\n",
    "aug_paths_dict = augmentor.do_image_augmentations(df_to_aug.smi_img)\n",
    "\n",
    "columns = df_to_aug.columns\n",
    "\n",
    "augmented_images = []\n",
    "for index, row in df_to_aug.iterrows():\n",
    "    row_values = {col: row[col] for col in columns}\n",
    "    for aug_path in aug_paths_dict[row['smi_img']]:\n",
    "        row_values['smi_img'] = aug_path\n",
    "        augmented_images.append(tuple(row_values.values()))\n",
    "\n",
    "df_augmented_images = pd.DataFrame(augmented_images, columns=columns)\n",
    "len(df_augmented_images)"
   ]
  },
  {
   "cell_type": "code",
   "execution_count": 96,
   "id": "d4bd1a0e",
   "metadata": {},
   "outputs": [],
   "source": [
    "from model.vit import VisionTransformer, CONFIGS\n",
    "from urllib.request import urlretrieve\n",
    "\n",
    "def load_vit_model():\n",
    "    os.makedirs(\"data/vit_models\", exist_ok=True)\n",
    "    if not os.path.isfile(\"data/vit_models/ViT-B_16-224.npz\"):\n",
    "        urlretrieve(\"https://storage.googleapis.com/vit_models/imagenet21k+imagenet2012/ViT-B_16-224.npz\", \n",
    "                    \"data/vit_models/ViT-B_16-224.npz\")\n",
    "        \n",
    "    config = CONFIGS[\"ViT-B_16\"]\n",
    "    model = VisionTransformer(config, num_classes=1000, zero_head=False, img_size=224, vis=True) \n",
    "    model.load_from(np.load(\"data/vit_models/ViT-B_16-224.npz\"))\n",
    "    return model"
   ]
  },
  {
   "cell_type": "code",
   "execution_count": 95,
   "id": "a48fbc5e",
   "metadata": {},
   "outputs": [],
   "source": [
    "import logging\n",
    "\n",
    "import torch\n",
    "\n",
    "from torchvision import transforms, datasets\n",
    "from torch.utils.data import DataLoader, RandomSampler, DistributedSampler, SequentialSampler\n",
    "\n",
    "\n",
    "def get_loader(batch_size=128):\n",
    "    transform_train = transforms.Compose([\n",
    "        transforms.RandomResizedCrop((224, 224), scale=(0.05, 1.0)),\n",
    "        transforms.ToTensor(),\n",
    "        transforms.Normalize(mean=[0.5, 0.5, 0.5], std=[0.5, 0.5, 0.5]),\n",
    "    ])\n",
    "    transform_test = transforms.Compose([transforms.Resize((224, 224)),\n",
    "                                         transforms.ToTensor(),\n",
    "                                         transforms.Normalize(mean=[0.5, 0.5, 0.5], std=[0.5, 0.5, 0.5]),])\n",
    "\n",
    "    trainset = datasets.CIFAR10(root=\"./data\",\n",
    "                                    train=True,\n",
    "                                    download=True,\n",
    "                                    transform=transform_train)\n",
    "    testset = datasets.CIFAR10(root=\"./data\",\n",
    "                                   train=False,\n",
    "                                   download=True,\n",
    "                                   transform=transform_test)\n",
    "    train_sampler = RandomSampler(trainset)\n",
    "    test_sampler = SequentialSampler(testset)\n",
    "    train_loader = DataLoader(trainset,\n",
    "                              sampler=train_sampler,\n",
    "                              batch_size=batch_size,\n",
    "                              num_workers=4,\n",
    "                              pin_memory=True)\n",
    "    test_loader = DataLoader(testset,\n",
    "                             sampler=test_sampler,\n",
    "                             batch_size=batch_size,\n",
    "                             num_workers=4,\n",
    "                             pin_memory=True) if testset is not None else None\n",
    "\n",
    "    return train_loader, test_loader\n"
   ]
  },
  {
   "cell_type": "code",
   "execution_count": null,
   "id": "095f1003",
   "metadata": {},
   "outputs": [],
   "source": [
    "model = load_vit_model()\n",
    "train_loader, test_loader = get_loader(batch_size=16)\n",
    "\n",
    "optimizer = torch.optim.SGD(model.parameters(), lr=1e-4, momentum=0.9, weight_decay=0.98)\n",
    "\n",
    "device = torch.device('cuda:1')\n",
    "model.train()\n",
    "model.to(device)\n",
    "epoch_iterator = tqdm.tqdm(train_loader, desc=\"Training (X / X Steps) (loss=X.X)\",)\n",
    "\n",
    "for step, batch in enumerate(epoch_iterator):\n",
    "    batch = tuple(t.to(device) for t in batch)\n",
    "    x, y = batch\n",
    "    loss = model(x, y)\n",
    "    loss.backward()\n",
    "    optimizer.step()\n",
    "    optimizer.zero_grad()\n",
    "    epoch_iterator.set_description(f\"Training (loss={loss.item():2.5f})\")"
   ]
  },
  {
   "cell_type": "code",
   "execution_count": null,
   "id": "5519cb6d",
   "metadata": {},
   "outputs": [],
   "source": []
  }
 ],
 "metadata": {
  "kernelspec": {
   "display_name": "Python 3 (ipykernel)",
   "language": "python",
   "name": "python3"
  },
  "language_info": {
   "codemirror_mode": {
    "name": "ipython",
    "version": 3
   },
   "file_extension": ".py",
   "mimetype": "text/x-python",
   "name": "python",
   "nbconvert_exporter": "python",
   "pygments_lexer": "ipython3",
   "version": "3.7.12"
  },
  "toc-autonumbering": true,
  "toc-showmarkdowntxt": false
 },
 "nbformat": 4,
 "nbformat_minor": 5
}
