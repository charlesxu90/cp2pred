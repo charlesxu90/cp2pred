{
 "cells": [
  {
   "attachments": {},
   "cell_type": "markdown",
   "id": "18d2d19b",
   "metadata": {},
   "source": [
    "# K_ras peptides"
   ]
  },
  {
   "cell_type": "code",
   "execution_count": 1,
   "id": "4a4dc41c",
   "metadata": {},
   "outputs": [
    {
     "data": {
      "text/html": [
       "<div>\n",
       "<style scoped>\n",
       "    .dataframe tbody tr th:only-of-type {\n",
       "        vertical-align: middle;\n",
       "    }\n",
       "\n",
       "    .dataframe tbody tr th {\n",
       "        vertical-align: top;\n",
       "    }\n",
       "\n",
       "    .dataframe thead th {\n",
       "        text-align: right;\n",
       "    }\n",
       "</style>\n",
       "<table border=\"1\" class=\"dataframe\">\n",
       "  <thead>\n",
       "    <tr style=\"text-align: right;\">\n",
       "      <th></th>\n",
       "      <th>smi</th>\n",
       "      <th>IC50</th>\n",
       "      <th>score</th>\n",
       "    </tr>\n",
       "  </thead>\n",
       "  <tbody>\n",
       "    <tr>\n",
       "      <th>0</th>\n",
       "      <td>NC(NCCC[C@H](NC([C@@H](NC([C@@H]1CSSC[C@H](NC([C@@H](NC([C@@H](NC(=O)C)CCCNC(=[NH2+])N)=O)CCCNC(=[NH2+])N)=O)C(=O)N2[C@@H](CCC2)C(=O)N[C@@H](CC(C)C)C(=O)N[C@@H](Cc3ccc(O)cc3)C(=O)N[C@@H]([C@H](CC)C)C(=O)N[C@@H](CO)C(=O)N[C@@H](Cc4ccc(O)cc4)C(=O)N[C@@H](CC(=O)O)C(=O)N5[C@@H](CCC5)C(=O)N[C@@H](C(C)C)C(=O)N1)=O)CCCNC(=[NH2+])N)=O)C(=O)N)=[NH2+].C(F)(F)(F)C([O-])=O</td>\n",
       "      <td>8.9</td>\n",
       "      <td>0.949390</td>\n",
       "    </tr>\n",
       "    <tr>\n",
       "      <th>1</th>\n",
       "      <td>CC[C@@H](C)[C@H]1C(=O)N[C@H](C(=O)N[C@H](C(=O)N[C@H](C(=O)N2CCC[C@H]2C(=O)N[C@H](C(=O)N[C@@H](CSSC[C@@H](C(=O)N3CCC[C@H]3C(=O)N[C@H](C(=O)N[C@H](C(=O)N1)CC4=CC=C(C=C4)O)CC(C)C)NC(=O)[C@H](CCCNC(=N)N)NC(=O)[C@H](CCCNC(=N)N)NC(=O)[C@H](CCCNC(=N)N)NC(=O)[C@H](CCCNC(=N)N)[NH-])C(=O)N[C@@H](CCCNC(=N)N)C(=O)N[C@@H](CCCNC(=N)N)C(=O)N[C@@H](CCCNC(=N)N)C(=O)N[C@@H](CCCNC(=N)N)C(=O)N)C(C)C)CC(=O)O)CC5=CC=C(C=C5)O)CO.[Ac]</td>\n",
       "      <td>1.6</td>\n",
       "      <td>0.204120</td>\n",
       "    </tr>\n",
       "    <tr>\n",
       "      <th>2</th>\n",
       "      <td>CC[C@@H](C)[C@H]1C(=O)N[C@H](C(=O)N[C@H](C(=O)N[C@H](C(=O)N2CCC[C@H]2C(=O)N[C@H](C(=O)N[C@@H](CSSC[C@@H](C(=O)N3CCC[C@H]3C(=O)N[C@H](C(=O)N[C@H](C(=O)N1)CC4=CC=C(C=C4)O)CC(C)C)NC(=O)[C@H](CCCNC(=N)N)NC(=O)[C@H](CCCNC(=N)N)NC(=O)[C@H](CCCNC(=N)N)NC(=O)[C@H](CCCNC(=N)N)[NH-])C(=O)N[C@@H](CCCNC(=N)N)C(=O)N[C@@H](CCCNC(=N)N)C(=O)N[C@@H](CCCNC(=N)N)C(=O)N[C@@H](CCCNC(=N)N)C(=O)N)C(C)C)CC(=O)O)CC5=CC=C(C=C5)O)CO.[Ac]</td>\n",
       "      <td>1.6</td>\n",
       "      <td>0.204120</td>\n",
       "    </tr>\n",
       "    <tr>\n",
       "      <th>3</th>\n",
       "      <td>CC[C@H](C)[C@@H]1NC(=O)[C@H](Cc2ccc(O)cc2)NC(=O)[C@H](CC(C)C)NC(=O)[C@@H]2CCCN2C(=O)[C@@H](NC(C)=O)CSSC[C@@H](C(N)=O)NC(=O)[C@H](C(C)C)NC(=O)[C@@H]2CCCN2C(=O)[C@H](CC(=O)O)NC(=O)[C@H](Cc2ccc(O)cc2)NC(=O)[C@H](CO)NC1=O</td>\n",
       "      <td>11.0</td>\n",
       "      <td>1.041393</td>\n",
       "    </tr>\n",
       "    <tr>\n",
       "      <th>4</th>\n",
       "      <td>CC[C@H](C)[C@@H]1NC(=O)[C@H](Cc2ccc(O)cc2)NC(=O)[C@H](CC(C)C)NC(=O)[C@@H]2CCCN2C(=O)[C@@H](NC(=O)[C@H](CCCNC(=N)N)NC(=O)[C@H](CCCNC(=N)N)NC(=O)[C@H](CCCNC(=N)N)NC(=O)[C@@H](CCCNC(=N)N)NC(C)=O)CSSC[C@@H](C(=O)N[C@@H](CCCNC(=N)N)C(=O)N[C@@H](CCCNC(=N)N)C(=O)N[C@@H](CCCNC(=N)N)C(=O)N[C@@H](CCCNC(=N)N)C(=O)N[C@H](CCCNC(=N)N)C(N)=O)NC(=O)[C@H](C(C)C)NC(=O)[C@@H]2CCCN2C(=O)[C@H](CC(=O)O)NC(=O)[C@H](Cc2ccc(O)cc2)NC(=O)[C@H](CO)NC1=O</td>\n",
       "      <td>6.1</td>\n",
       "      <td>0.785330</td>\n",
       "    </tr>\n",
       "  </tbody>\n",
       "</table>\n",
       "</div>"
      ],
      "text/plain": [
       "                                                                                                                                                                                                                                                                                                                                                                                                                                             smi  \\\n",
       "0                                                                    NC(NCCC[C@H](NC([C@@H](NC([C@@H]1CSSC[C@H](NC([C@@H](NC([C@@H](NC(=O)C)CCCNC(=[NH2+])N)=O)CCCNC(=[NH2+])N)=O)C(=O)N2[C@@H](CCC2)C(=O)N[C@@H](CC(C)C)C(=O)N[C@@H](Cc3ccc(O)cc3)C(=O)N[C@@H]([C@H](CC)C)C(=O)N[C@@H](CO)C(=O)N[C@@H](Cc4ccc(O)cc4)C(=O)N[C@@H](CC(=O)O)C(=O)N5[C@@H](CCC5)C(=O)N[C@@H](C(C)C)C(=O)N1)=O)CCCNC(=[NH2+])N)=O)C(=O)N)=[NH2+].C(F)(F)(F)C([O-])=O   \n",
       "1                 CC[C@@H](C)[C@H]1C(=O)N[C@H](C(=O)N[C@H](C(=O)N[C@H](C(=O)N2CCC[C@H]2C(=O)N[C@H](C(=O)N[C@@H](CSSC[C@@H](C(=O)N3CCC[C@H]3C(=O)N[C@H](C(=O)N[C@H](C(=O)N1)CC4=CC=C(C=C4)O)CC(C)C)NC(=O)[C@H](CCCNC(=N)N)NC(=O)[C@H](CCCNC(=N)N)NC(=O)[C@H](CCCNC(=N)N)NC(=O)[C@H](CCCNC(=N)N)[NH-])C(=O)N[C@@H](CCCNC(=N)N)C(=O)N[C@@H](CCCNC(=N)N)C(=O)N[C@@H](CCCNC(=N)N)C(=O)N[C@@H](CCCNC(=N)N)C(=O)N)C(C)C)CC(=O)O)CC5=CC=C(C=C5)O)CO.[Ac]   \n",
       "2                 CC[C@@H](C)[C@H]1C(=O)N[C@H](C(=O)N[C@H](C(=O)N[C@H](C(=O)N2CCC[C@H]2C(=O)N[C@H](C(=O)N[C@@H](CSSC[C@@H](C(=O)N3CCC[C@H]3C(=O)N[C@H](C(=O)N[C@H](C(=O)N1)CC4=CC=C(C=C4)O)CC(C)C)NC(=O)[C@H](CCCNC(=N)N)NC(=O)[C@H](CCCNC(=N)N)NC(=O)[C@H](CCCNC(=N)N)NC(=O)[C@H](CCCNC(=N)N)[NH-])C(=O)N[C@@H](CCCNC(=N)N)C(=O)N[C@@H](CCCNC(=N)N)C(=O)N[C@@H](CCCNC(=N)N)C(=O)N[C@@H](CCCNC(=N)N)C(=O)N)C(C)C)CC(=O)O)CC5=CC=C(C=C5)O)CO.[Ac]   \n",
       "3                                                                                                                                                                                                                      CC[C@H](C)[C@@H]1NC(=O)[C@H](Cc2ccc(O)cc2)NC(=O)[C@H](CC(C)C)NC(=O)[C@@H]2CCCN2C(=O)[C@@H](NC(C)=O)CSSC[C@@H](C(N)=O)NC(=O)[C@H](C(C)C)NC(=O)[C@@H]2CCCN2C(=O)[C@H](CC(=O)O)NC(=O)[C@H](Cc2ccc(O)cc2)NC(=O)[C@H](CO)NC1=O   \n",
       "4  CC[C@H](C)[C@@H]1NC(=O)[C@H](Cc2ccc(O)cc2)NC(=O)[C@H](CC(C)C)NC(=O)[C@@H]2CCCN2C(=O)[C@@H](NC(=O)[C@H](CCCNC(=N)N)NC(=O)[C@H](CCCNC(=N)N)NC(=O)[C@H](CCCNC(=N)N)NC(=O)[C@@H](CCCNC(=N)N)NC(C)=O)CSSC[C@@H](C(=O)N[C@@H](CCCNC(=N)N)C(=O)N[C@@H](CCCNC(=N)N)C(=O)N[C@@H](CCCNC(=N)N)C(=O)N[C@@H](CCCNC(=N)N)C(=O)N[C@H](CCCNC(=N)N)C(N)=O)NC(=O)[C@H](C(C)C)NC(=O)[C@@H]2CCCN2C(=O)[C@H](CC(=O)O)NC(=O)[C@H](Cc2ccc(O)cc2)NC(=O)[C@H](CO)NC1=O   \n",
       "\n",
       "   IC50     score  \n",
       "0   8.9  0.949390  \n",
       "1   1.6  0.204120  \n",
       "2   1.6  0.204120  \n",
       "3  11.0  1.041393  \n",
       "4   6.1  0.785330  "
      ]
     },
     "execution_count": 1,
     "metadata": {},
     "output_type": "execute_result"
    }
   ],
   "source": [
    "import pandas as pd\n",
    "import numpy as np\n",
    "\n",
    "pd.set_option('display.max_colwidth', None)\n",
    "\n",
    "df_data = pd.read_csv('data/kras/all.tsv', sep='\\t', header=None, names=['smi', 'IC50'])\n",
    "df_data['IC50'] = df_data['IC50'].apply(lambda x: float(x.replace(',', '')))\n",
    "df_data['score'] = df_data['IC50'].apply(lambda x: np.log10(x) if x > 0 else np.nan)\n",
    "\n",
    "df_data.to_csv('data/kras/raw/all.csv.gz', index=False, compression='gzip')\n",
    "df_data.head()\n"
   ]
  },
  {
   "cell_type": "code",
   "execution_count": 63,
   "id": "234b4875",
   "metadata": {},
   "outputs": [
    {
     "name": "stdout",
     "output_type": "stream",
     "text": [
      "x range: 0.3 20600.0\n",
      "y range: 6.882135433244682e-25 0.7034619565563733\n"
     ]
    },
    {
     "data": {
      "image/png": "[encoded data removed]",
      "text/plain": [
       "<Figure size 600x400 with 1 Axes>"
      ]
     },
     "metadata": {},
     "output_type": "display_data"
    }
   ],
   "source": [
    "import matplotlib.pyplot as plt\n",
    "from utils import plot_style_utils\n",
    "import scipy.stats as stats\n",
    "\n",
    "fig, ax = plot_style_utils.simple_ax()\n",
    "plot_style_utils.set_pub_plot_context(context=\"talk\")\n",
    "\n",
    "# plot density of scores\n",
    "scores = df_data['IC50'].values\n",
    "x_min = np.min(scores)\n",
    "x_max = np.max(scores)\n",
    "\n",
    "x = np.linspace(x_min, x_max, 50)\n",
    "y = stats.gaussian_kde(scores)(x)/sum(stats.gaussian_kde(scores)(x))\n",
    "\n",
    "print('x range:', x_min, x_max)\n",
    "print('y range:', np.min(y), np.max(y))\n",
    "\n",
    "# ax.hist(df_data['score'], bins=100, color=plot_style_utils.CAT_PALETTE[0])\n",
    "ax.plot(x, y, color=plot_style_utils.CAT_PALETTE[0])\n",
    "ax.fill_between(x, 0, y, alpha=0.3, color=plot_style_utils.CAT_PALETTE[0])\n",
    "ax.set_xlim(0, 21000)\n",
    "ax.set_ylim(0, 0.71)\n",
    "\n",
    "ax.set_xlabel('IC$_{50}$')\n",
    "ax.set_ylabel('Frequency')\n",
    "\n",
    "plot_style_utils.prettify_ax(ax)\n",
    "plot_style_utils.save_for_pub(fig=fig, path='figures/kras/kras_ic50_dist')"
   ]
  },
  {
   "cell_type": "code",
   "execution_count": 64,
   "id": "a5633fc9",
   "metadata": {},
   "outputs": [
    {
     "name": "stdout",
     "output_type": "stream",
     "text": [
      "x range: -0.5228787452803376 4.313867220369153\n",
      "y range: 0.00045804134263905267 0.03672259518787954\n"
     ]
    },
    {
     "data": {
      "image/png": "[encoded data removed]",
      "text/plain": [
       "<Figure size 600x400 with 1 Axes>"
      ]
     },
     "metadata": {},
     "output_type": "display_data"
    }
   ],
   "source": [
    "import matplotlib.pyplot as plt\n",
    "from utils import plot_style_utils\n",
    "import scipy.stats as stats\n",
    "\n",
    "fig, ax = plot_style_utils.simple_ax()\n",
    "plot_style_utils.set_pub_plot_context(context=\"talk\")\n",
    "\n",
    "# plot density of scores\n",
    "scores = df_data['score'].values\n",
    "x_min = np.min(scores)\n",
    "x_max = np.max(scores)\n",
    "\n",
    "x = np.linspace(x_min, x_max, 50)\n",
    "y = stats.gaussian_kde(scores)(x)/sum(stats.gaussian_kde(scores)(x))\n",
    "\n",
    "print('x range:', x_min, x_max)\n",
    "print('y range:', np.min(y), np.max(y))\n",
    "\n",
    "# ax.hist(df_data['score'], bins=100, color=plot_style_utils.CAT_PALETTE[0])\n",
    "ax.plot(x, y, color=plot_style_utils.CAT_PALETTE[0])\n",
    "ax.fill_between(x, 0, y, alpha=0.3, color=plot_style_utils.CAT_PALETTE[0])\n",
    "ax.set_xlim(-0.53, 4.5)\n",
    "ax.set_ylim(0, 0.04)\n",
    "\n",
    "ax.set_xlabel('log$_{10}$ (IC$_{50}$)')\n",
    "ax.set_ylabel('Frequency')\n",
    "\n",
    "plot_style_utils.prettify_ax(ax)\n",
    "plot_style_utils.save_for_pub(fig=fig, path='figures/kras/kras_ic50_log_dist')"
   ]
  },
  {
   "cell_type": "markdown",
   "id": "d9c8c9aa",
   "metadata": {},
   "source": [
    "## Feature processing"
   ]
  },
  {
   "cell_type": "markdown",
   "id": "ef83a9b6",
   "metadata": {},
   "source": [
    "### Fingerprints (fps)"
   ]
  },
  {
   "cell_type": "code",
   "execution_count": 4,
   "id": "6dd691b4",
   "metadata": {},
   "outputs": [],
   "source": [
    "import warnings\n",
    "import numpy as np\n",
    "from rdkit import Chem, rdBase, DataStructs\n",
    "from rdkit.Chem import AllChem\n",
    "from typing import List\n",
    "\n",
    "rdBase.DisableLog('rdApp.error')\n",
    "warnings.filterwarnings(\"ignore\", category=DeprecationWarning)\n",
    "warnings.filterwarnings(\"ignore\", category=UserWarning)\n",
    "warnings.filterwarnings(\"ignore\", category=FutureWarning)\n",
    "\n",
    "def fingerprints_from_smiles(smiles: List, size=2048):\n",
    "    \"\"\" Create ECFP fingerprints of smiles, with validity check \"\"\"\n",
    "    fps = []\n",
    "    valid_mask = []\n",
    "    for i, smile in enumerate(smiles):\n",
    "        mol = Chem.MolFromSmiles(smile)\n",
    "        valid_mask.append(int(mol is not None))\n",
    "        fp = fingerprints_from_mol(mol, size=size) if mol else np.zeros((1, size))\n",
    "        fps.append(fp)\n",
    "\n",
    "    fps = np.concatenate(fps, axis=0)\n",
    "    return fps, valid_mask\n",
    "\n",
    "\n",
    "def fingerprints_from_mol(molecule, radius=3, size=2048, hashed=False):\n",
    "    \"\"\" Create ECFP fingerprint of a molecule \"\"\"\n",
    "    if hashed:\n",
    "        fp_bits = AllChem.GetHashedMorganFingerprint(molecule, radius, nBits=size)\n",
    "    else:\n",
    "        fp_bits = AllChem.GetMorganFingerprintAsBitVect(molecule, radius, nBits=size)\n",
    "    fp_np = np.zeros((1,))\n",
    "    DataStructs.ConvertToNumpyArray(fp_bits, fp_np)\n",
    "    return fp_np.reshape(1, -1)"
   ]
  },
  {
   "cell_type": "code",
   "execution_count": 66,
   "id": "5918c79c",
   "metadata": {},
   "outputs": [
    {
     "data": {
      "text/plain": [
       "(2253, 2048)"
      ]
     },
     "execution_count": 66,
     "metadata": {},
     "output_type": "execute_result"
    }
   ],
   "source": [
    "# train = True\n",
    "train = False\n",
    "if train:\n",
    "    X_fps = fingerprints_from_smiles(df_data.smi)[0]\n",
    "    np.save('data/kras/processed/X_fps.npy', X_fps)\n",
    "else:\n",
    "    X_fps = np.load('data/kras/processed/X_fps.npy')\n",
    "\n",
    "X_fps.shape"
   ]
  },
  {
   "cell_type": "markdown",
   "id": "ed4154a9",
   "metadata": {},
   "source": [
    "### RDKit descriptors"
   ]
  },
  {
   "cell_type": "code",
   "execution_count": 2,
   "id": "46143ef7",
   "metadata": {},
   "outputs": [],
   "source": [
    "import warnings\n",
    "import numpy as np\n",
    "from rdkit import Chem, rdBase, DataStructs\n",
    "from rdkit.Chem import AllChem\n",
    "from typing import List\n",
    "from rdkit import rdBase, Chem\n",
    "from rdkit.Chem import Descriptors, rdMolDescriptors\n",
    "\n",
    "rdBase.DisableLog('rdApp.error')\n",
    "warnings.filterwarnings(\"ignore\", category=DeprecationWarning)\n",
    "warnings.filterwarnings(\"ignore\", category=UserWarning)\n",
    "warnings.filterwarnings(\"ignore\", category=FutureWarning)\n",
    "\n",
    "def getMolDescriptors(mol, missingVal=0):\n",
    "    \"\"\" calculate the full list of descriptors for a molecule \"\"\"\n",
    "\n",
    "    values, names = [], []\n",
    "    for nm, fn in Descriptors._descList:\n",
    "        try:\n",
    "            val = fn(mol)\n",
    "        except:\n",
    "            val = missingVal\n",
    "        values.append(val)\n",
    "        names.append(nm)\n",
    "\n",
    "    custom_descriptors = {'hydrogen-bond donors': rdMolDescriptors.CalcNumLipinskiHBD,\n",
    "                          'hydrogen-bond acceptors': rdMolDescriptors.CalcNumLipinskiHBA,\n",
    "                          'rotatable bonds': rdMolDescriptors.CalcNumRotatableBonds,}\n",
    "    for nm, fn in custom_descriptors.items():\n",
    "        try:\n",
    "            val = fn(mol)\n",
    "        except:\n",
    "            val = missingVal\n",
    "        values.append(val)\n",
    "        names.append(nm)\n",
    "    return values,names\n",
    "\n",
    "# getMolDescriptors('CC(=O)SCCCC[C@H](N)C(O)=O')"
   ]
  },
  {
   "cell_type": "markdown",
   "id": "b41c077d",
   "metadata": {},
   "source": [
    "#### Peptide descriptors"
   ]
  },
  {
   "cell_type": "code",
   "execution_count": 3,
   "id": "4bf74bf0",
   "metadata": {},
   "outputs": [],
   "source": [
    "def get_pep_dps_from_smi(smi):\n",
    "    try:\n",
    "        mol = Chem.MolFromSmiles(smi)\n",
    "    except:\n",
    "        print(f\"convert smi {smi} to molecule failed!\")\n",
    "        mol = None\n",
    "    \n",
    "    dps, _ = getMolDescriptors(mol)\n",
    "    return np.array(dps)\n",
    "\n",
    "def get_pep_dps(smi_list):\n",
    "    return np.array([get_pep_dps_from_smi(smi) for smi in smi_list])"
   ]
  },
  {
   "cell_type": "code",
   "execution_count": 5,
   "id": "89477b17",
   "metadata": {},
   "outputs": [
    {
     "data": {
      "text/plain": [
       "(2253, 211)"
      ]
     },
     "execution_count": 5,
     "metadata": {},
     "output_type": "execute_result"
    }
   ],
   "source": [
    "import numpy as np\n",
    "\n",
    "# train = True\n",
    "train = False\n",
    "if train:\n",
    "    \n",
    "    X_dps = get_pep_dps(df_data.smi)\n",
    "\n",
    "    np.save('data/kras/processed/X_dps.npy', X_dps)\n",
    "else:\n",
    "    X_dps = np.load('data/kras/processed/X_dps.npy')\n",
    "\n",
    "X_dps.shape"
   ]
  },
  {
   "cell_type": "markdown",
   "id": "c46132fd",
   "metadata": {},
   "source": [
    "## Modeling"
   ]
  },
  {
   "cell_type": "markdown",
   "id": "7048461a",
   "metadata": {},
   "source": [
    "### Final features"
   ]
  },
  {
   "cell_type": "code",
   "execution_count": 12,
   "id": "78a03e1b",
   "metadata": {},
   "outputs": [
    {
     "data": {
      "text/plain": [
       "((2253, 211), (2253,))"
      ]
     },
     "execution_count": 12,
     "metadata": {},
     "output_type": "execute_result"
    }
   ],
   "source": [
    "features = ['dps', ]\n",
    "# features = ['fps', ]\n",
    "# features = ['dps', 'fps', ]\n",
    "\n",
    "X_features = []\n",
    "for feat in features:\n",
    "    try:\n",
    "        X_feat = np.load(f'data/kras/processed/X_{feat}.npy')\n",
    "\n",
    "        X_features.append(X_feat)\n",
    "    except:\n",
    "        raise ValueError(f'Feature {feat} not supported')\n",
    "\n",
    "X = np.concatenate(X_features, axis=1)\n",
    "y = df_data['score'].values\n",
    "X.shape, y.shape"
   ]
  },
  {
   "cell_type": "code",
   "execution_count": 17,
   "id": "6d8f0f29",
   "metadata": {},
   "outputs": [],
   "source": [
    "import pickle\n",
    "\n",
    "val_split = 1\n",
    "split_file = 'data/kras/raw/scaffold_k_fold_idxes.pkl'\n",
    "with open(split_file, 'rb') as f:\n",
    "    split_idx = pickle.load(f)\n",
    "\n",
    "val_idx = split_idx[val_split]\n",
    "test_idx = split_idx[val_split+1]\n",
    "train_splits = [split_idx[i] for i in range(len(split_idx))if i != val_split+1 and i != val_split]  # the rest are training data\n",
    "train_idx = np.concatenate(train_splits, axis=0)"
   ]
  },
  {
   "cell_type": "code",
   "execution_count": 18,
   "id": "20fa3bf2",
   "metadata": {},
   "outputs": [],
   "source": [
    "X_train, X_val, X_test = X[train_idx], X[val_idx], X[test_idx]\n",
    "y_train, y_val, y_test = y[train_idx], y[val_idx], y[test_idx]"
   ]
  },
  {
   "cell_type": "markdown",
   "id": "da88b1bd",
   "metadata": {},
   "source": [
    "### XGBoost regressor"
   ]
  },
  {
   "cell_type": "code",
   "execution_count": 20,
   "id": "a832c5fa",
   "metadata": {},
   "outputs": [],
   "source": [
    "from xgboost import XGBRegressor\n",
    "import joblib\n",
    "\n",
    "from sklearn.preprocessing import StandardScaler\n",
    "\n",
    "# scale y_train to focus on small values\n",
    "# y_train = np.log(y_train)\n",
    "# y_test = np.log(y_test)\n",
    "\n",
    "scaler = StandardScaler()\n",
    "X_train = scaler.fit_transform(X_train)\n",
    "model = XGBRegressor(n_estimators=1000, max_depth=7, eta=0.1, subsample=0.7, colsample_bytree=0.8)\n",
    "model.fit(X_train, y_train)\n",
    "\n",
    "y_train_hat = model.predict(X_train)\n",
    "\n",
    "X_val = scaler.transform(X_val)\n",
    "y_val_hat = model.predict(X_val)\n",
    "X_test = scaler.transform(X_test)\n",
    "y_test_hat = model.predict(X_test)"
   ]
  },
  {
   "cell_type": "code",
   "execution_count": 21,
   "id": "0f06c702",
   "metadata": {},
   "outputs": [
    {
     "name": "stdout",
     "output_type": "stream",
     "text": [
      "Val+Test Spearman: -0.027, p-value: 0.558\n",
      "Train Spearman: 0.988, p-value: 0.000\n",
      "Val Spearman: 0.241, p-value: 0.000\n",
      "Test Spearman: -0.233, p-value: 0.000\n"
     ]
    }
   ],
   "source": [
    "from scipy import stats\n",
    "\n",
    "\n",
    "y_hat_val_test = np.concatenate([y_val_hat, y_test_hat])\n",
    "y_val_test = np.concatenate([y_val, y_test])\n",
    "spearman = stats.spearmanr(y_hat_val_test, y_val_test)\n",
    "print(f'Val+Test Spearman: {spearman[0]:.3f}, p-value: {spearman[1]:.3f}')\n",
    "\n",
    "spearman = stats.spearmanr(y_train_hat, y_train)\n",
    "print(f'Train Spearman: {spearman[0]:.3f}, p-value: {spearman[1]:.3f}')\n",
    "spearman = stats.spearmanr(y_val_hat, y_val)\n",
    "print(f'Val Spearman: {spearman[0]:.3f}, p-value: {spearman[1]:.3f}')\n",
    "spearman = stats.spearmanr(y_test_hat, y_test)\n",
    "print(f'Test Spearman: {spearman[0]:.3f}, p-value: {spearman[1]:.3f}')"
   ]
  },
  {
   "cell_type": "code",
   "execution_count": null,
   "id": "88e7a761",
   "metadata": {},
   "outputs": [],
   "source": []
  }
 ],
 "metadata": {
  "kernelspec": {
   "display_name": "Python 3 (ipykernel)",
   "language": "python",
   "name": "python3"
  },
  "language_info": {
   "codemirror_mode": {
    "name": "ipython",
    "version": 3
   },
   "file_extension": ".py",
   "mimetype": "text/x-python",
   "name": "python",
   "nbconvert_exporter": "python",
   "pygments_lexer": "ipython3",
   "version": "3.7.12"
  },
  "toc-autonumbering": true,
  "toc-showmarkdowntxt": false
 },
 "nbformat": 4,
 "nbformat_minor": 5
}
