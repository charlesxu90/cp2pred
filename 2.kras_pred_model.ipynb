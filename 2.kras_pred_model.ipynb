{
 "cells": [
  {
   "attachments": {},
   "cell_type": "markdown",
   "id": "18d2d19b",
   "metadata": {},
   "source": [
    "# K_ras peptides"
   ]
  },
  {
   "cell_type": "code",
   "execution_count": 45,
   "id": "4a4dc41c",
   "metadata": {},
   "outputs": [
    {
     "data": {
      "text/html": [
       "<div>\n",
       "<style scoped>\n",
       "    .dataframe tbody tr th:only-of-type {\n",
       "        vertical-align: middle;\n",
       "    }\n",
       "\n",
       "    .dataframe tbody tr th {\n",
       "        vertical-align: top;\n",
       "    }\n",
       "\n",
       "    .dataframe thead th {\n",
       "        text-align: right;\n",
       "    }\n",
       "</style>\n",
       "<table border=\"1\" class=\"dataframe\">\n",
       "  <thead>\n",
       "    <tr style=\"text-align: right;\">\n",
       "      <th></th>\n",
       "      <th>smi</th>\n",
       "      <th>IC50</th>\n",
       "      <th>score</th>\n",
       "    </tr>\n",
       "  </thead>\n",
       "  <tbody>\n",
       "    <tr>\n",
       "      <th>0</th>\n",
       "      <td>NC(NCCC[C@H](NC([C@@H](NC([C@@H]1CSSC[C@H](NC([C@@H](NC([C@@H](NC(=O)C)CCCNC(=[NH2+])N)=O)CCCNC(=[NH2+])N)=O)C(=O)N2[C@@H](CCC2)C(=O)N[C@@H](CC(C)C)C(=O)N[C@@H](Cc3ccc(O)cc3)C(=O)N[C@@H]([C@H](CC)C)C(=O)N[C@@H](CO)C(=O)N[C@@H](Cc4ccc(O)cc4)C(=O)N[C@@H](CC(=O)O)C(=O)N5[C@@H](CCC5)C(=O)N[C@@H](C(C)C)C(=O)N1)=O)CCCNC(=[NH2+])N)=O)C(=O)N)=[NH2+].C(F)(F)(F)C([O-])=O</td>\n",
       "      <td>8.9</td>\n",
       "      <td>0.949390</td>\n",
       "    </tr>\n",
       "    <tr>\n",
       "      <th>1</th>\n",
       "      <td>CC[C@@H](C)[C@H]1C(=O)N[C@H](C(=O)N[C@H](C(=O)N[C@H](C(=O)N2CCC[C@H]2C(=O)N[C@H](C(=O)N[C@@H](CSSC[C@@H](C(=O)N3CCC[C@H]3C(=O)N[C@H](C(=O)N[C@H](C(=O)N1)CC4=CC=C(C=C4)O)CC(C)C)NC(=O)[C@H](CCCNC(=N)N)NC(=O)[C@H](CCCNC(=N)N)NC(=O)[C@H](CCCNC(=N)N)NC(=O)[C@H](CCCNC(=N)N)[NH-])C(=O)N[C@@H](CCCNC(=N)N)C(=O)N[C@@H](CCCNC(=N)N)C(=O)N[C@@H](CCCNC(=N)N)C(=O)N[C@@H](CCCNC(=N)N)C(=O)N)C(C)C)CC(=O)O)CC5=CC=C(C=C5)O)CO.[Ac]</td>\n",
       "      <td>1.6</td>\n",
       "      <td>0.204120</td>\n",
       "    </tr>\n",
       "    <tr>\n",
       "      <th>2</th>\n",
       "      <td>CC[C@@H](C)[C@H]1C(=O)N[C@H](C(=O)N[C@H](C(=O)N[C@H](C(=O)N2CCC[C@H]2C(=O)N[C@H](C(=O)N[C@@H](CSSC[C@@H](C(=O)N3CCC[C@H]3C(=O)N[C@H](C(=O)N[C@H](C(=O)N1)CC4=CC=C(C=C4)O)CC(C)C)NC(=O)[C@H](CCCNC(=N)N)NC(=O)[C@H](CCCNC(=N)N)NC(=O)[C@H](CCCNC(=N)N)NC(=O)[C@H](CCCNC(=N)N)[NH-])C(=O)N[C@@H](CCCNC(=N)N)C(=O)N[C@@H](CCCNC(=N)N)C(=O)N[C@@H](CCCNC(=N)N)C(=O)N[C@@H](CCCNC(=N)N)C(=O)N)C(C)C)CC(=O)O)CC5=CC=C(C=C5)O)CO.[Ac]</td>\n",
       "      <td>1.6</td>\n",
       "      <td>0.204120</td>\n",
       "    </tr>\n",
       "    <tr>\n",
       "      <th>3</th>\n",
       "      <td>CC[C@H](C)[C@@H]1NC(=O)[C@H](Cc2ccc(O)cc2)NC(=O)[C@H](CC(C)C)NC(=O)[C@@H]2CCCN2C(=O)[C@@H](NC(C)=O)CSSC[C@@H](C(N)=O)NC(=O)[C@H](C(C)C)NC(=O)[C@@H]2CCCN2C(=O)[C@H](CC(=O)O)NC(=O)[C@H](Cc2ccc(O)cc2)NC(=O)[C@H](CO)NC1=O</td>\n",
       "      <td>11.0</td>\n",
       "      <td>1.041393</td>\n",
       "    </tr>\n",
       "    <tr>\n",
       "      <th>4</th>\n",
       "      <td>CC[C@H](C)[C@@H]1NC(=O)[C@H](Cc2ccc(O)cc2)NC(=O)[C@H](CC(C)C)NC(=O)[C@@H]2CCCN2C(=O)[C@@H](NC(=O)[C@H](CCCNC(=N)N)NC(=O)[C@H](CCCNC(=N)N)NC(=O)[C@H](CCCNC(=N)N)NC(=O)[C@@H](CCCNC(=N)N)NC(C)=O)CSSC[C@@H](C(=O)N[C@@H](CCCNC(=N)N)C(=O)N[C@@H](CCCNC(=N)N)C(=O)N[C@@H](CCCNC(=N)N)C(=O)N[C@@H](CCCNC(=N)N)C(=O)N[C@H](CCCNC(=N)N)C(N)=O)NC(=O)[C@H](C(C)C)NC(=O)[C@@H]2CCCN2C(=O)[C@H](CC(=O)O)NC(=O)[C@H](Cc2ccc(O)cc2)NC(=O)[C@H](CO)NC1=O</td>\n",
       "      <td>6.1</td>\n",
       "      <td>0.785330</td>\n",
       "    </tr>\n",
       "  </tbody>\n",
       "</table>\n",
       "</div>"
      ],
      "text/plain": [
       "                                                                                                                                                                                                                                                                                                                                                                                                                                             smi  \\\n",
       "0                                                                    NC(NCCC[C@H](NC([C@@H](NC([C@@H]1CSSC[C@H](NC([C@@H](NC([C@@H](NC(=O)C)CCCNC(=[NH2+])N)=O)CCCNC(=[NH2+])N)=O)C(=O)N2[C@@H](CCC2)C(=O)N[C@@H](CC(C)C)C(=O)N[C@@H](Cc3ccc(O)cc3)C(=O)N[C@@H]([C@H](CC)C)C(=O)N[C@@H](CO)C(=O)N[C@@H](Cc4ccc(O)cc4)C(=O)N[C@@H](CC(=O)O)C(=O)N5[C@@H](CCC5)C(=O)N[C@@H](C(C)C)C(=O)N1)=O)CCCNC(=[NH2+])N)=O)C(=O)N)=[NH2+].C(F)(F)(F)C([O-])=O   \n",
       "1                 CC[C@@H](C)[C@H]1C(=O)N[C@H](C(=O)N[C@H](C(=O)N[C@H](C(=O)N2CCC[C@H]2C(=O)N[C@H](C(=O)N[C@@H](CSSC[C@@H](C(=O)N3CCC[C@H]3C(=O)N[C@H](C(=O)N[C@H](C(=O)N1)CC4=CC=C(C=C4)O)CC(C)C)NC(=O)[C@H](CCCNC(=N)N)NC(=O)[C@H](CCCNC(=N)N)NC(=O)[C@H](CCCNC(=N)N)NC(=O)[C@H](CCCNC(=N)N)[NH-])C(=O)N[C@@H](CCCNC(=N)N)C(=O)N[C@@H](CCCNC(=N)N)C(=O)N[C@@H](CCCNC(=N)N)C(=O)N[C@@H](CCCNC(=N)N)C(=O)N)C(C)C)CC(=O)O)CC5=CC=C(C=C5)O)CO.[Ac]   \n",
       "2                 CC[C@@H](C)[C@H]1C(=O)N[C@H](C(=O)N[C@H](C(=O)N[C@H](C(=O)N2CCC[C@H]2C(=O)N[C@H](C(=O)N[C@@H](CSSC[C@@H](C(=O)N3CCC[C@H]3C(=O)N[C@H](C(=O)N[C@H](C(=O)N1)CC4=CC=C(C=C4)O)CC(C)C)NC(=O)[C@H](CCCNC(=N)N)NC(=O)[C@H](CCCNC(=N)N)NC(=O)[C@H](CCCNC(=N)N)NC(=O)[C@H](CCCNC(=N)N)[NH-])C(=O)N[C@@H](CCCNC(=N)N)C(=O)N[C@@H](CCCNC(=N)N)C(=O)N[C@@H](CCCNC(=N)N)C(=O)N[C@@H](CCCNC(=N)N)C(=O)N)C(C)C)CC(=O)O)CC5=CC=C(C=C5)O)CO.[Ac]   \n",
       "3                                                                                                                                                                                                                      CC[C@H](C)[C@@H]1NC(=O)[C@H](Cc2ccc(O)cc2)NC(=O)[C@H](CC(C)C)NC(=O)[C@@H]2CCCN2C(=O)[C@@H](NC(C)=O)CSSC[C@@H](C(N)=O)NC(=O)[C@H](C(C)C)NC(=O)[C@@H]2CCCN2C(=O)[C@H](CC(=O)O)NC(=O)[C@H](Cc2ccc(O)cc2)NC(=O)[C@H](CO)NC1=O   \n",
       "4  CC[C@H](C)[C@@H]1NC(=O)[C@H](Cc2ccc(O)cc2)NC(=O)[C@H](CC(C)C)NC(=O)[C@@H]2CCCN2C(=O)[C@@H](NC(=O)[C@H](CCCNC(=N)N)NC(=O)[C@H](CCCNC(=N)N)NC(=O)[C@H](CCCNC(=N)N)NC(=O)[C@@H](CCCNC(=N)N)NC(C)=O)CSSC[C@@H](C(=O)N[C@@H](CCCNC(=N)N)C(=O)N[C@@H](CCCNC(=N)N)C(=O)N[C@@H](CCCNC(=N)N)C(=O)N[C@@H](CCCNC(=N)N)C(=O)N[C@H](CCCNC(=N)N)C(N)=O)NC(=O)[C@H](C(C)C)NC(=O)[C@@H]2CCCN2C(=O)[C@H](CC(=O)O)NC(=O)[C@H](Cc2ccc(O)cc2)NC(=O)[C@H](CO)NC1=O   \n",
       "\n",
       "   IC50     score  \n",
       "0   8.9  0.949390  \n",
       "1   1.6  0.204120  \n",
       "2   1.6  0.204120  \n",
       "3  11.0  1.041393  \n",
       "4   6.1  0.785330  "
      ]
     },
     "execution_count": 45,
     "metadata": {},
     "output_type": "execute_result"
    }
   ],
   "source": [
    "import pandas as pd\n",
    "import numpy as np\n",
    "\n",
    "pd.set_option('display.max_colwidth', None)\n",
    "\n",
    "df_data = pd.read_csv('data/kras/all.tsv', sep='\\t', header=None, names=['smi', 'IC50'])\n",
    "df_data['IC50'] = df_data['IC50'].apply(lambda x: float(x.replace(',', '')))\n",
    "df_data['score'] = df_data['IC50'].apply(lambda x: np.log10(x) if x > 0 else np.nan)\n",
    "\n",
    "df_data.to_csv('data/kras/raw/all.csv.gz', index=False, compression='gzip')\n",
    "df_data.head()\n"
   ]
  },
  {
   "cell_type": "code",
   "execution_count": 63,
   "id": "234b4875",
   "metadata": {},
   "outputs": [
    {
     "name": "stdout",
     "output_type": "stream",
     "text": [
      "x range: 0.3 20600.0\n",
      "y range: 6.882135433244682e-25 0.7034619565563733\n"
     ]
    },
    {
     "data": {
      "image/png": "[encoded data removed]",
      "text/plain": [
       "<Figure size 600x400 with 1 Axes>"
      ]
     },
     "metadata": {},
     "output_type": "display_data"
    }
   ],
   "source": [
    "import matplotlib.pyplot as plt\n",
    "from utils import plot_style_utils\n",
    "import scipy.stats as stats\n",
    "\n",
    "fig, ax = plot_style_utils.simple_ax()\n",
    "plot_style_utils.set_pub_plot_context(context=\"talk\")\n",
    "\n",
    "# plot density of scores\n",
    "scores = df_data['IC50'].values\n",
    "x_min = np.min(scores)\n",
    "x_max = np.max(scores)\n",
    "\n",
    "x = np.linspace(x_min, x_max, 50)\n",
    "y = stats.gaussian_kde(scores)(x)/sum(stats.gaussian_kde(scores)(x))\n",
    "\n",
    "print('x range:', x_min, x_max)\n",
    "print('y range:', np.min(y), np.max(y))\n",
    "\n",
    "# ax.hist(df_data['score'], bins=100, color=plot_style_utils.CAT_PALETTE[0])\n",
    "ax.plot(x, y, color=plot_style_utils.CAT_PALETTE[0])\n",
    "ax.fill_between(x, 0, y, alpha=0.3, color=plot_style_utils.CAT_PALETTE[0])\n",
    "ax.set_xlim(0, 21000)\n",
    "ax.set_ylim(0, 0.71)\n",
    "\n",
    "ax.set_xlabel('IC$_{50}$')\n",
    "ax.set_ylabel('Frequency')\n",
    "\n",
    "plot_style_utils.prettify_ax(ax)\n",
    "plot_style_utils.save_for_pub(fig=fig, path='figures/kras/kras_ic50_dist')"
   ]
  },
  {
   "cell_type": "code",
   "execution_count": 64,
   "id": "a5633fc9",
   "metadata": {},
   "outputs": [
    {
     "name": "stdout",
     "output_type": "stream",
     "text": [
      "x range: -0.5228787452803376 4.313867220369153\n",
      "y range: 0.00045804134263905267 0.03672259518787954\n"
     ]
    },
    {
     "data": {
      "image/png": "[encoded data removed]",
      "text/plain": [
       "<Figure size 600x400 with 1 Axes>"
      ]
     },
     "metadata": {},
     "output_type": "display_data"
    }
   ],
   "source": [
    "import matplotlib.pyplot as plt\n",
    "from utils import plot_style_utils\n",
    "import scipy.stats as stats\n",
    "\n",
    "fig, ax = plot_style_utils.simple_ax()\n",
    "plot_style_utils.set_pub_plot_context(context=\"talk\")\n",
    "\n",
    "# plot density of scores\n",
    "scores = df_data['score'].values\n",
    "x_min = np.min(scores)\n",
    "x_max = np.max(scores)\n",
    "\n",
    "x = np.linspace(x_min, x_max, 50)\n",
    "y = stats.gaussian_kde(scores)(x)/sum(stats.gaussian_kde(scores)(x))\n",
    "\n",
    "print('x range:', x_min, x_max)\n",
    "print('y range:', np.min(y), np.max(y))\n",
    "\n",
    "# ax.hist(df_data['score'], bins=100, color=plot_style_utils.CAT_PALETTE[0])\n",
    "ax.plot(x, y, color=plot_style_utils.CAT_PALETTE[0])\n",
    "ax.fill_between(x, 0, y, alpha=0.3, color=plot_style_utils.CAT_PALETTE[0])\n",
    "ax.set_xlim(-0.53, 4.5)\n",
    "ax.set_ylim(0, 0.04)\n",
    "\n",
    "ax.set_xlabel('log$_{10}$ (IC$_{50}$)')\n",
    "ax.set_ylabel('Frequency')\n",
    "\n",
    "plot_style_utils.prettify_ax(ax)\n",
    "plot_style_utils.save_for_pub(fig=fig, path='figures/kras/kras_ic50_log_dist')"
   ]
  },
  {
   "cell_type": "markdown",
   "id": "d9c8c9aa",
   "metadata": {},
   "source": [
    "## Feature processing"
   ]
  },
  {
   "cell_type": "markdown",
   "id": "ef83a9b6",
   "metadata": {},
   "source": [
    "### Fingerprints (fps)"
   ]
  },
  {
   "cell_type": "code",
   "execution_count": 4,
   "id": "6dd691b4",
   "metadata": {},
   "outputs": [],
   "source": [
    "import warnings\n",
    "import numpy as np\n",
    "from rdkit import Chem, rdBase, DataStructs\n",
    "from rdkit.Chem import AllChem\n",
    "from typing import List\n",
    "\n",
    "rdBase.DisableLog('rdApp.error')\n",
    "warnings.filterwarnings(\"ignore\", category=DeprecationWarning)\n",
    "warnings.filterwarnings(\"ignore\", category=UserWarning)\n",
    "warnings.filterwarnings(\"ignore\", category=FutureWarning)\n",
    "\n",
    "def fingerprints_from_smiles(smiles: List, size=2048):\n",
    "    \"\"\" Create ECFP fingerprints of smiles, with validity check \"\"\"\n",
    "    fps = []\n",
    "    valid_mask = []\n",
    "    for i, smile in enumerate(smiles):\n",
    "        mol = Chem.MolFromSmiles(smile)\n",
    "        valid_mask.append(int(mol is not None))\n",
    "        fp = fingerprints_from_mol(mol, size=size) if mol else np.zeros((1, size))\n",
    "        fps.append(fp)\n",
    "\n",
    "    fps = np.concatenate(fps, axis=0)\n",
    "    return fps, valid_mask\n",
    "\n",
    "\n",
    "def fingerprints_from_mol(molecule, radius=3, size=2048, hashed=False):\n",
    "    \"\"\" Create ECFP fingerprint of a molecule \"\"\"\n",
    "    if hashed:\n",
    "        fp_bits = AllChem.GetHashedMorganFingerprint(molecule, radius, nBits=size)\n",
    "    else:\n",
    "        fp_bits = AllChem.GetMorganFingerprintAsBitVect(molecule, radius, nBits=size)\n",
    "    fp_np = np.zeros((1,))\n",
    "    DataStructs.ConvertToNumpyArray(fp_bits, fp_np)\n",
    "    return fp_np.reshape(1, -1)"
   ]
  },
  {
   "cell_type": "code",
   "execution_count": 66,
   "id": "5918c79c",
   "metadata": {},
   "outputs": [
    {
     "data": {
      "text/plain": [
       "(2253, 2048)"
      ]
     },
     "execution_count": 66,
     "metadata": {},
     "output_type": "execute_result"
    }
   ],
   "source": [
    "# train = True\n",
    "train = False\n",
    "if train:\n",
    "    X_fps = fingerprints_from_smiles(df_data.smi)[0]\n",
    "    np.save('data/kras/processed/X_fps.npy', X_fps)\n",
    "else:\n",
    "    X_fps = np.load('data/kras/processed/X_fps.npy')\n",
    "\n",
    "X_fps.shape"
   ]
  },
  {
   "cell_type": "markdown",
   "id": "2a669097",
   "metadata": {},
   "source": [
    "### BERT features"
   ]
  },
  {
   "cell_type": "code",
   "execution_count": 15,
   "id": "2300b788",
   "metadata": {},
   "outputs": [],
   "source": [
    "from smi_bert.dataset.tokenizer import SmilesTokenizer\n",
    "from smi_bert.model.bert import BERT\n",
    "from utils.utils import parse_config, load_model\n",
    "import torch\n",
    "\n",
    "def load_bert_model(ckpt, config, device='cuda', model_type='smi_bert'):\n",
    "    if model_type == 'smi_bert':\n",
    "        tokenizer = SmilesTokenizer(max_len=config.data.max_len)\n",
    "    else:\n",
    "        raise ValueError(f'Invalid model_type: {model_type}')\n",
    "\n",
    "    model = BERT(tokenizer, **config.model)\n",
    "    model = load_model(model, ckpt, device)\n",
    "    model.eval()\n",
    "    return model, device\n",
    "\n",
    "def get_bert_embd(encoder, inputs, device='cuda',):\n",
    "    with torch.no_grad():\n",
    "        tokens = encoder.tokenize_inputs(inputs).to(device)\n",
    "        batch_lens = (tokens != encoder.tokenizer.pad_token_id).sum(1)\n",
    "        embd = encoder.embed(tokens)\n",
    "        reps = []\n",
    "        for i, tokens_len in enumerate(batch_lens):\n",
    "            reps.append(embd[i, 1 : tokens_len - 1].mean(0))\n",
    "    return torch.stack(reps)\n",
    "\n",
    "def encode_with_bert(list, model, device='cuda', batch_size=128):\n",
    "    model.to(device)\n",
    "    reps = []\n",
    "    for i in range(0, len(list), batch_size):\n",
    "        reps.append(get_bert_embd(model, list[i : i + batch_size], device=device))\n",
    "    reps = torch.cat(reps).cpu().numpy()\n",
    "    # logger.info(f\"list shape: {list.shape}, reps shape: {reps.shape}\")\n",
    "    return reps"
   ]
  },
  {
   "cell_type": "markdown",
   "id": "b3332ba3",
   "metadata": {},
   "source": [
    "#### SMILES BERT"
   ]
  },
  {
   "cell_type": "code",
   "execution_count": 16,
   "id": "c54f400f",
   "metadata": {},
   "outputs": [
    {
     "data": {
      "text/plain": [
       "((1802, 512), (1802,), (451, 512), (451,))"
      ]
     },
     "execution_count": 16,
     "metadata": {},
     "output_type": "execute_result"
    }
   ],
   "source": [
    "# train = True\n",
    "train = False\n",
    "if train:\n",
    "    ckpt='results/smi_bert/pretrain_ft/model_final_0.230.pt'  # 0.555\t0.809\t0.339\t0.705\t0.588\n",
    "    config_file='smi_bert/pretrain_config.yaml'\n",
    "    config = parse_config(config_file)\n",
    "    model, device = load_bert_model(ckpt=ckpt, config=config)\n",
    "\n",
    "    X_smi_bert = encode_with_bert(df_data.smi, model)\n",
    "\n",
    "    np.save('data/kras/X_train_smi_bert.npy', X_smi_bert)\n",
    "else:\n",
    "    X_smi_bert = np.load('data/kras/X_train_smi_bert.npy')\n",
    "\n",
    "X_smi_bert.shape"
   ]
  },
  {
   "cell_type": "markdown",
   "id": "ed4154a9",
   "metadata": {},
   "source": [
    "### RDKit descriptors"
   ]
  },
  {
   "cell_type": "code",
   "execution_count": 17,
   "id": "46143ef7",
   "metadata": {},
   "outputs": [],
   "source": [
    "import warnings\n",
    "import numpy as np\n",
    "from rdkit import Chem, rdBase, DataStructs\n",
    "from rdkit.Chem import AllChem\n",
    "from typing import List\n",
    "from rdkit import rdBase, Chem\n",
    "from rdkit.Chem import Descriptors, rdMolDescriptors\n",
    "\n",
    "rdBase.DisableLog('rdApp.error')\n",
    "warnings.filterwarnings(\"ignore\", category=DeprecationWarning)\n",
    "warnings.filterwarnings(\"ignore\", category=UserWarning)\n",
    "warnings.filterwarnings(\"ignore\", category=FutureWarning)\n",
    "\n",
    "def getMolDescriptors(mol, missingVal=0):\n",
    "    \"\"\" calculate the full list of descriptors for a molecule \"\"\"\n",
    "\n",
    "    values, names = [], []\n",
    "    for nm, fn in Descriptors._descList:\n",
    "        try:\n",
    "            val = fn(mol)\n",
    "        except:\n",
    "            val = missingVal\n",
    "        values.append(val)\n",
    "        names.append(nm)\n",
    "\n",
    "    custom_descriptors = {'hydrogen-bond donors': rdMolDescriptors.CalcNumLipinskiHBD,\n",
    "                          'hydrogen-bond acceptors': rdMolDescriptors.CalcNumLipinskiHBA,\n",
    "                          'rotatable bonds': rdMolDescriptors.CalcNumRotatableBonds,}\n",
    "    for nm, fn in custom_descriptors.items():\n",
    "        try:\n",
    "            val = fn(mol)\n",
    "        except:\n",
    "            val = missingVal\n",
    "        values.append(val)\n",
    "        names.append(nm)\n",
    "    return values,names\n",
    "\n",
    "# getMolDescriptors('CC(=O)SCCCC[C@H](N)C(O)=O')"
   ]
  },
  {
   "cell_type": "markdown",
   "id": "b41c077d",
   "metadata": {},
   "source": [
    "#### Peptide descriptors"
   ]
  },
  {
   "cell_type": "code",
   "execution_count": 18,
   "id": "4bf74bf0",
   "metadata": {},
   "outputs": [],
   "source": [
    "def get_pep_dps_from_smi(smi):\n",
    "    try:\n",
    "        mol = Chem.MolFromSmiles(smi)\n",
    "    except:\n",
    "        print(f\"convert smi {smi} to molecule failed!\")\n",
    "        mol = None\n",
    "    \n",
    "    dps, _ = getMolDescriptors(mol)\n",
    "    return np.array(dps)\n",
    "\n",
    "def get_pep_dps(smi_list):\n",
    "    return np.array([get_pep_dps_from_smi(smi) for smi in smi_list])"
   ]
  },
  {
   "cell_type": "code",
   "execution_count": 67,
   "id": "89477b17",
   "metadata": {},
   "outputs": [
    {
     "data": {
      "text/plain": [
       "(2253, 211)"
      ]
     },
     "execution_count": 67,
     "metadata": {},
     "output_type": "execute_result"
    },
    {
     "ename": "",
     "evalue": "",
     "output_type": "error",
     "traceback": [
      "\u001b[1;31mThe Kernel crashed while executing code in the the current cell or a previous cell. Please review the code in the cell(s) to identify a possible cause of the failure. Click <a href='https://aka.ms/vscodeJupyterKernelCrash'>here</a> for more info. View Jupyter <a href='command:jupyter.viewOutput'>log</a> for further details."
     ]
    }
   ],
   "source": [
    "import numpy as np\n",
    "\n",
    "# train = True\n",
    "train = False\n",
    "if train:\n",
    "    \n",
    "    X_dps = get_pep_dps(df_data.smi)\n",
    "\n",
    "    np.save('data/kras/processed/X_dps.npy', X_dps)\n",
    "else:\n",
    "    X_dps = np.load('data/kras/processed/X_dps.npy')\n",
    "\n",
    "X_dps.shape"
   ]
  },
  {
   "cell_type": "markdown",
   "id": "7d1733c7",
   "metadata": {},
   "source": [
    "### ResNet features"
   ]
  },
  {
   "cell_type": "code",
   "execution_count": 21,
   "id": "5ffdb995",
   "metadata": {},
   "outputs": [],
   "source": [
    "from utils.utils import parse_config, load_model\n",
    "from image_mol.model.resnet import init_model\n",
    "from image_mol.model.molcl import MolCL\n",
    "\n",
    "ckpt_file='results/resnet/pretrain/model_9_0.775.pt'\n",
    "config_file='image_mol/pretrain_config.yaml'\n",
    "device='cuda'\n",
    "\n",
    "config = parse_config(config_file)\n",
    "resnet = init_model(**config.model.resnet)\n",
    "model = MolCL(resnet, device, **config.model.molcl)\n",
    "\n",
    "model = load_model(model, ckpt_file, device)"
   ]
  },
  {
   "cell_type": "code",
   "execution_count": 22,
   "id": "dd81b590",
   "metadata": {},
   "outputs": [],
   "source": [
    "resnet = model.encoder\n",
    "from torch import nn\n",
    "for r, c in zip(list(resnet.children())[:-1], list(model.encoder.children())):\n",
    "    r = c"
   ]
  },
  {
   "cell_type": "code",
   "execution_count": 24,
   "id": "f7a898e5",
   "metadata": {},
   "outputs": [],
   "source": [
    "from torchvision import transforms\n",
    "import torch\n",
    "import cv2\n",
    "from utils.utils import parse_config, load_model\n",
    "from image_mol.model.resnet import init_model\n",
    "from image_mol.model.molcl import MolCL\n",
    "\n",
    "def load_molcl_model(ckpt_file='results/resnet/pretrain/model_9_0.775.pt', config_file='image_mol/pretrain_config.yaml', device='cuda'):\n",
    "    config = parse_config(config_file)\n",
    "    resnet = init_model(**config.model.resnet)\n",
    "    model = MolCL(resnet, device, **config.model.molcl)\n",
    "\n",
    "    model = load_model(model, ckpt_file, device)\n",
    "    return model\n",
    "\n",
    "def get_resnet_embd(model, img):\n",
    "    with torch.no_grad():\n",
    "        embd = model.get_img_embd(img)\n",
    "    return embd\n",
    "\n",
    "def load_transform_img(img_paths, transform):\n",
    "    imgs = [transform(cv2.imread(fp)) for fp in img_paths]\n",
    "    img = torch.stack(imgs)\n",
    "    return img\n",
    "\n",
    "def encode_with_molcl(list, model, device='cuda', batch_size=80, image_size=500):\n",
    "    transform = transforms.Compose([transforms.ToPILImage(), transforms.Resize((image_size, image_size)), transforms.ToTensor(), transforms.Normalize(mean=[0.5, 0.5, 0.5], std=[0.5, 0.5, 0.5]),])\n",
    "    reps = []\n",
    "    model.to(device)\n",
    "    for i in range(0, len(list), batch_size):\n",
    "        img_paths = list[i : i + batch_size]\n",
    "        img = load_transform_img(img_paths, transform)\n",
    "        img = img.to(device)\n",
    "        reps.append(get_resnet_embd(model, img))\n",
    "    reps = torch.cat(reps).cpu().numpy()\n",
    "    # logger.info(f\"list shape: {list.shape}, reps shape: {reps.shape}\")\n",
    "    return reps\n",
    "\n",
    "# encode_with_resnet([\"data/gradcam/cycpep_0.png\"], model)"
   ]
  },
  {
   "cell_type": "code",
   "execution_count": null,
   "id": "29c15f1b",
   "metadata": {},
   "outputs": [],
   "source": [
    "import numpy as np\n",
    "\n",
    "# train = True\n",
    "train = False\n",
    "if train:\n",
    "    model = load_molcl_model()\n",
    "    X_train = encode_with_molcl(df_train.smi_img, model)\n",
    "    X_test = encode_with_molcl(df_test.smi_img, model)\n",
    "\n",
    "    np.save('data/kras/X_train_molimg_embd.npy', X_train)\n",
    "    np.save('data/kras/X_test_molimg_embd.npy', X_test)\n",
    "else:\n",
    "    X_train = np.load('data/kras/X_train_molimg_embd.npy')\n",
    "    X_test = np.load('data/kras/X_test_molimg_embd.npy')\n",
    "\n",
    "X_train.shape, y_train.shape, X_test.shape, y_test.shape"
   ]
  },
  {
   "cell_type": "markdown",
   "id": "c46132fd",
   "metadata": {},
   "source": [
    "## Modeling"
   ]
  },
  {
   "cell_type": "markdown",
   "id": "7048461a",
   "metadata": {},
   "source": [
    "### Final features"
   ]
  },
  {
   "cell_type": "code",
   "execution_count": 43,
   "id": "78a03e1b",
   "metadata": {},
   "outputs": [
    {
     "data": {
      "text/plain": [
       "((1802, 512), (1802,), (451, 512), (451,))"
      ]
     },
     "execution_count": 43,
     "metadata": {},
     "output_type": "execute_result"
    }
   ],
   "source": [
    "# features = ['pep_dps', ]\n",
    "# features = ['fps', ]\n",
    "features = ['smi_bert', ]\n",
    "# features = ['molimg_embd', ]\n",
    "\n",
    "# features = ['pep_dps', 'fps', ]\n",
    "# features = ['pep_dps', 'smi_bert', ]\n",
    "# features = ['fps', 'smi_bert', ]\n",
    "\n",
    "# features = ['fps', 'pep_dps', 'smi_bert', ]\n",
    "# features = ['fps', 'pep_dps', 'molimg_embd', ]\n",
    "\n",
    "X_train_features = []\n",
    "X_test_features = []\n",
    "for feat in features:\n",
    "    try:\n",
    "        X_train = np.load(f'data/kras/X_train_{feat}.npy')\n",
    "        X_test = np.load(f'data/kras/X_test_{feat}.npy')\n",
    "\n",
    "        X_train_features.append(X_train)\n",
    "        X_test_features.append(X_test)\n",
    "    except:\n",
    "        raise ValueError(f'Feature {feat} not supported')\n",
    "\n",
    "X_train = np.concatenate(X_train_features, axis=1)\n",
    "X_test = np.concatenate(X_test_features, axis=1)\n",
    "\n",
    "X_train.shape, y_train.shape, X_test.shape, y_test.shape"
   ]
  },
  {
   "cell_type": "code",
   "execution_count": 38,
   "id": "94e8beb6",
   "metadata": {},
   "outputs": [],
   "source": [
    "import matplotlib.pyplot as plt\n",
    "from utils.utils import get_regresssion_metrics\n",
    "\n",
    "def plot_scatter_y(y, y_hat, x_label='y', y_label='y_hat', save_path=None):\n",
    "    plt.scatter(y, y_hat, alpha=0.1)\n",
    "    get_regresssion_metrics(y, y_hat)\n",
    "    mae = np.mean(np.abs(y - y_hat))\n",
    "    print(f'MAE: {mae:.3f}, y mean: {np.mean(y):.3f}, y_hat mean: {np.mean(y_hat):.3f}')\n",
    "    plt.xlabel(x_label)\n",
    "    plt.ylabel(y_label)\n",
    "    if save_path:\n",
    "        plt.savefig(save_path+f'_{mae:.3f}.pdf', dpi=300, bbox_inches='tight')\n",
    "    plt.show()"
   ]
  },
  {
   "cell_type": "markdown",
   "id": "da88b1bd",
   "metadata": {},
   "source": [
    "### XGBoost regressor"
   ]
  },
  {
   "cell_type": "code",
   "execution_count": 44,
   "id": "a832c5fa",
   "metadata": {},
   "outputs": [
    {
     "name": "stdout",
     "output_type": "stream",
     "text": [
      "MAE \t MSE \t R2 \t Spearman \t Pearson\n",
      "1.827\t5.250\t-33.218\t0.278\t0.309\n",
      "MAE: 1.827, y mean: 2.398, y_hat mean: 1.303\n"
     ]
    },
    {
     "data": {
      "image/png": "[encoded data removed]",
      "text/plain": [
       "<Figure size 640x480 with 1 Axes>"
      ]
     },
     "metadata": {},
     "output_type": "display_data"
    }
   ],
   "source": [
    "from xgboost import XGBRegressor\n",
    "import joblib\n",
    "\n",
    "from sklearn.preprocessing import StandardScaler\n",
    "\n",
    "is_save = False\n",
    "save_path='data/kras/fps_xgbr.model'\n",
    "\n",
    "# scale y_train to focus on small values\n",
    "# y_train = np.log(y_train)\n",
    "# y_test = np.log(y_test)\n",
    "\n",
    "scaler = StandardScaler()\n",
    "X_train = scaler.fit_transform(X_train)\n",
    "model = XGBRegressor(n_estimators=1000, max_depth=7, eta=0.1, subsample=0.7, colsample_bytree=0.8)\n",
    "model.fit(X_train, y_train)\n",
    "# if is_save:\n",
    "#     joblib.dump(model, save_path)\n",
    "#     model = joblib.load(save_path)\n",
    "y_hat = model.predict(X_test)\n",
    "plot_scatter_y(y_test, y_hat, x_label='y_test', y_label='y_hat_test', save_path=save_path)"
   ]
  },
  {
   "cell_type": "code",
   "execution_count": null,
   "id": "88e7a761",
   "metadata": {},
   "outputs": [],
   "source": []
  }
 ],
 "metadata": {
  "kernelspec": {
   "display_name": "Python 3 (ipykernel)",
   "language": "python",
   "name": "python3"
  },
  "language_info": {
   "codemirror_mode": {
    "name": "ipython",
    "version": 3
   },
   "file_extension": ".py",
   "mimetype": "text/x-python",
   "name": "python",
   "nbconvert_exporter": "python",
   "pygments_lexer": "ipython3",
   "version": "3.7.12"
  },
  "toc-autonumbering": true,
  "toc-showmarkdowntxt": false
 },
 "nbformat": 4,
 "nbformat_minor": 5
}
